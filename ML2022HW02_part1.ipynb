{
  "cells": [
    {
      "cell_type": "markdown",
      "metadata": {
        "id": "view-in-github",
        "colab_type": "text"
      },
      "source": [
        "<a href=\"https://colab.research.google.com/github/annykay/AppliedStatistics/blob/main/ML2022HW02_part1.ipynb\" target=\"_parent\"><img src=\"https://colab.research.google.com/assets/colab-badge.svg\" alt=\"Open In Colab\"/></a>"
      ]
    },
    {
      "cell_type": "markdown",
      "id": "approved-psychology",
      "metadata": {
        "id": "approved-psychology"
      },
      "source": [
        "# Home Assignment No. 2 - part one\n",
        "\n",
        "To solve this task, you will write a lot of code to try several machine learning methods for classification and regression.\n",
        "* You are **HIGHLY RECOMMENDED** to read relevant documentation, e.g. for [python](https://docs.python.org/3/), [numpy](https://docs.scipy.org/doc/numpy/reference/), [matlpotlib](https://matplotlib.org/) and [sklearn](https://scikit-learn.org/stable/). Also remember that seminars, lecture slides, [Google](http://google.com) and [StackOverflow](https://stackoverflow.com/) are your close friends during this course (and, probably, whole life?).\n",
        "\n",
        "* If you want an easy life, you have to use **BUILT-IN METHODS** of `sklearn` library instead of writing tons of your own code. There exists a class/method for almost everything you can imagine (related to this homework).\n",
        "\n",
        "* You have to write **CODE** directly inside specified places marked by comments: **BEGIN/END Solution**. Do not create new cells.\n",
        "\n",
        "* In some problems you are asked to provide a short discussion of the results. For that find the specific place marked via **Your text answer: \\<write your answer\\>**.\n",
        "\n",
        "* For every separate problem or subproblem (if specified) you can get only 0 points or maximal points for this problem. There are **NO INTERMEDIATE scores**. So make sure that you did everything required in the task.\n",
        "\n",
        "* Your **SOLUTION** notebook **MUST BE REPRODUCIBLE**, i.e., if the reviewer decides to restart the notebook and run all cells, after all the computation he will obtain exactly the same solution (with all the corresponding plots) as in your uploaded notebook. For this purpose, we suggest fixing random `seed` or (better) define `random_state=` inside every algorithm that uses some pseudorandomness.\n",
        "\n",
        "* Your code must be clear to the reviewer. For this purpose, try to include necessary comments inside the code. But remember: **GOOD CODE MUST BE SELF-EXPLANATORY** without any additional comments.\n",
        "\n",
        "* Many `sklearn` algorithms support multithreading (Ensemble Methods, Cross-Validation, etc.). Check if the particular algorithm has `n_jobs` parameters and set it to `-1` to use all the cores.\n"
      ]
    },
    {
      "cell_type": "code",
      "execution_count": null,
      "id": "cooperative-spokesman",
      "metadata": {
        "id": "cooperative-spokesman"
      },
      "outputs": [],
      "source": [
        "import numpy as np\n",
        "import sklearn\n",
        "from sklearn.model_selection import train_test_split\n",
        "import pandas as pd\n",
        "import matplotlib.pyplot as plt\n",
        "from sklearn.model_selection import cross_val_score\n",
        "%matplotlib inline"
      ]
    },
    {
      "cell_type": "code",
      "execution_count": null,
      "id": "noted-bridal",
      "metadata": {
        "id": "noted-bridal"
      },
      "outputs": [],
      "source": [
        "import warnings\n",
        "warnings.filterwarnings(\"ignore\")"
      ]
    },
    {
      "cell_type": "markdown",
      "id": "guilty-contamination",
      "metadata": {
        "id": "guilty-contamination"
      },
      "source": [
        "## Task 1. Model and feature selection problem (3 points)\n",
        "\n",
        "Your goal in this task is to predict the price (```price_doc```) given some characteristics of a house. In order to do that, you will demonstrate your abilities in data preprocessing, finding feature importances, applying different ML models."
      ]
    },
    {
      "cell_type": "markdown",
      "id": "friendly-review",
      "metadata": {
        "id": "friendly-review"
      },
      "source": [
        "### Subproblem 1.1. Data preprocessing and feauture importances (1 point)\n",
        "\n",
        "The goal of this subproblem is to prepare the data for further usage. Complete all of the following subtasks:"
      ]
    },
    {
      "cell_type": "markdown",
      "id": "rational-reggae",
      "metadata": {
        "id": "rational-reggae"
      },
      "source": [
        "**1.1.1) load the dataset**"
      ]
    },
    {
      "cell_type": "code",
      "execution_count": null,
      "id": "nutritional-phoenix",
      "metadata": {
        "id": "nutritional-phoenix"
      },
      "outputs": [],
      "source": [
        "### BEGIN Solution (do not delete this comment)\n",
        "df = pd.read_csv('data_fs.csv')\n",
        "### END Solution (do not delete this comment)"
      ]
    },
    {
      "cell_type": "markdown",
      "id": "objective-working",
      "metadata": {
        "id": "objective-working"
      },
      "source": [
        "**1.1.2) preprocess the dataset by dropping the ```timestamp``` feature, filling ```NaN```s with 0, converting the categorical variables into dummy variables**"
      ]
    },
    {
      "cell_type": "code",
      "execution_count": null,
      "id": "another-keyboard",
      "metadata": {
        "id": "another-keyboard",
        "outputId": "eff10b79-c179-478e-bf17-e9744fae4d8c"
      },
      "outputs": [
        {
          "data": {
            "text/html": [
              "<div>\n",
              "<style scoped>\n",
              "    .dataframe tbody tr th:only-of-type {\n",
              "        vertical-align: middle;\n",
              "    }\n",
              "\n",
              "    .dataframe tbody tr th {\n",
              "        vertical-align: top;\n",
              "    }\n",
              "\n",
              "    .dataframe thead th {\n",
              "        text-align: right;\n",
              "    }\n",
              "</style>\n",
              "<table border=\"1\" class=\"dataframe\">\n",
              "  <thead>\n",
              "    <tr style=\"text-align: right;\">\n",
              "      <th></th>\n",
              "      <th>full_sq</th>\n",
              "      <th>life_sq</th>\n",
              "      <th>floor</th>\n",
              "      <th>max_floor</th>\n",
              "      <th>material</th>\n",
              "      <th>build_year</th>\n",
              "      <th>num_room</th>\n",
              "      <th>kitch_sq</th>\n",
              "      <th>state</th>\n",
              "      <th>area_m</th>\n",
              "      <th>...</th>\n",
              "      <th>child_on_acc_pre_school_3,013</th>\n",
              "      <th>child_on_acc_pre_school_7,311</th>\n",
              "      <th>modern_education_share_0</th>\n",
              "      <th>modern_education_share_90,92</th>\n",
              "      <th>modern_education_share_93,08</th>\n",
              "      <th>modern_education_share_95,4918</th>\n",
              "      <th>old_education_build_share_0</th>\n",
              "      <th>old_education_build_share_23,14</th>\n",
              "      <th>old_education_build_share_25,47</th>\n",
              "      <th>old_education_build_share_8,2517</th>\n",
              "    </tr>\n",
              "  </thead>\n",
              "  <tbody>\n",
              "    <tr>\n",
              "      <th>0</th>\n",
              "      <td>43</td>\n",
              "      <td>27.0</td>\n",
              "      <td>4.0</td>\n",
              "      <td>0.0</td>\n",
              "      <td>0.0</td>\n",
              "      <td>0.0</td>\n",
              "      <td>0.0</td>\n",
              "      <td>0.0</td>\n",
              "      <td>0.0</td>\n",
              "      <td>6.407578e+06</td>\n",
              "      <td>...</td>\n",
              "      <td>0</td>\n",
              "      <td>0</td>\n",
              "      <td>1</td>\n",
              "      <td>0</td>\n",
              "      <td>0</td>\n",
              "      <td>0</td>\n",
              "      <td>1</td>\n",
              "      <td>0</td>\n",
              "      <td>0</td>\n",
              "      <td>0</td>\n",
              "    </tr>\n",
              "    <tr>\n",
              "      <th>1</th>\n",
              "      <td>34</td>\n",
              "      <td>19.0</td>\n",
              "      <td>3.0</td>\n",
              "      <td>0.0</td>\n",
              "      <td>0.0</td>\n",
              "      <td>0.0</td>\n",
              "      <td>0.0</td>\n",
              "      <td>0.0</td>\n",
              "      <td>0.0</td>\n",
              "      <td>9.589337e+06</td>\n",
              "      <td>...</td>\n",
              "      <td>0</td>\n",
              "      <td>0</td>\n",
              "      <td>1</td>\n",
              "      <td>0</td>\n",
              "      <td>0</td>\n",
              "      <td>0</td>\n",
              "      <td>1</td>\n",
              "      <td>0</td>\n",
              "      <td>0</td>\n",
              "      <td>0</td>\n",
              "    </tr>\n",
              "    <tr>\n",
              "      <th>2</th>\n",
              "      <td>43</td>\n",
              "      <td>29.0</td>\n",
              "      <td>2.0</td>\n",
              "      <td>0.0</td>\n",
              "      <td>0.0</td>\n",
              "      <td>0.0</td>\n",
              "      <td>0.0</td>\n",
              "      <td>0.0</td>\n",
              "      <td>0.0</td>\n",
              "      <td>4.808270e+06</td>\n",
              "      <td>...</td>\n",
              "      <td>0</td>\n",
              "      <td>0</td>\n",
              "      <td>1</td>\n",
              "      <td>0</td>\n",
              "      <td>0</td>\n",
              "      <td>0</td>\n",
              "      <td>1</td>\n",
              "      <td>0</td>\n",
              "      <td>0</td>\n",
              "      <td>0</td>\n",
              "    </tr>\n",
              "    <tr>\n",
              "      <th>3</th>\n",
              "      <td>89</td>\n",
              "      <td>50.0</td>\n",
              "      <td>9.0</td>\n",
              "      <td>0.0</td>\n",
              "      <td>0.0</td>\n",
              "      <td>0.0</td>\n",
              "      <td>0.0</td>\n",
              "      <td>0.0</td>\n",
              "      <td>0.0</td>\n",
              "      <td>1.258354e+07</td>\n",
              "      <td>...</td>\n",
              "      <td>0</td>\n",
              "      <td>0</td>\n",
              "      <td>1</td>\n",
              "      <td>0</td>\n",
              "      <td>0</td>\n",
              "      <td>0</td>\n",
              "      <td>1</td>\n",
              "      <td>0</td>\n",
              "      <td>0</td>\n",
              "      <td>0</td>\n",
              "    </tr>\n",
              "    <tr>\n",
              "      <th>4</th>\n",
              "      <td>77</td>\n",
              "      <td>77.0</td>\n",
              "      <td>4.0</td>\n",
              "      <td>0.0</td>\n",
              "      <td>0.0</td>\n",
              "      <td>0.0</td>\n",
              "      <td>0.0</td>\n",
              "      <td>0.0</td>\n",
              "      <td>0.0</td>\n",
              "      <td>8.398461e+06</td>\n",
              "      <td>...</td>\n",
              "      <td>0</td>\n",
              "      <td>0</td>\n",
              "      <td>1</td>\n",
              "      <td>0</td>\n",
              "      <td>0</td>\n",
              "      <td>0</td>\n",
              "      <td>1</td>\n",
              "      <td>0</td>\n",
              "      <td>0</td>\n",
              "      <td>0</td>\n",
              "    </tr>\n",
              "    <tr>\n",
              "      <th>...</th>\n",
              "      <td>...</td>\n",
              "      <td>...</td>\n",
              "      <td>...</td>\n",
              "      <td>...</td>\n",
              "      <td>...</td>\n",
              "      <td>...</td>\n",
              "      <td>...</td>\n",
              "      <td>...</td>\n",
              "      <td>...</td>\n",
              "      <td>...</td>\n",
              "      <td>...</td>\n",
              "      <td>...</td>\n",
              "      <td>...</td>\n",
              "      <td>...</td>\n",
              "      <td>...</td>\n",
              "      <td>...</td>\n",
              "      <td>...</td>\n",
              "      <td>...</td>\n",
              "      <td>...</td>\n",
              "      <td>...</td>\n",
              "      <td>...</td>\n",
              "    </tr>\n",
              "    <tr>\n",
              "      <th>30466</th>\n",
              "      <td>44</td>\n",
              "      <td>27.0</td>\n",
              "      <td>7.0</td>\n",
              "      <td>9.0</td>\n",
              "      <td>1.0</td>\n",
              "      <td>1975.0</td>\n",
              "      <td>2.0</td>\n",
              "      <td>6.0</td>\n",
              "      <td>3.0</td>\n",
              "      <td>1.005305e+07</td>\n",
              "      <td>...</td>\n",
              "      <td>0</td>\n",
              "      <td>0</td>\n",
              "      <td>0</td>\n",
              "      <td>0</td>\n",
              "      <td>0</td>\n",
              "      <td>1</td>\n",
              "      <td>0</td>\n",
              "      <td>0</td>\n",
              "      <td>0</td>\n",
              "      <td>1</td>\n",
              "    </tr>\n",
              "    <tr>\n",
              "      <th>30467</th>\n",
              "      <td>86</td>\n",
              "      <td>59.0</td>\n",
              "      <td>3.0</td>\n",
              "      <td>9.0</td>\n",
              "      <td>2.0</td>\n",
              "      <td>1935.0</td>\n",
              "      <td>4.0</td>\n",
              "      <td>10.0</td>\n",
              "      <td>3.0</td>\n",
              "      <td>7.307411e+06</td>\n",
              "      <td>...</td>\n",
              "      <td>0</td>\n",
              "      <td>0</td>\n",
              "      <td>0</td>\n",
              "      <td>0</td>\n",
              "      <td>0</td>\n",
              "      <td>1</td>\n",
              "      <td>0</td>\n",
              "      <td>0</td>\n",
              "      <td>0</td>\n",
              "      <td>1</td>\n",
              "    </tr>\n",
              "    <tr>\n",
              "      <th>30468</th>\n",
              "      <td>45</td>\n",
              "      <td>0.0</td>\n",
              "      <td>10.0</td>\n",
              "      <td>20.0</td>\n",
              "      <td>1.0</td>\n",
              "      <td>0.0</td>\n",
              "      <td>1.0</td>\n",
              "      <td>1.0</td>\n",
              "      <td>1.0</td>\n",
              "      <td>2.553630e+07</td>\n",
              "      <td>...</td>\n",
              "      <td>0</td>\n",
              "      <td>0</td>\n",
              "      <td>0</td>\n",
              "      <td>0</td>\n",
              "      <td>0</td>\n",
              "      <td>1</td>\n",
              "      <td>0</td>\n",
              "      <td>0</td>\n",
              "      <td>0</td>\n",
              "      <td>1</td>\n",
              "    </tr>\n",
              "    <tr>\n",
              "      <th>30469</th>\n",
              "      <td>64</td>\n",
              "      <td>32.0</td>\n",
              "      <td>5.0</td>\n",
              "      <td>15.0</td>\n",
              "      <td>1.0</td>\n",
              "      <td>2003.0</td>\n",
              "      <td>2.0</td>\n",
              "      <td>11.0</td>\n",
              "      <td>2.0</td>\n",
              "      <td>6.050065e+06</td>\n",
              "      <td>...</td>\n",
              "      <td>0</td>\n",
              "      <td>0</td>\n",
              "      <td>0</td>\n",
              "      <td>0</td>\n",
              "      <td>0</td>\n",
              "      <td>1</td>\n",
              "      <td>0</td>\n",
              "      <td>0</td>\n",
              "      <td>0</td>\n",
              "      <td>1</td>\n",
              "    </tr>\n",
              "    <tr>\n",
              "      <th>30470</th>\n",
              "      <td>43</td>\n",
              "      <td>28.0</td>\n",
              "      <td>1.0</td>\n",
              "      <td>9.0</td>\n",
              "      <td>1.0</td>\n",
              "      <td>1968.0</td>\n",
              "      <td>2.0</td>\n",
              "      <td>6.0</td>\n",
              "      <td>2.0</td>\n",
              "      <td>4.395333e+06</td>\n",
              "      <td>...</td>\n",
              "      <td>0</td>\n",
              "      <td>0</td>\n",
              "      <td>0</td>\n",
              "      <td>0</td>\n",
              "      <td>0</td>\n",
              "      <td>1</td>\n",
              "      <td>0</td>\n",
              "      <td>0</td>\n",
              "      <td>0</td>\n",
              "      <td>1</td>\n",
              "    </tr>\n",
              "  </tbody>\n",
              "</table>\n",
              "<p>30471 rows × 561 columns</p>\n",
              "</div>"
            ],
            "text/plain": [
              "       full_sq  life_sq  floor  max_floor  material  build_year  num_room  \\\n",
              "0           43     27.0    4.0        0.0       0.0         0.0       0.0   \n",
              "1           34     19.0    3.0        0.0       0.0         0.0       0.0   \n",
              "2           43     29.0    2.0        0.0       0.0         0.0       0.0   \n",
              "3           89     50.0    9.0        0.0       0.0         0.0       0.0   \n",
              "4           77     77.0    4.0        0.0       0.0         0.0       0.0   \n",
              "...        ...      ...    ...        ...       ...         ...       ...   \n",
              "30466       44     27.0    7.0        9.0       1.0      1975.0       2.0   \n",
              "30467       86     59.0    3.0        9.0       2.0      1935.0       4.0   \n",
              "30468       45      0.0   10.0       20.0       1.0         0.0       1.0   \n",
              "30469       64     32.0    5.0       15.0       1.0      2003.0       2.0   \n",
              "30470       43     28.0    1.0        9.0       1.0      1968.0       2.0   \n",
              "\n",
              "       kitch_sq  state        area_m  ...  child_on_acc_pre_school_3,013  \\\n",
              "0           0.0    0.0  6.407578e+06  ...                              0   \n",
              "1           0.0    0.0  9.589337e+06  ...                              0   \n",
              "2           0.0    0.0  4.808270e+06  ...                              0   \n",
              "3           0.0    0.0  1.258354e+07  ...                              0   \n",
              "4           0.0    0.0  8.398461e+06  ...                              0   \n",
              "...         ...    ...           ...  ...                            ...   \n",
              "30466       6.0    3.0  1.005305e+07  ...                              0   \n",
              "30467      10.0    3.0  7.307411e+06  ...                              0   \n",
              "30468       1.0    1.0  2.553630e+07  ...                              0   \n",
              "30469      11.0    2.0  6.050065e+06  ...                              0   \n",
              "30470       6.0    2.0  4.395333e+06  ...                              0   \n",
              "\n",
              "       child_on_acc_pre_school_7,311  modern_education_share_0  \\\n",
              "0                                  0                         1   \n",
              "1                                  0                         1   \n",
              "2                                  0                         1   \n",
              "3                                  0                         1   \n",
              "4                                  0                         1   \n",
              "...                              ...                       ...   \n",
              "30466                              0                         0   \n",
              "30467                              0                         0   \n",
              "30468                              0                         0   \n",
              "30469                              0                         0   \n",
              "30470                              0                         0   \n",
              "\n",
              "       modern_education_share_90,92  modern_education_share_93,08  \\\n",
              "0                                 0                             0   \n",
              "1                                 0                             0   \n",
              "2                                 0                             0   \n",
              "3                                 0                             0   \n",
              "4                                 0                             0   \n",
              "...                             ...                           ...   \n",
              "30466                             0                             0   \n",
              "30467                             0                             0   \n",
              "30468                             0                             0   \n",
              "30469                             0                             0   \n",
              "30470                             0                             0   \n",
              "\n",
              "       modern_education_share_95,4918  old_education_build_share_0  \\\n",
              "0                                   0                            1   \n",
              "1                                   0                            1   \n",
              "2                                   0                            1   \n",
              "3                                   0                            1   \n",
              "4                                   0                            1   \n",
              "...                               ...                          ...   \n",
              "30466                               1                            0   \n",
              "30467                               1                            0   \n",
              "30468                               1                            0   \n",
              "30469                               1                            0   \n",
              "30470                               1                            0   \n",
              "\n",
              "       old_education_build_share_23,14  old_education_build_share_25,47  \\\n",
              "0                                    0                                0   \n",
              "1                                    0                                0   \n",
              "2                                    0                                0   \n",
              "3                                    0                                0   \n",
              "4                                    0                                0   \n",
              "...                                ...                              ...   \n",
              "30466                                0                                0   \n",
              "30467                                0                                0   \n",
              "30468                                0                                0   \n",
              "30469                                0                                0   \n",
              "30470                                0                                0   \n",
              "\n",
              "       old_education_build_share_8,2517  \n",
              "0                                     0  \n",
              "1                                     0  \n",
              "2                                     0  \n",
              "3                                     0  \n",
              "4                                     0  \n",
              "...                                 ...  \n",
              "30466                                 1  \n",
              "30467                                 1  \n",
              "30468                                 1  \n",
              "30469                                 1  \n",
              "30470                                 1  \n",
              "\n",
              "[30471 rows x 561 columns]"
            ]
          },
          "execution_count": 115,
          "metadata": {},
          "output_type": "execute_result"
        }
      ],
      "source": [
        "### BEGIN Solution (do not delete this comment)\n",
        "df = df.fillna(0)\n",
        "df = df.drop(['timestamp'], axis = 1)\n",
        "df = pd.get_dummies(df)\n",
        "df\n",
        "### END Solution (do not delete this comment)"
      ]
    },
    {
      "cell_type": "markdown",
      "id": "dress-shanghai",
      "metadata": {
        "id": "dress-shanghai"
      },
      "source": [
        "**1.1.3) define ```x_train```, ```x_test```, ```y_train```, ```y_test```. The train-test split should be 70:30**\n"
      ]
    },
    {
      "cell_type": "code",
      "execution_count": null,
      "id": "outdoor-runner",
      "metadata": {
        "id": "outdoor-runner"
      },
      "outputs": [],
      "source": [
        "### BEGIN Solution (do not delete this comment)\n",
        "y = df['price_doc']\n",
        "X = df.drop(['price_doc'], axis = 1)\n",
        "X_train, X_test, y_train, y_test = train_test_split(\n",
        "     X, y, test_size=0.3, random_state=42)\n",
        "### END Solution (do not delete this comment)"
      ]
    },
    {
      "cell_type": "markdown",
      "id": "engaging-ready",
      "metadata": {
        "id": "engaging-ready"
      },
      "source": [
        "\n",
        "**1.1.4) plot the histogram of y values. Note that the mean of these values is very high and the distribution of the values is far from normal. Create ```y_train_log``` and ```y_test_log``` by applying $log_{y}$. Now plot the new histogram of the obtained values. You should use these log values for the next subtasks.**   "
      ]
    },
    {
      "cell_type": "code",
      "execution_count": null,
      "id": "inclusive-outreach",
      "metadata": {
        "colab": {
          "base_uri": "https://localhost:8080/",
          "height": 575
        },
        "id": "inclusive-outreach",
        "outputId": "6a70e6b1-b183-470a-a694-52e230c3da6b"
      },
      "outputs": [
        {
          "data": {
            "text/plain": [
              "<matplotlib.legend.Legend at 0x7f33e6a1d310>"
            ]
          },
          "execution_count": 117,
          "metadata": {},
          "output_type": "execute_result"
        },
        {
          "data": {
            "image/png": "[encoded data removed]",
            "text/plain": [
              "<Figure size 432x288 with 1 Axes>"
            ]
          },
          "metadata": {
            "needs_background": "light"
          },
          "output_type": "display_data"
        }
      ],
      "source": [
        "### BEGIN Solution (do not delete this comment)\n",
        "y_train_log = np.log(y_train)\n",
        "y_test_log = np.log(y_test)\n",
        "plt.hist(y_train_log, bins = 100, label = 'Train')\n",
        "plt.hist(y_test_log, bins = 100, label = 'Test')\n",
        "plt.legend()\n",
        "\n",
        "### END Solution (do not delete this comment)"
      ]
    },
    {
      "cell_type": "markdown",
      "id": "noticed-drunk",
      "metadata": {
        "id": "noticed-drunk"
      },
      "source": [
        "**1.1.5) print the number of features in the created ```x_train``` and ```x_test``` datasets. Answer the question: do you think all of these features are relevant for the adequate price prediction?**\n"
      ]
    },
    {
      "cell_type": "code",
      "execution_count": null,
      "id": "strategic-spending",
      "metadata": {
        "colab": {
          "base_uri": "https://localhost:8080/"
        },
        "id": "strategic-spending",
        "outputId": "60227791-3f62-4d31-cbcd-a5a8aada6763"
      },
      "outputs": [
        {
          "name": "stdout",
          "output_type": "stream",
          "text": [
            "Amount of features in X_train dataset: 560\n",
            "Amount of features in X_test dataset: 560\n"
          ]
        }
      ],
      "source": [
        "### BEGIN Solution (do not delete this comment)\n",
        "print('Amount of features in X_train dataset:', X_train.shape[1])\n",
        "print('Amount of features in X_test dataset:', X_test.shape[1])\n",
        "### END Solution (do not delete this comment)"
      ]
    },
    {
      "cell_type": "markdown",
      "id": "restricted-anchor",
      "metadata": {
        "id": "restricted-anchor"
      },
      "source": [
        "**Your text answer (do not delete this comment)**:\n",
        "\n",
        "No, I don't think so. We have too many dimentions and can face with curse of dimensionality"
      ]
    },
    {
      "cell_type": "markdown",
      "id": "endangered-mineral",
      "metadata": {
        "id": "endangered-mineral"
      },
      "source": [
        "**1.1.6) use random forest to find the importance of the features. Plot the histogram of the importances.**"
      ]
    },
    {
      "cell_type": "code",
      "execution_count": null,
      "id": "residential-tongue",
      "metadata": {
        "colab": {
          "base_uri": "https://localhost:8080/",
          "height": 282
        },
        "id": "residential-tongue",
        "outputId": "3ed70854-fddc-439f-eef5-542e3de192e2"
      },
      "outputs": [
        {
          "data": {
            "image/png": "[encoded data removed]",
            "text/plain": [
              "<Figure size 1152x576 with 1 Axes>"
            ]
          },
          "metadata": {
            "needs_background": "light"
          },
          "output_type": "display_data"
        }
      ],
      "source": [
        "### BEGIN Solution (do not delete this comment)\n",
        "from sklearn.ensemble import RandomForestRegressor\n",
        "forest = RandomForestRegressor()\n",
        "forest.fit(X_train, y_train)\n",
        "fig = plt.figure(figsize=(16,8))\n",
        "\n",
        "#sorted_idx = forest.feature_importances_.argsort()\n",
        "plt.bar(range(len(forest.feature_importances_)), forest.feature_importances_)\n",
        "\n",
        "plt.xlabel(\"Random Forest Feature Importance\")\n",
        "\n",
        "plt.show()\n",
        "### END Solution (do not delete this comment)"
      ]
    },
    {
      "cell_type": "markdown",
      "id": "ethical-firmware",
      "metadata": {
        "id": "ethical-firmware"
      },
      "source": [
        "**1.1.7) print the names of the 20 most important features**"
      ]
    },
    {
      "cell_type": "code",
      "execution_count": null,
      "id": "amazing-marriage",
      "metadata": {
        "colab": {
          "base_uri": "https://localhost:8080/"
        },
        "id": "amazing-marriage",
        "outputId": "53ab5987-aa41-43f6-816e-37580d1cff79"
      },
      "outputs": [
        {
          "name": "stdout",
          "output_type": "stream",
          "text": [
            "sub_area_Poselenie Rogovskoe\n",
            "sub_area_Poselenie Kievskij\n",
            "sub_area_Poselenie Filimonkovskoe\n",
            "sub_area_Mitino\n",
            "sub_area_Poselenie Moskovskij\n",
            "sub_area_Poselenie Marushkinskoe\n",
            "sub_area_Vojkovskoe\n",
            "sub_area_Meshhanskoe\n",
            "sub_area_Pokrovskoe Streshnevo\n",
            "sub_area_Birjulevo Vostochnoe\n",
            "sub_area_Poselenie Desjonovskoe\n",
            "sub_area_Rjazanskij\n",
            "sub_area_Savelki\n",
            "sub_area_Poselenie Novofedorovskoe\n",
            "sub_area_Altuf'evskoe\n",
            "sub_area_Poselenie Mosrentgen\n",
            "sub_area_Savelovskoe\n",
            "sub_area_Poselenie Krasnopahorskoe\n",
            "sub_area_Poselenie Vnukovskoe\n",
            "sub_area_Poselenie Voronovskoe\n"
          ]
        }
      ],
      "source": [
        "### BEGIN Solution (do not delete this comment)\n",
        "sorted_idx = forest.feature_importances_.argsort()\n",
        "#[print(i) for i in df.columns[sorted_idx[:20]]]\n",
        "for i in df.columns[sorted_idx[:20]]:\n",
        "    print(i)\n",
        "### END Solution (do not delete this comment)"
      ]
    },
    {
      "cell_type": "markdown",
      "id": "threaded-ivory",
      "metadata": {
        "id": "threaded-ivory"
      },
      "source": [
        "<br>"
      ]
    },
    {
      "cell_type": "markdown",
      "id": "little-toddler",
      "metadata": {
        "id": "little-toddler"
      },
      "source": [
        "### Subproblem 1.2. Training models on the most important features (1 point)"
      ]
    },
    {
      "cell_type": "markdown",
      "id": "vietnamese-patrick",
      "metadata": {
        "id": "vietnamese-patrick"
      },
      "source": [
        "In this subproblem, you will train several ML models on the found 20 most important features: train **Linear Regression**,  **Ridge regression**, **Random forest**,  **DecisionTree** and evaluate their performance using the Root Mean Squared Logarithmic Error (RMSLE) on both train/test sets. \n",
        "\n",
        "You will have to repeat the same actions in the next tasks too, so we recommend to implement\n",
        "a dedicated function for comparisons, which\n",
        "1. on input takes a training dataset `(X_train, y_train)` and a test sample `(X_test, y_test)`;\n",
        "2. it trains **all of the listed models** on the `(X_train, y_train)` sample;\n",
        "3. it computes and returns a table with the RMSLE score of each fitted model on the train and test datasets."
      ]
    },
    {
      "cell_type": "markdown",
      "id": "stupid-principle",
      "metadata": {
        "id": "stupid-principle"
      },
      "source": [
        "**1.2.1) Implement the function described above**"
      ]
    },
    {
      "cell_type": "code",
      "execution_count": null,
      "id": "paperback-uniform",
      "metadata": {
        "id": "paperback-uniform"
      },
      "outputs": [],
      "source": [
        "### BEGIN Solution (do not delete this comment)\n",
        "from sklearn.linear_model import LinearRegression\n",
        "from sklearn.metrics import mean_squared_log_error\n",
        "from sklearn.linear_model import Ridge\n",
        "from sklearn.ensemble import RandomForestRegressor\n",
        "from sklearn.tree import DecisionTreeRegressor\n",
        "from sklearn import linear_model\n",
        "\n",
        "from sklearn.metrics import make_scorer\n",
        "rmsle = make_scorer(mean_squared_log_error, squared = False)\n",
        "\n",
        "def func(X_train, y_train, X_test, y_test):\n",
        "    X_train = X_train[X_train.columns[sorted_idx[-20:]]]\n",
        "    X_test = X_test[X_test.columns[sorted_idx[-20:]]]\n",
        "    linReg = LinearRegression()\n",
        "    lasso = linear_model.Lasso(alpha=0.1)\n",
        "    ridge = Ridge(alpha=1.0)\n",
        "    forest = RandomForestRegressor(max_depth=5, random_state=0)\n",
        "    tree = DecisionTreeRegressor(random_state=0)\n",
        "    \n",
        "    lables = ['Linear Regression', 'Lasso', 'Ridge', 'Dtree', 'RFR']\n",
        "    test_error = []\n",
        "    train_error = []\n",
        "    for clf in [linReg, lasso, ridge,  tree, forest]:\n",
        "        clf.fit(X_train, y_train)\n",
        "        preds_train = clf.predict(X_train)\n",
        "        preds_train[preds_train < 0 ] = 0\n",
        "\n",
        "        train_error.append(mean_squared_log_error(preds_train, np.array(y_train), squared = False))\n",
        "        preds_test = clf.predict(X_test)\n",
        "        preds_test[preds_test < 0 ] = 0\n",
        "        test_error.append(mean_squared_log_error(preds_test, np.array(y_test), squared = False))\n",
        "    res = {'Metods': lables,'Train error': train_error, 'Test error':test_error}\n",
        "    RMSLE = pd.DataFrame(res)\n",
        "    return RMSLE\n",
        "### END Solution (do not delete this comment)"
      ]
    },
    {
      "cell_type": "code",
      "execution_count": null,
      "id": "f18ac60b",
      "metadata": {
        "id": "f18ac60b",
        "outputId": "a14c9daf-1b41-4101-8bc7-638c4e56617d"
      },
      "outputs": [
        {
          "data": {
            "text/html": [
              "<div>\n",
              "<style scoped>\n",
              "    .dataframe tbody tr th:only-of-type {\n",
              "        vertical-align: middle;\n",
              "    }\n",
              "\n",
              "    .dataframe tbody tr th {\n",
              "        vertical-align: top;\n",
              "    }\n",
              "\n",
              "    .dataframe thead th {\n",
              "        text-align: right;\n",
              "    }\n",
              "</style>\n",
              "<table border=\"1\" class=\"dataframe\">\n",
              "  <thead>\n",
              "    <tr style=\"text-align: right;\">\n",
              "      <th></th>\n",
              "      <th>full_sq</th>\n",
              "      <th>life_sq</th>\n",
              "    </tr>\n",
              "  </thead>\n",
              "  <tbody>\n",
              "    <tr>\n",
              "      <th>0</th>\n",
              "      <td>43</td>\n",
              "      <td>27.0</td>\n",
              "    </tr>\n",
              "    <tr>\n",
              "      <th>1</th>\n",
              "      <td>34</td>\n",
              "      <td>19.0</td>\n",
              "    </tr>\n",
              "    <tr>\n",
              "      <th>2</th>\n",
              "      <td>43</td>\n",
              "      <td>29.0</td>\n",
              "    </tr>\n",
              "    <tr>\n",
              "      <th>3</th>\n",
              "      <td>89</td>\n",
              "      <td>50.0</td>\n",
              "    </tr>\n",
              "    <tr>\n",
              "      <th>4</th>\n",
              "      <td>77</td>\n",
              "      <td>77.0</td>\n",
              "    </tr>\n",
              "    <tr>\n",
              "      <th>...</th>\n",
              "      <td>...</td>\n",
              "      <td>...</td>\n",
              "    </tr>\n",
              "    <tr>\n",
              "      <th>30466</th>\n",
              "      <td>44</td>\n",
              "      <td>27.0</td>\n",
              "    </tr>\n",
              "    <tr>\n",
              "      <th>30467</th>\n",
              "      <td>86</td>\n",
              "      <td>59.0</td>\n",
              "    </tr>\n",
              "    <tr>\n",
              "      <th>30468</th>\n",
              "      <td>45</td>\n",
              "      <td>0.0</td>\n",
              "    </tr>\n",
              "    <tr>\n",
              "      <th>30469</th>\n",
              "      <td>64</td>\n",
              "      <td>32.0</td>\n",
              "    </tr>\n",
              "    <tr>\n",
              "      <th>30470</th>\n",
              "      <td>43</td>\n",
              "      <td>28.0</td>\n",
              "    </tr>\n",
              "  </tbody>\n",
              "</table>\n",
              "<p>30471 rows × 2 columns</p>\n",
              "</div>"
            ],
            "text/plain": [
              "       full_sq  life_sq\n",
              "0           43     27.0\n",
              "1           34     19.0\n",
              "2           43     29.0\n",
              "3           89     50.0\n",
              "4           77     77.0\n",
              "...        ...      ...\n",
              "30466       44     27.0\n",
              "30467       86     59.0\n",
              "30468       45      0.0\n",
              "30469       64     32.0\n",
              "30470       43     28.0\n",
              "\n",
              "[30471 rows x 2 columns]"
            ]
          },
          "execution_count": 122,
          "metadata": {},
          "output_type": "execute_result"
        }
      ],
      "source": [
        "X[['full_sq', 'life_sq']]"
      ]
    },
    {
      "cell_type": "code",
      "execution_count": null,
      "id": "d7434839",
      "metadata": {
        "id": "d7434839",
        "outputId": "b3b535ab-eb62-4b21-85dc-aa6e8c3046c5"
      },
      "outputs": [
        {
          "data": {
            "text/html": [
              "<div>\n",
              "<style scoped>\n",
              "    .dataframe tbody tr th:only-of-type {\n",
              "        vertical-align: middle;\n",
              "    }\n",
              "\n",
              "    .dataframe tbody tr th {\n",
              "        vertical-align: top;\n",
              "    }\n",
              "\n",
              "    .dataframe thead th {\n",
              "        text-align: right;\n",
              "    }\n",
              "</style>\n",
              "<table border=\"1\" class=\"dataframe\">\n",
              "  <thead>\n",
              "    <tr style=\"text-align: right;\">\n",
              "      <th></th>\n",
              "      <th>Metods</th>\n",
              "      <th>Train error</th>\n",
              "      <th>Test error</th>\n",
              "    </tr>\n",
              "  </thead>\n",
              "  <tbody>\n",
              "    <tr>\n",
              "      <th>0</th>\n",
              "      <td>Linear Regression</td>\n",
              "      <td>0.574859</td>\n",
              "      <td>0.575393</td>\n",
              "    </tr>\n",
              "    <tr>\n",
              "      <th>1</th>\n",
              "      <td>Lasso</td>\n",
              "      <td>0.584699</td>\n",
              "      <td>0.576243</td>\n",
              "    </tr>\n",
              "    <tr>\n",
              "      <th>2</th>\n",
              "      <td>Ridge</td>\n",
              "      <td>0.574856</td>\n",
              "      <td>0.575392</td>\n",
              "    </tr>\n",
              "    <tr>\n",
              "      <th>3</th>\n",
              "      <td>Dtree</td>\n",
              "      <td>0.004955</td>\n",
              "      <td>0.658002</td>\n",
              "    </tr>\n",
              "    <tr>\n",
              "      <th>4</th>\n",
              "      <td>RFR</td>\n",
              "      <td>0.494833</td>\n",
              "      <td>0.497767</td>\n",
              "    </tr>\n",
              "  </tbody>\n",
              "</table>\n",
              "</div>"
            ],
            "text/plain": [
              "              Metods  Train error  Test error\n",
              "0  Linear Regression     0.574859    0.575393\n",
              "1              Lasso     0.584699    0.576243\n",
              "2              Ridge     0.574856    0.575392\n",
              "3              Dtree     0.004955    0.658002\n",
              "4                RFR     0.494833    0.497767"
            ]
          },
          "execution_count": 123,
          "metadata": {},
          "output_type": "execute_result"
        }
      ],
      "source": [
        "df = func(X_train, y_train, X_test, y_test)\n",
        "df"
      ]
    },
    {
      "cell_type": "markdown",
      "id": "demographic-honolulu",
      "metadata": {
        "id": "demographic-honolulu"
      },
      "source": [
        "**1.2.2) Apply the implemented function to our dataset (use only the 20 most important features)**"
      ]
    },
    {
      "cell_type": "code",
      "execution_count": null,
      "id": "loved-bedroom",
      "metadata": {
        "id": "loved-bedroom"
      },
      "outputs": [],
      "source": [
        "### BEGIN Solution\n",
        "\n",
        "### END Solution"
      ]
    },
    {
      "cell_type": "markdown",
      "id": "6lSOGA4-7RSx",
      "metadata": {
        "id": "6lSOGA4-7RSx"
      },
      "source": [
        "<br>"
      ]
    },
    {
      "cell_type": "markdown",
      "id": "stock-jewel",
      "metadata": {
        "id": "stock-jewel"
      },
      "source": [
        "### Subproblem 1.3. Forward-backward methods (1 point)\n",
        "In the subproblems above, we have relied on the feature importances found by the random forest method. The main goal of this subproblem is to find feature importances by applying the forward-backward methods: the main idea is to add or remove features and compute how this removal influences the value of the loss function or some other criteria.\n",
        "\n",
        "The decision about adding or deleting a feature may be made based on:\n",
        "\n",
        "- AIC\n",
        "- BIC\n",
        "- validation error\n",
        "- Mallows $C_p$\n",
        "- sklearn's `estimator.score()`"
      ]
    },
    {
      "cell_type": "markdown",
      "id": "southern-closer",
      "metadata": {
        "id": "southern-closer"
      },
      "source": [
        "In subtasks, 1.3.1 - 1.3.3, implement the following greedy feature selection algorithm with early stopping using the mean of the RMSLE scores achieved on the 3-fold cross-validation. Please bear in mind that **the lower** RMSLE (`mean_squared_log_error`) is, **the higher the model \"quality\" is** and look up `cross_val_score(...)` peculiarities in [scikit's manual](https://scikit-learn.org/stable/documentation.html) for more information.\n",
        "\n",
        "```python\n",
        "# Initialize with an empty list of features.\n",
        "list_of_best_features = []\n",
        "\n",
        "while round < n_rounds:\n",
        "    round = round + 1\n",
        "    \n",
        "    if no_more_features:\n",
        "        # end loop\n",
        "\n",
        "    # Iterate over currently *unused* features and use $k$-fold \n",
        "    # . `cross_val_score` to measure model \"quality\".\n",
        "    compute_quality_with_each_new_unused_feature(...)\n",
        "\n",
        "    # **Add** the feature that gives the highest \"quality\" of the model.\n",
        "    pick_and_add_the_best_feature(...)\n",
        "\n",
        "    if model_quality_has_increased_since_last_round:\n",
        "        round = 0\n",
        "\n",
        "return list_of_best_features\n",
        "```"
      ]
    },
    {
      "cell_type": "markdown",
      "id": "suffering-italy",
      "metadata": {
        "id": "suffering-italy"
      },
      "source": [
        "**1.3.1) In the cell below, you have to implement a function that would iterate over a list of features and use $k$-fold `cross_val_score` to measure the model's \"quality\".** "
      ]
    },
    {
      "cell_type": "code",
      "execution_count": null,
      "id": "caroline-state",
      "metadata": {
        "id": "caroline-state"
      },
      "outputs": [],
      "source": [
        "def selection_step(model, X, y, used_features=(), cv=3):\n",
        "    \"\"\"\n",
        "    Parameters\n",
        "    ==========\n",
        "        X: ndarray - training inputs\n",
        "        y: ndarray - training targets\n",
        "        used_features: - list of features\n",
        "        cv: int - number of folds\n",
        "\n",
        "    Returns\n",
        "    =======\n",
        "        scores - dictionary of scores\n",
        "    \"\"\"\n",
        "    \n",
        "    scores = {}\n",
        "    \n",
        "    ### BEGIN Solution\n",
        "    import numpy as np\n",
        "    not_used_features = X.columns.drop(used_features)\n",
        "    \n",
        "    for i in not_used_features:\n",
        "        \n",
        "        new_features = used_features+[i]\n",
        "\n",
        "        scores[i] = np.mean(cross_val_score(model, X[new_features], y, cv=cv,scoring=rmsle))\n",
        "    ### END Solution\n",
        "\n",
        "    return scores"
      ]
    },
    {
      "cell_type": "markdown",
      "id": "laughing-patio",
      "metadata": {
        "id": "laughing-patio"
      },
      "source": [
        "**1.3.2) Implement a forward greedy feature selection function (the one described in the pseudocode in subtask 1 above) that would**\n",
        "\n",
        "**- compute the model's \"quality\" over the currently *unused* features**\n",
        "\n",
        "**- find the feature, which has given the best score and add it to the list of the currently *used* features**\n",
        "\n",
        "**- if the model's quality has increased since the last round, add this feature to the list of the best features and  print the best score and the current best features list**\n",
        "\n",
        "**Do not forget to implement the early stopping.**"
      ]
    },
    {
      "cell_type": "code",
      "execution_count": null,
      "id": "pressed-worse",
      "metadata": {
        "id": "pressed-worse"
      },
      "outputs": [],
      "source": [
        "def forward_steps(X, y, n_rounds, model):\n",
        "    \"\"\"\n",
        "    Parameters\n",
        "    ==========\n",
        "        X: ndarray - training inputs\n",
        "        y: ndarray - training targets\n",
        "        n_rounds: int - early stop when score doesn't increase n_rounds\n",
        "        model: sklearn model\n",
        "\n",
        "    Returns\n",
        "    =======\n",
        "        feat_best_list - list of features\n",
        "    \"\"\"\n",
        "    \n",
        "    feat_best_list = []\n",
        "\n",
        "    ### BEGIN Solution\n",
        "    step = 0 \n",
        "    score_cur = 1.\n",
        "    while step <= n_rounds:\n",
        "        scores = selection_step(model, X, y, used_features=feat_best_list, cv=3)\n",
        "        new_feat = min(scores, key=scores.get)\n",
        "        score_new = scores[new_feat]\n",
        "        if score_new < score_cur :\n",
        "            feat_best_list.append(new_feat)\n",
        "            print('Score: ', score_new, 'List of features: ', feat_best_list)\n",
        "            step = 0 \n",
        "        else: \n",
        "            step += 1\n",
        "            \n",
        "    ### END Solution\n",
        "    \n",
        "    return feat_best_list\n"
      ]
    },
    {
      "cell_type": "markdown",
      "id": "geographic-holly",
      "metadata": {
        "id": "geographic-holly"
      },
      "source": [
        "**1.3.3) Use the function implemented above + DecisionTreeRegressor to get the best features according to this algorithm. (HINT: Use ```n_rounds = 2```)**"
      ]
    },
    {
      "cell_type": "code",
      "execution_count": null,
      "id": "hazardous-retirement",
      "metadata": {
        "colab": {
          "base_uri": "https://localhost:8080/"
        },
        "id": "hazardous-retirement",
        "outputId": "81502f2d-f6fa-4497-d569-58605bfff430"
      },
      "outputs": [
        {
          "name": "stdout",
          "output_type": "stream",
          "text": [
            "Score:  0.7190402184592223 List of features:  ['railroad_station_avto_km']\n",
            "Score:  0.8033416877468333 List of features:  ['railroad_station_avto_km', 'rts']\n",
            "Score:  0.818945452023589 List of features:  ['railroad_station_avto_km', 'rts', 'oil_urals']\n",
            "Score:  0.8279568156496859 List of features:  ['railroad_station_avto_km', 'rts', 'oil_urals', 'brent']\n",
            "Score:  0.8321840985946465 List of features:  ['railroad_station_avto_km', 'rts', 'oil_urals', 'brent', 'sub_area_Severnoe Butovo']\n",
            "Score:  0.8335344175876042 List of features:  ['railroad_station_avto_km', 'rts', 'oil_urals', 'brent', 'sub_area_Severnoe Butovo', 'floor']\n",
            "Score:  0.8405718926512703 List of features:  ['railroad_station_avto_km', 'rts', 'oil_urals', 'brent', 'sub_area_Severnoe Butovo', 'floor', 'rent_price_2room_eco']\n",
            "Score:  0.8404326980011136 List of features:  ['railroad_station_avto_km', 'rts', 'oil_urals', 'brent', 'sub_area_Severnoe Butovo', 'floor', 'rent_price_2room_eco', 'sub_area_Timirjazevskoe']\n",
            "Score:  0.8401402278037202 List of features:  ['railroad_station_avto_km', 'rts', 'oil_urals', 'brent', 'sub_area_Severnoe Butovo', 'floor', 'rent_price_2room_eco', 'sub_area_Timirjazevskoe', 'sub_area_Begovoe']\n",
            "Score:  0.8403723890901196 List of features:  ['railroad_station_avto_km', 'rts', 'oil_urals', 'brent', 'sub_area_Severnoe Butovo', 'floor', 'rent_price_2room_eco', 'sub_area_Timirjazevskoe', 'sub_area_Begovoe', 'sub_area_Kurkino']\n"
          ]
        },
        {
          "ename": "KeyboardInterrupt",
          "evalue": "",
          "output_type": "error",
          "traceback": [
            "\u001b[0;31m---------------------------------------------------------------------------\u001b[0m",
            "\u001b[0;31mKeyboardInterrupt\u001b[0m                         Traceback (most recent call last)",
            "\u001b[0;32m<ipython-input-216-d3c33239de77>\u001b[0m in \u001b[0;36m<module>\u001b[0;34m\u001b[0m\n\u001b[1;32m      1\u001b[0m \u001b[0;31m### BEGIN Solution\u001b[0m\u001b[0;34m\u001b[0m\u001b[0;34m\u001b[0m\u001b[0;34m\u001b[0m\u001b[0m\n\u001b[1;32m      2\u001b[0m \u001b[0mtree\u001b[0m \u001b[0;34m=\u001b[0m \u001b[0mDecisionTreeRegressor\u001b[0m\u001b[0;34m(\u001b[0m\u001b[0mrandom_state\u001b[0m\u001b[0;34m=\u001b[0m\u001b[0;36m0\u001b[0m\u001b[0;34m)\u001b[0m\u001b[0;34m\u001b[0m\u001b[0;34m\u001b[0m\u001b[0m\n\u001b[0;32m----> 3\u001b[0;31m \u001b[0mforward_steps\u001b[0m\u001b[0;34m(\u001b[0m\u001b[0mX_train\u001b[0m\u001b[0;34m,\u001b[0m \u001b[0my_train\u001b[0m\u001b[0;34m,\u001b[0m \u001b[0;36m2\u001b[0m\u001b[0;34m,\u001b[0m \u001b[0mtree\u001b[0m\u001b[0;34m)\u001b[0m\u001b[0;34m\u001b[0m\u001b[0;34m\u001b[0m\u001b[0m\n\u001b[0m\u001b[1;32m      4\u001b[0m \u001b[0;31m### END Solution\u001b[0m\u001b[0;34m\u001b[0m\u001b[0;34m\u001b[0m\u001b[0;34m\u001b[0m\u001b[0m\n",
            "\u001b[0;32m<ipython-input-215-3615967ed438>\u001b[0m in \u001b[0;36mforward_steps\u001b[0;34m(X, y, n_rounds, model)\u001b[0m\n\u001b[1;32m     19\u001b[0m     \u001b[0mscore_cur\u001b[0m \u001b[0;34m=\u001b[0m \u001b[0;36m1.\u001b[0m\u001b[0;34m\u001b[0m\u001b[0;34m\u001b[0m\u001b[0m\n\u001b[1;32m     20\u001b[0m     \u001b[0;32mwhile\u001b[0m \u001b[0mstep\u001b[0m \u001b[0;34m<=\u001b[0m \u001b[0mn_rounds\u001b[0m\u001b[0;34m:\u001b[0m\u001b[0;34m\u001b[0m\u001b[0;34m\u001b[0m\u001b[0m\n\u001b[0;32m---> 21\u001b[0;31m         \u001b[0mscores\u001b[0m \u001b[0;34m=\u001b[0m \u001b[0mselection_step\u001b[0m\u001b[0;34m(\u001b[0m\u001b[0mmodel\u001b[0m\u001b[0;34m,\u001b[0m \u001b[0mX\u001b[0m\u001b[0;34m,\u001b[0m \u001b[0my\u001b[0m\u001b[0;34m,\u001b[0m \u001b[0mused_features\u001b[0m\u001b[0;34m=\u001b[0m\u001b[0mfeat_best_list\u001b[0m\u001b[0;34m,\u001b[0m \u001b[0mcv\u001b[0m\u001b[0;34m=\u001b[0m\u001b[0;36m3\u001b[0m\u001b[0;34m)\u001b[0m\u001b[0;34m\u001b[0m\u001b[0;34m\u001b[0m\u001b[0m\n\u001b[0m\u001b[1;32m     22\u001b[0m         \u001b[0mnew_feat\u001b[0m \u001b[0;34m=\u001b[0m \u001b[0mmax\u001b[0m\u001b[0;34m(\u001b[0m\u001b[0mscores\u001b[0m\u001b[0;34m,\u001b[0m \u001b[0mkey\u001b[0m\u001b[0;34m=\u001b[0m\u001b[0mscores\u001b[0m\u001b[0;34m.\u001b[0m\u001b[0mget\u001b[0m\u001b[0;34m)\u001b[0m\u001b[0;34m\u001b[0m\u001b[0;34m\u001b[0m\u001b[0m\n\u001b[1;32m     23\u001b[0m         \u001b[0mscore_new\u001b[0m \u001b[0;34m=\u001b[0m \u001b[0mscores\u001b[0m\u001b[0;34m[\u001b[0m\u001b[0mnew_feat\u001b[0m\u001b[0;34m]\u001b[0m\u001b[0;34m\u001b[0m\u001b[0;34m\u001b[0m\u001b[0m\n",
            "\u001b[0;32m<ipython-input-205-0401b8dcbb84>\u001b[0m in \u001b[0;36mselection_step\u001b[0;34m(model, X, y, used_features, cv)\u001b[0m\n\u001b[1;32m     23\u001b[0m         \u001b[0mnew_features\u001b[0m \u001b[0;34m=\u001b[0m \u001b[0mused_features\u001b[0m\u001b[0;34m+\u001b[0m\u001b[0;34m[\u001b[0m\u001b[0mi\u001b[0m\u001b[0;34m]\u001b[0m\u001b[0;34m\u001b[0m\u001b[0;34m\u001b[0m\u001b[0m\n\u001b[1;32m     24\u001b[0m \u001b[0;34m\u001b[0m\u001b[0m\n\u001b[0;32m---> 25\u001b[0;31m         \u001b[0mscores\u001b[0m\u001b[0;34m[\u001b[0m\u001b[0mi\u001b[0m\u001b[0;34m]\u001b[0m \u001b[0;34m=\u001b[0m \u001b[0mnp\u001b[0m\u001b[0;34m.\u001b[0m\u001b[0mmean\u001b[0m\u001b[0;34m(\u001b[0m\u001b[0mcross_val_score\u001b[0m\u001b[0;34m(\u001b[0m\u001b[0mmodel\u001b[0m\u001b[0;34m,\u001b[0m \u001b[0mX\u001b[0m\u001b[0;34m[\u001b[0m\u001b[0mnew_features\u001b[0m\u001b[0;34m]\u001b[0m\u001b[0;34m,\u001b[0m \u001b[0my\u001b[0m\u001b[0;34m,\u001b[0m \u001b[0mcv\u001b[0m\u001b[0;34m=\u001b[0m\u001b[0mcv\u001b[0m\u001b[0;34m,\u001b[0m\u001b[0mscoring\u001b[0m\u001b[0;34m=\u001b[0m\u001b[0mrmsle\u001b[0m\u001b[0;34m)\u001b[0m\u001b[0;34m)\u001b[0m\u001b[0;34m\u001b[0m\u001b[0;34m\u001b[0m\u001b[0m\n\u001b[0m\u001b[1;32m     26\u001b[0m     \u001b[0;31m### END Solution\u001b[0m\u001b[0;34m\u001b[0m\u001b[0;34m\u001b[0m\u001b[0;34m\u001b[0m\u001b[0m\n\u001b[1;32m     27\u001b[0m \u001b[0;34m\u001b[0m\u001b[0m\n",
            "\u001b[0;32m~/.local/lib/python3.8/site-packages/sklearn/model_selection/_validation.py\u001b[0m in \u001b[0;36mcross_val_score\u001b[0;34m(estimator, X, y, groups, scoring, cv, n_jobs, verbose, fit_params, pre_dispatch, error_score)\u001b[0m\n\u001b[1;32m    507\u001b[0m     \u001b[0mscorer\u001b[0m \u001b[0;34m=\u001b[0m \u001b[0mcheck_scoring\u001b[0m\u001b[0;34m(\u001b[0m\u001b[0mestimator\u001b[0m\u001b[0;34m,\u001b[0m \u001b[0mscoring\u001b[0m\u001b[0;34m=\u001b[0m\u001b[0mscoring\u001b[0m\u001b[0;34m)\u001b[0m\u001b[0;34m\u001b[0m\u001b[0;34m\u001b[0m\u001b[0m\n\u001b[1;32m    508\u001b[0m \u001b[0;34m\u001b[0m\u001b[0m\n\u001b[0;32m--> 509\u001b[0;31m     cv_results = cross_validate(\n\u001b[0m\u001b[1;32m    510\u001b[0m         \u001b[0mestimator\u001b[0m\u001b[0;34m=\u001b[0m\u001b[0mestimator\u001b[0m\u001b[0;34m,\u001b[0m\u001b[0;34m\u001b[0m\u001b[0;34m\u001b[0m\u001b[0m\n\u001b[1;32m    511\u001b[0m         \u001b[0mX\u001b[0m\u001b[0;34m=\u001b[0m\u001b[0mX\u001b[0m\u001b[0;34m,\u001b[0m\u001b[0;34m\u001b[0m\u001b[0;34m\u001b[0m\u001b[0m\n",
            "\u001b[0;32m~/.local/lib/python3.8/site-packages/sklearn/model_selection/_validation.py\u001b[0m in \u001b[0;36mcross_validate\u001b[0;34m(estimator, X, y, groups, scoring, cv, n_jobs, verbose, fit_params, pre_dispatch, return_train_score, return_estimator, error_score)\u001b[0m\n\u001b[1;32m    265\u001b[0m     \u001b[0;31m# independent, and that it is pickle-able.\u001b[0m\u001b[0;34m\u001b[0m\u001b[0;34m\u001b[0m\u001b[0;34m\u001b[0m\u001b[0m\n\u001b[1;32m    266\u001b[0m     \u001b[0mparallel\u001b[0m \u001b[0;34m=\u001b[0m \u001b[0mParallel\u001b[0m\u001b[0;34m(\u001b[0m\u001b[0mn_jobs\u001b[0m\u001b[0;34m=\u001b[0m\u001b[0mn_jobs\u001b[0m\u001b[0;34m,\u001b[0m \u001b[0mverbose\u001b[0m\u001b[0;34m=\u001b[0m\u001b[0mverbose\u001b[0m\u001b[0;34m,\u001b[0m \u001b[0mpre_dispatch\u001b[0m\u001b[0;34m=\u001b[0m\u001b[0mpre_dispatch\u001b[0m\u001b[0;34m)\u001b[0m\u001b[0;34m\u001b[0m\u001b[0;34m\u001b[0m\u001b[0m\n\u001b[0;32m--> 267\u001b[0;31m     results = parallel(\n\u001b[0m\u001b[1;32m    268\u001b[0m         delayed(_fit_and_score)(\n\u001b[1;32m    269\u001b[0m             \u001b[0mclone\u001b[0m\u001b[0;34m(\u001b[0m\u001b[0mestimator\u001b[0m\u001b[0;34m)\u001b[0m\u001b[0;34m,\u001b[0m\u001b[0;34m\u001b[0m\u001b[0;34m\u001b[0m\u001b[0m\n",
            "\u001b[0;32m~/.local/lib/python3.8/site-packages/joblib/parallel.py\u001b[0m in \u001b[0;36m__call__\u001b[0;34m(self, iterable)\u001b[0m\n\u001b[1;32m   1041\u001b[0m             \u001b[0;31m# remaining jobs.\u001b[0m\u001b[0;34m\u001b[0m\u001b[0;34m\u001b[0m\u001b[0;34m\u001b[0m\u001b[0m\n\u001b[1;32m   1042\u001b[0m             \u001b[0mself\u001b[0m\u001b[0;34m.\u001b[0m\u001b[0m_iterating\u001b[0m \u001b[0;34m=\u001b[0m \u001b[0;32mFalse\u001b[0m\u001b[0;34m\u001b[0m\u001b[0;34m\u001b[0m\u001b[0m\n\u001b[0;32m-> 1043\u001b[0;31m             \u001b[0;32mif\u001b[0m \u001b[0mself\u001b[0m\u001b[0;34m.\u001b[0m\u001b[0mdispatch_one_batch\u001b[0m\u001b[0;34m(\u001b[0m\u001b[0miterator\u001b[0m\u001b[0;34m)\u001b[0m\u001b[0;34m:\u001b[0m\u001b[0;34m\u001b[0m\u001b[0;34m\u001b[0m\u001b[0m\n\u001b[0m\u001b[1;32m   1044\u001b[0m                 \u001b[0mself\u001b[0m\u001b[0;34m.\u001b[0m\u001b[0m_iterating\u001b[0m \u001b[0;34m=\u001b[0m \u001b[0mself\u001b[0m\u001b[0;34m.\u001b[0m\u001b[0m_original_iterator\u001b[0m \u001b[0;32mis\u001b[0m \u001b[0;32mnot\u001b[0m \u001b[0;32mNone\u001b[0m\u001b[0;34m\u001b[0m\u001b[0;34m\u001b[0m\u001b[0m\n\u001b[1;32m   1045\u001b[0m \u001b[0;34m\u001b[0m\u001b[0m\n",
            "\u001b[0;32m~/.local/lib/python3.8/site-packages/joblib/parallel.py\u001b[0m in \u001b[0;36mdispatch_one_batch\u001b[0;34m(self, iterator)\u001b[0m\n\u001b[1;32m    859\u001b[0m                 \u001b[0;32mreturn\u001b[0m \u001b[0;32mFalse\u001b[0m\u001b[0;34m\u001b[0m\u001b[0;34m\u001b[0m\u001b[0m\n\u001b[1;32m    860\u001b[0m             \u001b[0;32melse\u001b[0m\u001b[0;34m:\u001b[0m\u001b[0;34m\u001b[0m\u001b[0;34m\u001b[0m\u001b[0m\n\u001b[0;32m--> 861\u001b[0;31m                 \u001b[0mself\u001b[0m\u001b[0;34m.\u001b[0m\u001b[0m_dispatch\u001b[0m\u001b[0;34m(\u001b[0m\u001b[0mtasks\u001b[0m\u001b[0;34m)\u001b[0m\u001b[0;34m\u001b[0m\u001b[0;34m\u001b[0m\u001b[0m\n\u001b[0m\u001b[1;32m    862\u001b[0m                 \u001b[0;32mreturn\u001b[0m \u001b[0;32mTrue\u001b[0m\u001b[0;34m\u001b[0m\u001b[0;34m\u001b[0m\u001b[0m\n\u001b[1;32m    863\u001b[0m \u001b[0;34m\u001b[0m\u001b[0m\n",
            "\u001b[0;32m~/.local/lib/python3.8/site-packages/joblib/parallel.py\u001b[0m in \u001b[0;36m_dispatch\u001b[0;34m(self, batch)\u001b[0m\n\u001b[1;32m    777\u001b[0m         \u001b[0;32mwith\u001b[0m \u001b[0mself\u001b[0m\u001b[0;34m.\u001b[0m\u001b[0m_lock\u001b[0m\u001b[0;34m:\u001b[0m\u001b[0;34m\u001b[0m\u001b[0;34m\u001b[0m\u001b[0m\n\u001b[1;32m    778\u001b[0m             \u001b[0mjob_idx\u001b[0m \u001b[0;34m=\u001b[0m \u001b[0mlen\u001b[0m\u001b[0;34m(\u001b[0m\u001b[0mself\u001b[0m\u001b[0;34m.\u001b[0m\u001b[0m_jobs\u001b[0m\u001b[0;34m)\u001b[0m\u001b[0;34m\u001b[0m\u001b[0;34m\u001b[0m\u001b[0m\n\u001b[0;32m--> 779\u001b[0;31m             \u001b[0mjob\u001b[0m \u001b[0;34m=\u001b[0m \u001b[0mself\u001b[0m\u001b[0;34m.\u001b[0m\u001b[0m_backend\u001b[0m\u001b[0;34m.\u001b[0m\u001b[0mapply_async\u001b[0m\u001b[0;34m(\u001b[0m\u001b[0mbatch\u001b[0m\u001b[0;34m,\u001b[0m \u001b[0mcallback\u001b[0m\u001b[0;34m=\u001b[0m\u001b[0mcb\u001b[0m\u001b[0;34m)\u001b[0m\u001b[0;34m\u001b[0m\u001b[0;34m\u001b[0m\u001b[0m\n\u001b[0m\u001b[1;32m    780\u001b[0m             \u001b[0;31m# A job can complete so quickly than its callback is\u001b[0m\u001b[0;34m\u001b[0m\u001b[0;34m\u001b[0m\u001b[0;34m\u001b[0m\u001b[0m\n\u001b[1;32m    781\u001b[0m             \u001b[0;31m# called before we get here, causing self._jobs to\u001b[0m\u001b[0;34m\u001b[0m\u001b[0;34m\u001b[0m\u001b[0;34m\u001b[0m\u001b[0m\n",
            "\u001b[0;32m~/.local/lib/python3.8/site-packages/joblib/_parallel_backends.py\u001b[0m in \u001b[0;36mapply_async\u001b[0;34m(self, func, callback)\u001b[0m\n\u001b[1;32m    206\u001b[0m     \u001b[0;32mdef\u001b[0m \u001b[0mapply_async\u001b[0m\u001b[0;34m(\u001b[0m\u001b[0mself\u001b[0m\u001b[0;34m,\u001b[0m \u001b[0mfunc\u001b[0m\u001b[0;34m,\u001b[0m \u001b[0mcallback\u001b[0m\u001b[0;34m=\u001b[0m\u001b[0;32mNone\u001b[0m\u001b[0;34m)\u001b[0m\u001b[0;34m:\u001b[0m\u001b[0;34m\u001b[0m\u001b[0;34m\u001b[0m\u001b[0m\n\u001b[1;32m    207\u001b[0m         \u001b[0;34m\"\"\"Schedule a func to be run\"\"\"\u001b[0m\u001b[0;34m\u001b[0m\u001b[0;34m\u001b[0m\u001b[0m\n\u001b[0;32m--> 208\u001b[0;31m         \u001b[0mresult\u001b[0m \u001b[0;34m=\u001b[0m \u001b[0mImmediateResult\u001b[0m\u001b[0;34m(\u001b[0m\u001b[0mfunc\u001b[0m\u001b[0;34m)\u001b[0m\u001b[0;34m\u001b[0m\u001b[0;34m\u001b[0m\u001b[0m\n\u001b[0m\u001b[1;32m    209\u001b[0m         \u001b[0;32mif\u001b[0m \u001b[0mcallback\u001b[0m\u001b[0;34m:\u001b[0m\u001b[0;34m\u001b[0m\u001b[0;34m\u001b[0m\u001b[0m\n\u001b[1;32m    210\u001b[0m             \u001b[0mcallback\u001b[0m\u001b[0;34m(\u001b[0m\u001b[0mresult\u001b[0m\u001b[0;34m)\u001b[0m\u001b[0;34m\u001b[0m\u001b[0;34m\u001b[0m\u001b[0m\n",
            "\u001b[0;32m~/.local/lib/python3.8/site-packages/joblib/_parallel_backends.py\u001b[0m in \u001b[0;36m__init__\u001b[0;34m(self, batch)\u001b[0m\n\u001b[1;32m    570\u001b[0m         \u001b[0;31m# Don't delay the application, to avoid keeping the input\u001b[0m\u001b[0;34m\u001b[0m\u001b[0;34m\u001b[0m\u001b[0;34m\u001b[0m\u001b[0m\n\u001b[1;32m    571\u001b[0m         \u001b[0;31m# arguments in memory\u001b[0m\u001b[0;34m\u001b[0m\u001b[0;34m\u001b[0m\u001b[0;34m\u001b[0m\u001b[0m\n\u001b[0;32m--> 572\u001b[0;31m         \u001b[0mself\u001b[0m\u001b[0;34m.\u001b[0m\u001b[0mresults\u001b[0m \u001b[0;34m=\u001b[0m \u001b[0mbatch\u001b[0m\u001b[0;34m(\u001b[0m\u001b[0;34m)\u001b[0m\u001b[0;34m\u001b[0m\u001b[0;34m\u001b[0m\u001b[0m\n\u001b[0m\u001b[1;32m    573\u001b[0m \u001b[0;34m\u001b[0m\u001b[0m\n\u001b[1;32m    574\u001b[0m     \u001b[0;32mdef\u001b[0m \u001b[0mget\u001b[0m\u001b[0;34m(\u001b[0m\u001b[0mself\u001b[0m\u001b[0;34m)\u001b[0m\u001b[0;34m:\u001b[0m\u001b[0;34m\u001b[0m\u001b[0;34m\u001b[0m\u001b[0m\n",
            "\u001b[0;32m~/.local/lib/python3.8/site-packages/joblib/parallel.py\u001b[0m in \u001b[0;36m__call__\u001b[0;34m(self)\u001b[0m\n\u001b[1;32m    260\u001b[0m         \u001b[0;31m# change the default number of processes to -1\u001b[0m\u001b[0;34m\u001b[0m\u001b[0;34m\u001b[0m\u001b[0;34m\u001b[0m\u001b[0m\n\u001b[1;32m    261\u001b[0m         \u001b[0;32mwith\u001b[0m \u001b[0mparallel_backend\u001b[0m\u001b[0;34m(\u001b[0m\u001b[0mself\u001b[0m\u001b[0;34m.\u001b[0m\u001b[0m_backend\u001b[0m\u001b[0;34m,\u001b[0m \u001b[0mn_jobs\u001b[0m\u001b[0;34m=\u001b[0m\u001b[0mself\u001b[0m\u001b[0;34m.\u001b[0m\u001b[0m_n_jobs\u001b[0m\u001b[0;34m)\u001b[0m\u001b[0;34m:\u001b[0m\u001b[0;34m\u001b[0m\u001b[0;34m\u001b[0m\u001b[0m\n\u001b[0;32m--> 262\u001b[0;31m             return [func(*args, **kwargs)\n\u001b[0m\u001b[1;32m    263\u001b[0m                     for func, args, kwargs in self.items]\n\u001b[1;32m    264\u001b[0m \u001b[0;34m\u001b[0m\u001b[0m\n",
            "\u001b[0;32m~/.local/lib/python3.8/site-packages/joblib/parallel.py\u001b[0m in \u001b[0;36m<listcomp>\u001b[0;34m(.0)\u001b[0m\n\u001b[1;32m    260\u001b[0m         \u001b[0;31m# change the default number of processes to -1\u001b[0m\u001b[0;34m\u001b[0m\u001b[0;34m\u001b[0m\u001b[0;34m\u001b[0m\u001b[0m\n\u001b[1;32m    261\u001b[0m         \u001b[0;32mwith\u001b[0m \u001b[0mparallel_backend\u001b[0m\u001b[0;34m(\u001b[0m\u001b[0mself\u001b[0m\u001b[0;34m.\u001b[0m\u001b[0m_backend\u001b[0m\u001b[0;34m,\u001b[0m \u001b[0mn_jobs\u001b[0m\u001b[0;34m=\u001b[0m\u001b[0mself\u001b[0m\u001b[0;34m.\u001b[0m\u001b[0m_n_jobs\u001b[0m\u001b[0;34m)\u001b[0m\u001b[0;34m:\u001b[0m\u001b[0;34m\u001b[0m\u001b[0;34m\u001b[0m\u001b[0m\n\u001b[0;32m--> 262\u001b[0;31m             return [func(*args, **kwargs)\n\u001b[0m\u001b[1;32m    263\u001b[0m                     for func, args, kwargs in self.items]\n\u001b[1;32m    264\u001b[0m \u001b[0;34m\u001b[0m\u001b[0m\n",
            "\u001b[0;32m~/.local/lib/python3.8/site-packages/sklearn/utils/fixes.py\u001b[0m in \u001b[0;36m__call__\u001b[0;34m(self, *args, **kwargs)\u001b[0m\n\u001b[1;32m    214\u001b[0m     \u001b[0;32mdef\u001b[0m \u001b[0m__call__\u001b[0m\u001b[0;34m(\u001b[0m\u001b[0mself\u001b[0m\u001b[0;34m,\u001b[0m \u001b[0;34m*\u001b[0m\u001b[0margs\u001b[0m\u001b[0;34m,\u001b[0m \u001b[0;34m**\u001b[0m\u001b[0mkwargs\u001b[0m\u001b[0;34m)\u001b[0m\u001b[0;34m:\u001b[0m\u001b[0;34m\u001b[0m\u001b[0;34m\u001b[0m\u001b[0m\n\u001b[1;32m    215\u001b[0m         \u001b[0;32mwith\u001b[0m \u001b[0mconfig_context\u001b[0m\u001b[0;34m(\u001b[0m\u001b[0;34m**\u001b[0m\u001b[0mself\u001b[0m\u001b[0;34m.\u001b[0m\u001b[0mconfig\u001b[0m\u001b[0;34m)\u001b[0m\u001b[0;34m:\u001b[0m\u001b[0;34m\u001b[0m\u001b[0;34m\u001b[0m\u001b[0m\n\u001b[0;32m--> 216\u001b[0;31m             \u001b[0;32mreturn\u001b[0m \u001b[0mself\u001b[0m\u001b[0;34m.\u001b[0m\u001b[0mfunction\u001b[0m\u001b[0;34m(\u001b[0m\u001b[0;34m*\u001b[0m\u001b[0margs\u001b[0m\u001b[0;34m,\u001b[0m \u001b[0;34m**\u001b[0m\u001b[0mkwargs\u001b[0m\u001b[0;34m)\u001b[0m\u001b[0;34m\u001b[0m\u001b[0;34m\u001b[0m\u001b[0m\n\u001b[0m\u001b[1;32m    217\u001b[0m \u001b[0;34m\u001b[0m\u001b[0m\n\u001b[1;32m    218\u001b[0m \u001b[0;34m\u001b[0m\u001b[0m\n",
            "\u001b[0;32m~/.local/lib/python3.8/site-packages/sklearn/model_selection/_validation.py\u001b[0m in \u001b[0;36m_fit_and_score\u001b[0;34m(estimator, X, y, scorer, train, test, verbose, parameters, fit_params, return_train_score, return_parameters, return_n_test_samples, return_times, return_estimator, split_progress, candidate_progress, error_score)\u001b[0m\n\u001b[1;32m    678\u001b[0m             \u001b[0mestimator\u001b[0m\u001b[0;34m.\u001b[0m\u001b[0mfit\u001b[0m\u001b[0;34m(\u001b[0m\u001b[0mX_train\u001b[0m\u001b[0;34m,\u001b[0m \u001b[0;34m**\u001b[0m\u001b[0mfit_params\u001b[0m\u001b[0;34m)\u001b[0m\u001b[0;34m\u001b[0m\u001b[0;34m\u001b[0m\u001b[0m\n\u001b[1;32m    679\u001b[0m         \u001b[0;32melse\u001b[0m\u001b[0;34m:\u001b[0m\u001b[0;34m\u001b[0m\u001b[0;34m\u001b[0m\u001b[0m\n\u001b[0;32m--> 680\u001b[0;31m             \u001b[0mestimator\u001b[0m\u001b[0;34m.\u001b[0m\u001b[0mfit\u001b[0m\u001b[0;34m(\u001b[0m\u001b[0mX_train\u001b[0m\u001b[0;34m,\u001b[0m \u001b[0my_train\u001b[0m\u001b[0;34m,\u001b[0m \u001b[0;34m**\u001b[0m\u001b[0mfit_params\u001b[0m\u001b[0;34m)\u001b[0m\u001b[0;34m\u001b[0m\u001b[0;34m\u001b[0m\u001b[0m\n\u001b[0m\u001b[1;32m    681\u001b[0m \u001b[0;34m\u001b[0m\u001b[0m\n\u001b[1;32m    682\u001b[0m     \u001b[0;32mexcept\u001b[0m \u001b[0mException\u001b[0m\u001b[0;34m:\u001b[0m\u001b[0;34m\u001b[0m\u001b[0;34m\u001b[0m\u001b[0m\n",
            "\u001b[0;32m~/.local/lib/python3.8/site-packages/sklearn/tree/_classes.py\u001b[0m in \u001b[0;36mfit\u001b[0;34m(self, X, y, sample_weight, check_input, X_idx_sorted)\u001b[0m\n\u001b[1;32m   1313\u001b[0m         \"\"\"\n\u001b[1;32m   1314\u001b[0m \u001b[0;34m\u001b[0m\u001b[0m\n\u001b[0;32m-> 1315\u001b[0;31m         super().fit(\n\u001b[0m\u001b[1;32m   1316\u001b[0m             \u001b[0mX\u001b[0m\u001b[0;34m,\u001b[0m\u001b[0;34m\u001b[0m\u001b[0;34m\u001b[0m\u001b[0m\n\u001b[1;32m   1317\u001b[0m             \u001b[0my\u001b[0m\u001b[0;34m,\u001b[0m\u001b[0;34m\u001b[0m\u001b[0;34m\u001b[0m\u001b[0m\n",
            "\u001b[0;32m~/.local/lib/python3.8/site-packages/sklearn/tree/_classes.py\u001b[0m in \u001b[0;36mfit\u001b[0;34m(self, X, y, sample_weight, check_input, X_idx_sorted)\u001b[0m\n\u001b[1;32m    418\u001b[0m             )\n\u001b[1;32m    419\u001b[0m \u001b[0;34m\u001b[0m\u001b[0m\n\u001b[0;32m--> 420\u001b[0;31m         \u001b[0mbuilder\u001b[0m\u001b[0;34m.\u001b[0m\u001b[0mbuild\u001b[0m\u001b[0;34m(\u001b[0m\u001b[0mself\u001b[0m\u001b[0;34m.\u001b[0m\u001b[0mtree_\u001b[0m\u001b[0;34m,\u001b[0m \u001b[0mX\u001b[0m\u001b[0;34m,\u001b[0m \u001b[0my\u001b[0m\u001b[0;34m,\u001b[0m \u001b[0msample_weight\u001b[0m\u001b[0;34m)\u001b[0m\u001b[0;34m\u001b[0m\u001b[0;34m\u001b[0m\u001b[0m\n\u001b[0m\u001b[1;32m    421\u001b[0m \u001b[0;34m\u001b[0m\u001b[0m\n\u001b[1;32m    422\u001b[0m         \u001b[0;32mif\u001b[0m \u001b[0mself\u001b[0m\u001b[0;34m.\u001b[0m\u001b[0mn_outputs_\u001b[0m \u001b[0;34m==\u001b[0m \u001b[0;36m1\u001b[0m \u001b[0;32mand\u001b[0m \u001b[0mis_classifier\u001b[0m\u001b[0;34m(\u001b[0m\u001b[0mself\u001b[0m\u001b[0;34m)\u001b[0m\u001b[0;34m:\u001b[0m\u001b[0;34m\u001b[0m\u001b[0;34m\u001b[0m\u001b[0m\n",
            "\u001b[0;31mKeyboardInterrupt\u001b[0m: "
          ]
        }
      ],
      "source": [
        "### BEGIN Solution\n",
        "tree = DecisionTreeRegressor(random_state=0)\n",
        "forward_steps(X_train, y_train, 2, tree)\n",
        "### END Solution"
      ]
    },
    {
      "cell_type": "code",
      "execution_count": null,
      "id": "4560ec5e",
      "metadata": {
        "id": "4560ec5e",
        "outputId": "400986d0-7081-415f-ada7-d341316016d2"
      },
      "outputs": [
        {
          "data": {
            "text/plain": [
              "Index(['full_sq', 'life_sq', 'floor', 'max_floor', 'material', 'build_year',\n",
              "       'num_room', 'kitch_sq', 'state', 'area_m',\n",
              "       ...\n",
              "       'child_on_acc_pre_school_3,013', 'child_on_acc_pre_school_7,311',\n",
              "       'modern_education_share_0', 'modern_education_share_90,92',\n",
              "       'modern_education_share_93,08', 'modern_education_share_95,4918',\n",
              "       'old_education_build_share_0', 'old_education_build_share_23,14',\n",
              "       'old_education_build_share_25,47', 'old_education_build_share_8,2517'],\n",
              "      dtype='object', length=560)"
            ]
          },
          "execution_count": 214,
          "metadata": {},
          "output_type": "execute_result"
        }
      ],
      "source": [
        "X.columns.drop(['life_sq'])\n",
        "X.columns"
      ]
    },
    {
      "cell_type": "markdown",
      "id": "contrary-packet",
      "metadata": {
        "id": "contrary-packet"
      },
      "source": [
        "**1.3.4) Use Linear Regression, Ridge regression, Random forest and DecisionTree to get the RMSLE scores using these features. Remember the function you wrote earlier.**"
      ]
    },
    {
      "cell_type": "code",
      "execution_count": null,
      "id": "graduate-tooth",
      "metadata": {
        "colab": {
          "base_uri": "https://localhost:8080/",
          "height": 221
        },
        "id": "graduate-tooth",
        "outputId": "72812408-0c21-4229-ff2d-f29243966f3d"
      },
      "outputs": [
        {
          "name": "stdout",
          "output_type": "stream",
          "text": [
            "EXPECTED OUTPUT FORMAT\n"
          ]
        },
        {
          "data": {
            "text/html": [
              "<div>\n",
              "<style scoped>\n",
              "    .dataframe tbody tr th:only-of-type {\n",
              "        vertical-align: middle;\n",
              "    }\n",
              "\n",
              "    .dataframe tbody tr th {\n",
              "        vertical-align: top;\n",
              "    }\n",
              "\n",
              "    .dataframe thead th {\n",
              "        text-align: right;\n",
              "    }\n",
              "</style>\n",
              "<table border=\"1\" class=\"dataframe\">\n",
              "  <thead>\n",
              "    <tr style=\"text-align: right;\">\n",
              "      <th></th>\n",
              "      <th>Methods</th>\n",
              "      <th>Train error</th>\n",
              "      <th>Test error</th>\n",
              "    </tr>\n",
              "  </thead>\n",
              "  <tbody>\n",
              "    <tr>\n",
              "      <th>0</th>\n",
              "      <td>Linear Regression</td>\n",
              "      <td>0.001254</td>\n",
              "      <td>0.001256</td>\n",
              "    </tr>\n",
              "    <tr>\n",
              "      <th>1</th>\n",
              "      <td>Lasso</td>\n",
              "      <td>0.001369</td>\n",
              "      <td>0.001361</td>\n",
              "    </tr>\n",
              "    <tr>\n",
              "      <th>2</th>\n",
              "      <td>Ridge</td>\n",
              "      <td>0.001254</td>\n",
              "      <td>0.001256</td>\n",
              "    </tr>\n",
              "    <tr>\n",
              "      <th>3</th>\n",
              "      <td>Dtree</td>\n",
              "      <td>0.000018</td>\n",
              "      <td>0.002222</td>\n",
              "    </tr>\n",
              "    <tr>\n",
              "      <th>4</th>\n",
              "      <td>RFR</td>\n",
              "      <td>0.000185</td>\n",
              "      <td>0.001215</td>\n",
              "    </tr>\n",
              "  </tbody>\n",
              "</table>\n",
              "</div>"
            ],
            "text/plain": [
              "             Methods  Train error  Test error\n",
              "0  Linear Regression     0.001254    0.001256\n",
              "1              Lasso     0.001369    0.001361\n",
              "2              Ridge     0.001254    0.001256\n",
              "3              Dtree     0.000018    0.002222\n",
              "4                RFR     0.000185    0.001215"
            ]
          },
          "execution_count": 18,
          "metadata": {},
          "output_type": "execute_result"
        }
      ],
      "source": [
        "### BEGIN Solution\n",
        "\n",
        "### END Solution"
      ]
    },
    {
      "cell_type": "markdown",
      "id": "infinite-navigation",
      "metadata": {
        "id": "infinite-navigation"
      },
      "source": [
        "<br>"
      ]
    },
    {
      "cell_type": "markdown",
      "id": "individual-rendering",
      "metadata": {
        "id": "individual-rendering"
      },
      "source": [
        "## Task 2. Multi-Class Classification Strategies (1 point)\n",
        "In this task, you will deal with the multiclass classification problem for the Glass Classification Data. Let's load the dataset."
      ]
    },
    {
      "cell_type": "code",
      "execution_count": null,
      "id": "technical-trader",
      "metadata": {
        "colab": {
          "base_uri": "https://localhost:8080/",
          "height": 142
        },
        "id": "technical-trader",
        "outputId": "91043ffe-6127-441b-a6ae-58f111768d40"
      },
      "outputs": [
        {
          "data": {
            "text/html": [
              "<div>\n",
              "<style scoped>\n",
              "    .dataframe tbody tr th:only-of-type {\n",
              "        vertical-align: middle;\n",
              "    }\n",
              "\n",
              "    .dataframe tbody tr th {\n",
              "        vertical-align: top;\n",
              "    }\n",
              "\n",
              "    .dataframe thead th {\n",
              "        text-align: right;\n",
              "    }\n",
              "</style>\n",
              "<table border=\"1\" class=\"dataframe\">\n",
              "  <thead>\n",
              "    <tr style=\"text-align: right;\">\n",
              "      <th></th>\n",
              "      <th>RI</th>\n",
              "      <th>Na</th>\n",
              "      <th>Mg</th>\n",
              "      <th>Al</th>\n",
              "      <th>Si</th>\n",
              "      <th>K</th>\n",
              "      <th>Ca</th>\n",
              "      <th>Ba</th>\n",
              "      <th>Fe</th>\n",
              "      <th>Type</th>\n",
              "    </tr>\n",
              "  </thead>\n",
              "  <tbody>\n",
              "    <tr>\n",
              "      <th>114</th>\n",
              "      <td>1.51847</td>\n",
              "      <td>13.10</td>\n",
              "      <td>3.97</td>\n",
              "      <td>1.19</td>\n",
              "      <td>72.44</td>\n",
              "      <td>0.60</td>\n",
              "      <td>8.43</td>\n",
              "      <td>0.0</td>\n",
              "      <td>0.0</td>\n",
              "      <td>2</td>\n",
              "    </tr>\n",
              "    <tr>\n",
              "      <th>138</th>\n",
              "      <td>1.51674</td>\n",
              "      <td>12.79</td>\n",
              "      <td>3.52</td>\n",
              "      <td>1.54</td>\n",
              "      <td>73.36</td>\n",
              "      <td>0.66</td>\n",
              "      <td>7.90</td>\n",
              "      <td>0.0</td>\n",
              "      <td>0.0</td>\n",
              "      <td>2</td>\n",
              "    </tr>\n",
              "    <tr>\n",
              "      <th>8</th>\n",
              "      <td>1.51918</td>\n",
              "      <td>14.04</td>\n",
              "      <td>3.58</td>\n",
              "      <td>1.37</td>\n",
              "      <td>72.08</td>\n",
              "      <td>0.56</td>\n",
              "      <td>8.30</td>\n",
              "      <td>0.0</td>\n",
              "      <td>0.0</td>\n",
              "      <td>1</td>\n",
              "    </tr>\n",
              "  </tbody>\n",
              "</table>\n",
              "</div>"
            ],
            "text/plain": [
              "          RI     Na    Mg    Al     Si     K    Ca   Ba   Fe  Type\n",
              "114  1.51847  13.10  3.97  1.19  72.44  0.60  8.43  0.0  0.0     2\n",
              "138  1.51674  12.79  3.52  1.54  73.36  0.66  7.90  0.0  0.0     2\n",
              "8    1.51918  14.04  3.58  1.37  72.08  0.56  8.30  0.0  0.0     1"
            ]
          },
          "execution_count": 19,
          "metadata": {},
          "output_type": "execute_result"
        }
      ],
      "source": [
        "data = pd.read_csv('glass.csv')\n",
        "X, y = data.drop('Type', axis=1), data.Type\n",
        "data.sample(3)"
      ]
    },
    {
      "cell_type": "markdown",
      "id": "flying-region",
      "metadata": {
        "id": "flying-region"
      },
      "source": [
        "The features of each glass object correspond to the fraction of the particular chemical element in the object. The target variable corresponds to the type of glass (6 classes).\n",
        "\n",
        "In this problem, you have to empirically compare the time complexity and performance of several multiclass labeling strategies for different algorithms. You must consider the following algorithms:\n",
        "* Single Decision Tree (depth 7)\n",
        "* Medium Random Forest (100 trees of depth 3)\n",
        "* KNearestNeighbors (5 neighbors)\n",
        "* Logistic Regression\n",
        "\n",
        "Note that all these algorithms by default support **multiclass labeling**. Nevertheless, we want you to compare this approach with **OneVSRest** and **OneVSOne** approaches applied to these algorithms. More precisely, for every pair (algorithm, approach) you are to perform a 5-fold cross-validation on the data and output the validation score and the computation time in the **table** form. Please note that you also have to choose the metric to optimize during CV (e.g. accuracy, balanced accuracy) on your own. \n",
        "\n",
        "After that, you are to answer the following questions:\n",
        "* Which metric did you choose to optimize during cross-validation and why? Explain\n",
        "* For which algorithms the usage of OneVSRest/OneVSOne approach provides significantly better performance without a significant increase in computation time?"
      ]
    },
    {
      "cell_type": "code",
      "execution_count": null,
      "id": "authentic-slope",
      "metadata": {
        "colab": {
          "base_uri": "https://localhost:8080/",
          "height": 301
        },
        "id": "authentic-slope",
        "outputId": "5421c6dc-461c-4d7e-c472-aaf96785958a"
      },
      "outputs": [
        {
          "name": "stdout",
          "output_type": "stream",
          "text": [
            "EXPECTED OUTPUT FORMAT\n",
            "Cross Validation Scores\n"
          ]
        },
        {
          "data": {
            "text/html": [
              "<div>\n",
              "<style scoped>\n",
              "    .dataframe tbody tr th:only-of-type {\n",
              "        vertical-align: middle;\n",
              "    }\n",
              "\n",
              "    .dataframe tbody tr th {\n",
              "        vertical-align: top;\n",
              "    }\n",
              "\n",
              "    .dataframe thead th {\n",
              "        text-align: right;\n",
              "    }\n",
              "</style>\n",
              "<table border=\"1\" class=\"dataframe\">\n",
              "  <thead>\n",
              "    <tr style=\"text-align: right;\">\n",
              "      <th></th>\n",
              "      <th>Logistic</th>\n",
              "      <th>Random Forest</th>\n",
              "      <th>K Nearest Neighbors</th>\n",
              "      <th>Decision Tree</th>\n",
              "    </tr>\n",
              "  </thead>\n",
              "  <tbody>\n",
              "    <tr>\n",
              "      <th>Multiclass</th>\n",
              "      <td>0.549127</td>\n",
              "      <td>0.503175</td>\n",
              "      <td>0.548234</td>\n",
              "      <td>0.566865</td>\n",
              "    </tr>\n",
              "    <tr>\n",
              "      <th>OneVsRest</th>\n",
              "      <td>0.458909</td>\n",
              "      <td>0.561429</td>\n",
              "      <td>0.602202</td>\n",
              "      <td>0.525615</td>\n",
              "    </tr>\n",
              "    <tr>\n",
              "      <th>OneVsOne</th>\n",
              "      <td>0.512321</td>\n",
              "      <td>0.579206</td>\n",
              "      <td>0.560139</td>\n",
              "      <td>0.649782</td>\n",
              "    </tr>\n",
              "  </tbody>\n",
              "</table>\n",
              "</div>"
            ],
            "text/plain": [
              "            Logistic Random Forest K Nearest Neighbors Decision Tree\n",
              "Multiclass  0.549127      0.503175            0.548234      0.566865\n",
              "OneVsRest   0.458909      0.561429            0.602202      0.525615\n",
              "OneVsOne    0.512321      0.579206            0.560139      0.649782"
            ]
          },
          "metadata": {},
          "output_type": "display_data"
        },
        {
          "name": "stdout",
          "output_type": "stream",
          "text": [
            "Training Duration (CV=5)\n"
          ]
        },
        {
          "data": {
            "text/html": [
              "<div>\n",
              "<style scoped>\n",
              "    .dataframe tbody tr th:only-of-type {\n",
              "        vertical-align: middle;\n",
              "    }\n",
              "\n",
              "    .dataframe tbody tr th {\n",
              "        vertical-align: top;\n",
              "    }\n",
              "\n",
              "    .dataframe thead th {\n",
              "        text-align: right;\n",
              "    }\n",
              "</style>\n",
              "<table border=\"1\" class=\"dataframe\">\n",
              "  <thead>\n",
              "    <tr style=\"text-align: right;\">\n",
              "      <th></th>\n",
              "      <th>Logistic</th>\n",
              "      <th>Random Forest</th>\n",
              "      <th>K Nearest Neighbors</th>\n",
              "      <th>Decision Tree</th>\n",
              "    </tr>\n",
              "  </thead>\n",
              "  <tbody>\n",
              "    <tr>\n",
              "      <th>Multiclass</th>\n",
              "      <td>2.05735</td>\n",
              "      <td>0.799707</td>\n",
              "      <td>0.228685</td>\n",
              "      <td>0.0153491</td>\n",
              "    </tr>\n",
              "    <tr>\n",
              "      <th>OneVsRest</th>\n",
              "      <td>0.223413</td>\n",
              "      <td>3.32589</td>\n",
              "      <td>1.48595</td>\n",
              "      <td>0.225193</td>\n",
              "    </tr>\n",
              "    <tr>\n",
              "      <th>OneVsOne</th>\n",
              "      <td>0.320705</td>\n",
              "      <td>11.0821</td>\n",
              "      <td>6.5836</td>\n",
              "      <td>0.228742</td>\n",
              "    </tr>\n",
              "  </tbody>\n",
              "</table>\n",
              "</div>"
            ],
            "text/plain": [
              "            Logistic Random Forest K Nearest Neighbors Decision Tree\n",
              "Multiclass   2.05735      0.799707            0.228685     0.0153491\n",
              "OneVsRest   0.223413       3.32589             1.48595      0.225193\n",
              "OneVsOne    0.320705       11.0821              6.5836      0.228742"
            ]
          },
          "metadata": {},
          "output_type": "display_data"
        }
      ],
      "source": [
        "### BEGIN Solution (do not delete this comment)\n",
        "\n",
        "### END Solution (do not delete this comment)"
      ]
    },
    {
      "cell_type": "markdown",
      "id": "married-preserve",
      "metadata": {
        "id": "married-preserve"
      },
      "source": [
        "**Which metric did you choose to optimize during cross validation and why? Explain**"
      ]
    },
    {
      "cell_type": "markdown",
      "id": "dutch-alfred",
      "metadata": {
        "id": "dutch-alfred"
      },
      "source": [
        "**Your text answer (do not delete this comment)**:\n",
        "\n",
        "\\<write your answer\\>"
      ]
    },
    {
      "cell_type": "markdown",
      "id": "elect-jerusalem",
      "metadata": {
        "id": "elect-jerusalem"
      },
      "source": [
        "**For which algorithms the usage of OneVSRest/OneVSOne approach provides significantly better performance without a significant increase in computation time?**"
      ]
    },
    {
      "cell_type": "markdown",
      "id": "CH04Ord57RS4",
      "metadata": {
        "id": "CH04Ord57RS4"
      },
      "source": [
        "**Your text answer (do not delete this comment)**:\n",
        "\n",
        "\\<write your answer\\>"
      ]
    },
    {
      "cell_type": "markdown",
      "id": "electric-matthew",
      "metadata": {
        "id": "electric-matthew"
      },
      "source": [
        "# Task 3. Stacking (2 points)"
      ]
    },
    {
      "cell_type": "markdown",
      "id": "third-liverpool",
      "metadata": {
        "id": "third-liverpool"
      },
      "source": [
        "Stacking is an ensembling approach, which combines several algorithms (base models) to get better results. This is achieved by **a)** training the base models (any ML models) on the initial train data (or parts of the train data, see the paragraph below), **b)** training the meta-model (also an ML model) on the predictions of those base models.\n",
        "\n",
        "One of the main problems of stacking is overfitting. To avoid it, when evaluating the performance of the meta-model on the train set, the training data is divided into $ n $ folds, $ (n-1) $ of which are used for training the base models. The $ n $ -th fold is used for the overall prediction (calculating the meta-factor) in the following manner: the predictions on the $ n $ -th fold are made by the base models (already trained on the rest of the dataset), then these predictions on the $ n $ -th fold are fed as inputs to the meta-model.\n",
        "\n",
        "When evaluating the performance of the meta-model on the test set, there can be used various approaches$.^{[1]}$ For example, in order, to obtain meta-factors for the test data, the base classifiers can be retrained on the entire training set, since the problem of overfitting does not arise here. In other words, if we want to calculate the factors for the test set, we can safely use the training set to train the base classifiers (once again, as it is said in the paragraph above, if we want to calculate factors for the training set, then it is necessary to ensure that the classifier does not predict for those objects on which it has been trained).  \n",
        "\n",
        "You can read more details about stacking [blockpost](https://blog.statsbot.co/ensemble-learning-d1dcd548e936), [kaggle ensemble guide](https://mlwave.com/kaggle-ensembling-guide/).\n",
        "\n",
        "P.S. Stacking and Blending are two similar approaches to combining classifiers (ensembling). The difference is that Stacking uses out-of-fold predictions for the train set, and Blending uses a validation set to train the next layer ([source](quora.com/What-are-examples-of-blending-and-stacking-in-Machine-Learning)). Because they are so similar you can use any of them. \n",
        "\n",
        "[1] http://www.machinelearning.ru/wiki/images/5/56/Guschin2015Stacking.pdf  "
      ]
    },
    {
      "cell_type": "markdown",
      "id": "recognized-guest",
      "metadata": {
        "id": "recognized-guest"
      },
      "source": [
        "**Your task will be:**\n",
        "\n",
        "* Complete the ```meta_classfier``` function\n",
        "* Choose 6 different base models (base models can be any models that you know, and can differ between each other by different hyperparameters, models of ml, features e.t.c) and train them.\n",
        "* Report individual accuracy on the test set for each of the models.\n",
        "* Train the metaclassifier (in this case, once again, it is just an ML model) on the original dataset's features, report score on test.\n",
        "* Train the metaclassifier on the base models using $n$-fold cross-validation, as described above. Report the training score of the meta-classifier on the $ n $-th fold. Retrain the base models on the whole training set. Report the test score (accuracy) of the meta-classifier in this case.\n",
        "* Does stacking help to gain a better score?"
      ]
    },
    {
      "cell_type": "markdown",
      "id": "incident-ceremony",
      "metadata": {
        "id": "incident-ceremony"
      },
      "source": [
        "For this task we will use the dataset fetch_covertype from [sklearn](https://scikit-learn.org/stable/modules/generated/sklearn.datasets.fetch_covtype.html#sklearn.datasets.fetch_covtype). Split it train-test - 60/40.\n",
        "More details about this dataset you can find [here](https://archive.ics.uci.edu/ml/datasets/Covertype)"
      ]
    },
    {
      "cell_type": "code",
      "execution_count": null,
      "id": "banner-input",
      "metadata": {
        "id": "banner-input"
      },
      "outputs": [],
      "source": [
        "from sklearn import datasets\n",
        "fc = sklearn.datasets.fetch_covtype()"
      ]
    },
    {
      "cell_type": "markdown",
      "id": "collected-flash",
      "metadata": {
        "id": "collected-flash"
      },
      "source": [
        "Write meta classifier function."
      ]
    },
    {
      "cell_type": "code",
      "execution_count": null,
      "id": "brilliant-greensboro",
      "metadata": {
        "id": "brilliant-greensboro"
      },
      "outputs": [],
      "source": [
        "def meta_classifier(base_clfs, final_classifier, X_train, X_test, y_train, cv):\n",
        "    \"\"\"\n",
        "    Meta classifier prediction using stacking. \n",
        "    Input:\n",
        "    :param base_clfs: list,  base classifiers which will be stacked together.\n",
        "    :param final_classifier: estimator, a classifier which will be used to combine the base estimators. \n",
        "    :param X_train: numpy array or pandas table, train set.\n",
        "    :param X_test: numpy array or pandas table, target for train set.\n",
        "    :param X_train: numpy array or pandas table, test set.\n",
        "    :param cv: number of cross-validation folds.\n",
        "    \n",
        "    Output:\n",
        "    :param y_pred: numpy array or pandas table, prediction of meta classifier using stacking on test set.\n",
        "    :param final_classifier(optional): estimator, trained final_calssifier.\n",
        "    \n",
        "    \n",
        "    More details https://scikit-learn.org/stable/modules/generated/sklearn.ensemble.StackingClassifier.html\n",
        "    \n",
        "    \"\"\"\n",
        "    ### BEGIN Solution (do not delete this comment)\n",
        "\n",
        "    ### END Solution (do not delete this comment)\n",
        "    pass"
      ]
    },
    {
      "cell_type": "markdown",
      "id": "vfZmdicwORxq",
      "metadata": {
        "id": "vfZmdicwORxq"
      },
      "source": [
        "### Subproblem 3.1 (1 point)"
      ]
    },
    {
      "cell_type": "markdown",
      "id": "incredible-wichita",
      "metadata": {
        "id": "incredible-wichita"
      },
      "source": [
        "**3.1.1) Chose 6 different base models (base models can be any models that you know,and can differ with each other by different hyperparameters,  models of ml, features e.t.c) and train them.**"
      ]
    },
    {
      "cell_type": "code",
      "execution_count": null,
      "id": "cleared-supply",
      "metadata": {
        "id": "cleared-supply"
      },
      "outputs": [],
      "source": [
        "### BEGIN Solution (do not delete this comment)\n",
        "\n",
        "### END Solution (do not delete this comment)"
      ]
    },
    {
      "cell_type": "markdown",
      "id": "streaming-crowd",
      "metadata": {
        "id": "streaming-crowd"
      },
      "source": [
        "**3.1.2) Report individual scores on test set. As a score use accuracy.**"
      ]
    },
    {
      "cell_type": "code",
      "execution_count": null,
      "id": "standing-breakdown",
      "metadata": {
        "id": "standing-breakdown"
      },
      "outputs": [],
      "source": [
        "### BEGIN Solution (do not delete this comment)\n",
        "\n",
        "### END Solution (do not delete this comment)"
      ]
    },
    {
      "cell_type": "markdown",
      "id": "8CsZdyGPOj6E",
      "metadata": {
        "id": "8CsZdyGPOj6E"
      },
      "source": [
        "### Subproblem 3.2 (1 point)"
      ]
    },
    {
      "cell_type": "markdown",
      "id": "adolescent-street",
      "metadata": {
        "id": "adolescent-street"
      },
      "source": [
        "**3.2.1) Train metaclassifier (in this case, once again, it is just an ML model) on original dataset's features. And report score on test.**"
      ]
    },
    {
      "cell_type": "code",
      "execution_count": null,
      "id": "lesbian-fields",
      "metadata": {
        "id": "lesbian-fields"
      },
      "outputs": [],
      "source": [
        "### BEGIN Solution (do not delete this comment)\n",
        "\n",
        "### END Solution (do not delete this comment)"
      ]
    },
    {
      "cell_type": "markdown",
      "id": "horizontal-wallace",
      "metadata": {
        "id": "horizontal-wallace"
      },
      "source": [
        "**3.2.2) Train the metaclassifier on the base models using $n$-fold cross-validation, as described above. Report the training score of the meta-classifier on the $ n $-th fold. Retrain the base models on the whole training set. Report the test score (accuracy) of the meta-classifier in this case.**"
      ]
    },
    {
      "cell_type": "code",
      "execution_count": null,
      "id": "renewable-concrete",
      "metadata": {
        "id": "renewable-concrete"
      },
      "outputs": [],
      "source": [
        "### BEGIN Solution (do not delete this comment)\n",
        "\n",
        "### END Solution (do not delete this comment)"
      ]
    },
    {
      "cell_type": "markdown",
      "id": "printable-premium",
      "metadata": {
        "id": "printable-premium"
      },
      "source": [
        "**3.2.3) Report score(accuracy) on test.**"
      ]
    },
    {
      "cell_type": "code",
      "execution_count": null,
      "id": "auburn-easter",
      "metadata": {
        "id": "auburn-easter"
      },
      "outputs": [],
      "source": [
        "### BEGIN Solution (do not delete this comment)\n",
        "\n",
        "### END Solution (do not delete this comment)"
      ]
    },
    {
      "cell_type": "markdown",
      "id": "premier-scout",
      "metadata": {
        "id": "premier-scout"
      },
      "source": [
        "**3.2.4) Does stacking helped to gain a better score?**"
      ]
    },
    {
      "cell_type": "markdown",
      "id": "vSV5hJFR7RS-",
      "metadata": {
        "id": "vSV5hJFR7RS-"
      },
      "source": [
        "**Your text answer (do not delete this comment)**:\n",
        "\n",
        "\\<write your answer\\>"
      ]
    },
    {
      "cell_type": "code",
      "execution_count": null,
      "id": "offensive-parts",
      "metadata": {
        "id": "offensive-parts"
      },
      "outputs": [],
      "source": [
        ""
      ]
    }
  ],
  "metadata": {
    "colab": {
      "name": "ML2022HW02_part1.ipynb",
      "provenance": [],
      "include_colab_link": true
    },
    "kernelspec": {
      "display_name": "Python 3 (ipykernel)",
      "language": "python",
      "name": "python3"
    },
    "language_info": {
      "codemirror_mode": {
        "name": "ipython",
        "version": 3
      },
      "file_extension": ".py",
      "mimetype": "text/x-python",
      "name": "python",
      "nbconvert_exporter": "python",
      "pygments_lexer": "ipython3",
      "version": "3.8.5"
    }
  },
  "nbformat": 4,
  "nbformat_minor": 5
}