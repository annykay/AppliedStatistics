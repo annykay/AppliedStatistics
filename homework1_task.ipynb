{
  "nbformat": 4,
  "nbformat_minor": 0,
  "metadata": {
    "kernelspec": {
      "display_name": "Python 3",
      "language": "python",
      "name": "python3"
    },
    "language_info": {
      "codemirror_mode": {
        "name": "ipython",
        "version": 3
      },
      "file_extension": ".py",
      "mimetype": "text/x-python",
      "name": "python",
      "nbconvert_exporter": "python",
      "pygments_lexer": "ipython3",
      "version": "3.7.4"
    },
    "colab": {
      "name": "homework1_task.ipynb",
      "provenance": [],
      "collapsed_sections": [
        "aM6VSDh7nkIK"
      ],
      "include_colab_link": true
    }
  },
  "cells": [
    {
      "cell_type": "markdown",
      "metadata": {
        "id": "view-in-github",
        "colab_type": "text"
      },
      "source": [
        "<a href=\"https://colab.research.google.com/github/annykay/AppliedStatistics/blob/main/homework1_task.ipynb\" target=\"_parent\"><img src=\"https://colab.research.google.com/assets/colab-badge.svg\" alt=\"Open In Colab\"/></a>"
      ]
    },
    {
      "cell_type": "markdown",
      "metadata": {
        "id": "Ta3fCSoEnkHT"
      },
      "source": [
        "In this homework, you need to solve two tasks. For problems with theoretical calculations, you need to show a sufficient number of intermediate steps to explain how you have obtained the result. \n",
        "* Formulas are expected in Latex style inside the notebook. The assignment should be uploaded in Jupyter Notebook format(`.ipynb`). \n",
        "* Overall, there are 45 points, however, you can get a maximum of 40 points for this assignment( `your_points = max(your_points, 40)`). \n",
        "* No bonus points will be transferred to the next assignment."
      ]
    },
    {
      "cell_type": "markdown",
      "metadata": {
        "id": "Z7nkzkpcnkHo"
      },
      "source": [
        "# Task 1. Moscow weather (20 points)"
      ]
    },
    {
      "cell_type": "markdown",
      "metadata": {
        "id": "_nL3deeInkHq"
      },
      "source": [
        "In this task you need to estimate parameters and their confidence intervals for a given sample. As data, you will explore Moscow weather. You can look at some visualizations of martian weather [here](https://pudding.cool/2018/01/mars-weather/) (completely unrelated to Moscow weather, though).\n",
        "\n",
        "First of all, you will need some libraries. Also, fix random seed to get reproducable results."
      ]
    },
    {
      "cell_type": "code",
      "metadata": {
        "id": "2UkieJlGnkHs"
      },
      "source": [
        "import numpy as np\n",
        "from numpy.random import choice, seed\n",
        "import pandas as pd\n",
        "from scipy.stats import sem, norm, skew, chi2\n",
        "import matplotlib.pyplot as plt\n",
        "from tqdm import tqdm\n",
        "import scipy\n",
        "\n",
        "seed(366)"
      ],
      "execution_count": null,
      "outputs": []
    },
    {
      "cell_type": "code",
      "metadata": {
        "tags": [],
        "id": "h-JeTTptnkHw"
      },
      "source": [
        "import matplotlib as mp\n",
        "import matplotlib.font_manager\n",
        "\n",
        "titlesize = 20\n",
        "labelsize = 16\n",
        "legendsize = labelsize\n",
        "xticksize = 14\n",
        "yticksize = xticksize\n",
        "\n",
        "mp.rcParams['legend.markerscale'] = 1.5     # the relative size of legend markers vs. original\n",
        "mp.rcParams['legend.handletextpad'] = 0.5\n",
        "mp.rcParams['legend.labelspacing'] = 0.4    # the vertical space between the legend entries in fraction of fontsize\n",
        "mp.rcParams['legend.borderpad'] = 0.5       # border whitespace in fontsize units\n",
        "mp.rcParams['font.size'] = 12\n",
        "mp.rcParams['font.family'] = 'serif'\n",
        "mp.rcParams['font.serif'] = 'Times New Roman'\n",
        "mp.rcParams['axes.labelsize'] = labelsize\n",
        "mp.rcParams['axes.titlesize'] = titlesize\n",
        "mp.rcParams['axes.unicode_minus'] = False\n",
        "\n",
        "mp.rc('xtick', labelsize=xticksize)\n",
        "mp.rc('ytick', labelsize=yticksize)\n",
        "mp.rc('legend', fontsize=legendsize)\n",
        "\n",
        "mp.rc('font', **{'family':'serif'})"
      ],
      "execution_count": null,
      "outputs": []
    },
    {
      "cell_type": "markdown",
      "metadata": {
        "id": "c0xXQheRnkHx"
      },
      "source": [
        "## Part 1. Load data (1 point)\n",
        "\n",
        "You need to load data from `moscow-weather.csv`, take feature for your variant, remove absent values (`Nan`s) and convert sample to `int` type. "
      ]
    },
    {
      "cell_type": "markdown",
      "metadata": {
        "id": "wdXHIPu5nkHz"
      },
      "source": [
        "### a) \n",
        "\n",
        "`feature_name = \"TMIN\"`"
      ]
    },
    {
      "cell_type": "code",
      "metadata": {
        "id": "tGBIsL1CnkH3"
      },
      "source": [
        "feature_name = 'TMIN'\n",
        "df = pd.read_csv(\"moscow-weather.csv\")[feature_name]\n",
        "sample_full = df.dropna().values.astype(np.int)"
      ],
      "execution_count": null,
      "outputs": []
    },
    {
      "cell_type": "markdown",
      "metadata": {
        "id": "GP854wIpnkH6"
      },
      "source": [
        "Let's take a four month period or ~ 121 days. Sample them randomly from full sample using function `choice`(from `numpy.random`) with parameter `replace=False`."
      ]
    },
    {
      "cell_type": "code",
      "metadata": {
        "id": "UreacZI5nkH8"
      },
      "source": [
        "N = 121\n",
        "N_full = len(sample_full)\n",
        "sample_part = np.random.choice(sample_full, 121, replace=False)"
      ],
      "execution_count": null,
      "outputs": []
    },
    {
      "cell_type": "markdown",
      "metadata": {
        "id": "YrdLNS1_nkH9"
      },
      "source": [
        "Plot values frequences for full and partial sample using bar plot."
      ]
    },
    {
      "cell_type": "code",
      "metadata": {
        "colab": {
          "base_uri": "https://localhost:8080/",
          "height": 499
        },
        "id": "W-dAQN8tnkH-",
        "outputId": "077aed8a-60ef-4448-bef0-6f93e2d076f6"
      },
      "source": [
        "import matplotlib.pyplot as plt\n",
        "\n",
        "unique, counts = np.unique(sample_part, return_counts=True)\n",
        "unique_full, counts_full = np.unique(sample_full, return_counts=True)\n",
        "plt.rcParams['figure.figsize'] = (16, 8)\n",
        "\n",
        "fig, (ax0, ax1) = plt.subplots(nrows=1, ncols=2)\n",
        "\n",
        "ax0.bar(unique, counts)\n",
        "ax0.set_xlabel('Minimal Day Temperature in Moscow', labelpad=15)\n",
        "ax0.set_ylabel('Amount of Days', labelpad=15)\n",
        "ax0.set_title('Partial Data (N = 121)', pad=15, weight='bold')\n",
        "\n",
        "ax1.bar(unique_full, counts_full, color='c')\n",
        "ax1.set_xlabel('Minimal Day Temperature in Moscow', labelpad=15)\n",
        "ax1.set_ylabel('Amount of Days', labelpad=15)\n",
        "ax1.set_title('Full Data', pad=15, weight='bold')\n",
        "\n",
        "fig.tight_layout()\n"
      ],
      "execution_count": null,
      "outputs": [
        {
          "output_type": "display_data",
          "data": {
            "image/png": "[encoded data removed]",
            "text/plain": [
              "<Figure size 1152x576 with 2 Axes>"
            ]
          },
          "metadata": {
            "needs_background": "light"
          }
        }
      ]
    },
    {
      "cell_type": "markdown",
      "metadata": {
        "id": "vv-w8_ANnkH_"
      },
      "source": [
        "## Part 2. Parameter estimation (6 points)\n",
        "Find the following parameters' estimates and their 95% confidence intervals (except for `mode` and `skewness`). You need to show theoretical calculations (with intermediate steps) for estimates and intervals (with intermediate steps) and then make simulation."
      ]
    },
    {
      "cell_type": "markdown",
      "metadata": {
        "id": "TaxCmVYQnkIA"
      },
      "source": [
        "### a) Mean and CI"
      ]
    },
    {
      "cell_type": "markdown",
      "metadata": {
        "id": "RBuWOPhgQH6H"
      },
      "source": [
        "We can estimate mean using $\\delta$-method. As we know, from theory, the empirical analog of density function can be represented as $\\delta$-function. \n",
        " We also know, that \n",
        "$$<\\delta, \\phi> = \\phi(0) $$\n",
        "$$mean(x) = \\int_{-\\inf}^{\\inf}xp(x)dx$$\n",
        "\n",
        "the density function can be written as\n",
        "$$\\overline{p}(x;\\epsilon^n)=\\frac{1}{n}\\sum_{i=1}^n \\delta(x - \\epsilon_i)$$\n",
        "\n",
        "Knowing it, we can estimate the mean as\n",
        "$$\\overline{mean} = \\int_{-\\inf}^{\\inf} x\\cdot [ \\frac{1}{n}\\sum_{i=1}^n \\delta(x-\\epsilon_i)]dx =\\frac{1}{n}\\sum_{i=1}^n \\int_{-\\inf}^{\\inf} x \\cdot  \\delta(x-\\epsilon_i) dx = \\frac{1}{n}\\sum_{i=1}^n \\epsilon_i  $$ \n",
        "\n",
        "where $\\epsilon_i$ - observed values. "
      ]
    },
    {
      "cell_type": "markdown",
      "metadata": {
        "id": "w3X7vcnYkOTO"
      },
      "source": [
        "After that we can estimate the CI. CI (by definition) is an interval, such that a random variable belongs to this interval with probability $\\alpha$(here 95 %). From the central limit theorem we know, that the distribution of sampling means converges to normal distibution(if it has mean and limited variance).\n",
        "$$<\\epsilon_i> \\sim N(\\mu, \\frac{\\sigma^2}{n}) $$\n",
        "Then\n",
        "$$\\sqrt{n} \\frac{<\\epsilon_i> - \\mu}{\\sigma} \\sim N(0,1)$$\n",
        " So we can estimate a 95% CI as follow\n",
        "$$\\hat{mean} = \\overline{x}\\pm z\\cdot\\frac{\\sigma}{\\sqrt{n}}$$\n",
        "where z - a special value from normal distribution with the given confidence level. For 95% it is equel to 1.96\n",
        "\n"
      ]
    },
    {
      "cell_type": "markdown",
      "metadata": {
        "id": "X3CyzpennkIB"
      },
      "source": [
        "$$ \\hat{mean} = \\frac{1}{n}\\sum_{i=1}^n x_i  $$\n",
        "\n",
        "$$ CI(\\hat{mean}) = z\\cdot\\frac{\\sigma}{\\sqrt{n}}$$"
      ]
    },
    {
      "cell_type": "code",
      "metadata": {
        "colab": {
          "base_uri": "https://localhost:8080/",
          "height": 35
        },
        "id": "rYSePg2RnkIC",
        "outputId": "58a56c0d-1176-4616-be65-6d5b16f9f425"
      },
      "source": [
        "import scipy.stats as st\n",
        "\n",
        "mean, (lower_mean, upper_mean) = np.mean(sample_part), st.norm.interval(alpha=0.95, loc=np.mean(sample_part), scale=np.std(sample_part)/np.sqrt(N))\n",
        "\n",
        "f\"Mean {mean:.3f} with confidence interval ({lower_mean:.3f}, {upper_mean:.3f})\""
      ],
      "execution_count": null,
      "outputs": [
        {
          "output_type": "execute_result",
          "data": {
            "application/vnd.google.colaboratory.intrinsic+json": {
              "type": "string"
            },
            "text/plain": [
              "'Mean 3.174 with confidence interval (1.534, 4.814)'"
            ]
          },
          "metadata": {},
          "execution_count": 6
        }
      ]
    },
    {
      "cell_type": "markdown",
      "metadata": {
        "id": "BGsAu-1znkID"
      },
      "source": [
        "### b) Median and CI\n",
        "\n",
        "Here you can assume that PDF is continuous at the median point and provide a normal-based interval."
      ]
    },
    {
      "cell_type": "markdown",
      "metadata": {
        "id": "8mkNPViVjg7b"
      },
      "source": [
        "If PDF is continues, we can find the median as a root of equation\n",
        "$$\\int_{-\\inf}^{y}p(x)dx = 0.5$$\n",
        "\n",
        "Again, we can try to use delta-metod for solving this problem. To do it, we should approximate real density with observed density function.\n",
        "$$\\int_{-\\inf}^{y}\\overline{p}(x; \\epsilon^n)dx=\\int_{-\\inf}^{y}\\frac{1}{n}\\sum_{i=1}^n \\delta(x - \\epsilon_i)dx =\\frac{1}{n}\\sum_{i=1}^n\\int_{-\\inf}^{y}  \\delta(x - \\epsilon_i)dx=\\frac{1}{n}\\sum_{i=1}^n \\theta(y - \\epsilon_i) = 0.5$$\n",
        "\n",
        "Where $\\theta$ - is  Heaviside step function. After that, we can change the order of our observations ( the sum wouldn't change after this step) so that $\\epsilon_{i} < \\epsilon_{i-1}$. In this case, there will be some number k: $\\theta(y-\\epsilon_i) = 0$, if i>k, and  $\\theta(y-\\epsilon_i) = 1$ if $i\\leq k$. The sum then will be equel to k, and, finaly, we can write\n",
        "\n",
        "$$k = [n\\cdot 0.5]; y = \\epsilon_k$$\n",
        "\n",
        "here [x] means the the integer part of number, and $\\epsilon_k$ is taken from sorted sampling. \n",
        "\n"
      ]
    },
    {
      "cell_type": "markdown",
      "metadata": {
        "id": "8tcjep9stEV9"
      },
      "source": [
        "At first, we should assume that the PDF function is continuous at the median point(and also, not zero). \n",
        "Suppose we have a sampling: $x_1, x_2... , x_n$. Let’s make a new statistic: $I_1,I_2…, I_n$ such that I = 1 if $x_i <  x_{\\alpha}$ and 0 otherwise. The average of I statistic will have normal distribution (according to CLT), with parametres:\n",
        "$$\\mu_I = <I> = \\frac{1\\cdot\\alpha\\cdot n  +0\\cdot(1-\\alpha)\\cdot n}{n} = \\alpha$$\n",
        "$$\\sigma = \\frac{\\alpha\\cdot n(1-\\alpha)^2+(1-\\alpha)\\cdot n\\cdot\\alpha^2}{n}=\\alpha(1-\\alpha)$$\n",
        "As we are working with median, $\\alpha = \\frac{1}{2}$\n",
        "After that we can apply the delta-method to obtain the distribution of the median of $x_n$. As a median is (by definition) a root of following equation:\n",
        "$$F_x(x_{\\alpha}) = \\alpha$$\n",
        "then\n",
        "$$F_x^{-1}(\\alpha) = x_{\\alpha}$$\n",
        "So we can apply the delta-method to estimate the parameters of distribution of medians \n",
        "$$\\sqrt{n}(\\hat{x}_{\\alpha} - x_{\\alpha}) \\rightarrow N(0, \\frac{\\alpha(1-\\alpha)}{p(x_{\\alpha})^2}$$\n",
        "So, we can estimate the confidence interval of the median:\n",
        "$$x_{\\frac{1}{2}} = \\hat{x}_{\\frac{1}{2}}\\pm 1.96\\cdot \\sqrt{\\frac{\\alpha(1-\\alpha)}{np(x_{\\alpha})^2}} $$\n",
        "$$\\hat{median} =\\epsilon_k; k = [n\\cdot 0.5]$$\n",
        "$$CI(\\hat{median}) = (\\epsilon_k - 1.96\\cdot \\sqrt{\\frac{1)}{4n\\overline{p}(\\epsilon_{k})^2}}, \\epsilon_k + 1.96\\cdot \\sqrt{\\frac{1)}{4n\\overline{p}(\\epsilon_{k})^2}})$$"
      ]
    },
    {
      "cell_type": "code",
      "metadata": {
        "colab": {
          "base_uri": "https://localhost:8080/",
          "height": 35
        },
        "id": "zqXfmwC9nkIE",
        "outputId": "3310b612-6dfb-409b-cfc0-ad642f61aae2"
      },
      "source": [
        "median = np.median(sample_part)\n",
        "p_med = counts[unique == median][0]\n",
        "\n",
        "(lower_median, upper_median) = (np.median(sample_part) - 1.96/np.sqrt(4*N*p_med**2),\n",
        "                  np.median(sample_part) + 1.96/np.sqrt(4*N*p_med**2))\n",
        "f\"Median {median:.3f} with normal-based confidence interval ({lower_median:.3f}, {upper_median:.3f})\""
      ],
      "execution_count": null,
      "outputs": [
        {
          "output_type": "execute_result",
          "data": {
            "application/vnd.google.colaboratory.intrinsic+json": {
              "type": "string"
            },
            "text/plain": [
              "'Median 4.000 with normal-based confidence interval (3.978, 4.022)'"
            ]
          },
          "metadata": {},
          "execution_count": 7
        }
      ]
    },
    {
      "cell_type": "markdown",
      "metadata": {
        "id": "BdqlBcrsnkIF"
      },
      "source": [
        "### c) Variance and CI\n",
        "\n",
        "Here you can assume that the sample comes from a normal distribution, but the mean and variance are not known."
      ]
    },
    {
      "cell_type": "markdown",
      "metadata": {
        "id": "24azm0IzY-YH"
      },
      "source": [
        "Let's estimate the parameter using method of maximal likelihood. We assume, that our sample consists of iid (independent and identically distributed) random variables. That's why we can write the function of likelihood as a  product of univariate density functions. \n",
        "\n",
        "$$f \\sim N(a, \\sigma^2) \\Rightarrow f_n = \\frac{1}{\\sigma\\sqrt{2\\pi }}e^{-\\frac{(x-a)^2}{2 \\sigma^2}}$$\n",
        "$$\\theta = (a,\\sigma)$$\n",
        "\n",
        "$$L_n(\\theta) = (\\frac{1}{\\sigma\\sqrt{2\\pi}})^ne^{-\\frac{1}{2 \\sigma^2}\\cdot \\sum_{i=1}^n(x_i-a)^2}$$\n",
        "\n",
        "Take log of it:    \n",
        "$$l_n(\\theta) = -\\frac{n}{2}ln(2\\pi\\sigma^2) - \\frac{1}{2\\sigma^2}\\sum^{n}_{i=1}(x_i-a)^2$$\n",
        "\n",
        "We can estimate the parametres as an argument at which the likelihood function have maximum\n",
        "\n",
        "$$\\hat{\\theta} = argmax(l_n(\\theta))$$\n",
        "\n",
        "To find this estimation, we shoud find a point at which the derivative of likelihood function is equel to zero \n",
        "\n",
        "$$\\frac{\\partial l_n(a, \\sigma)}{\\partial a} = \\frac{\\sum^{n}_{i=1}(x_i-a)}{\\sigma^2} = 0$$\n",
        "$$\\frac{\\partial l_n(a, \\sigma^2)}{\\partial \\sigma^2} = -\\frac{n}{4\\pi\\sigma^2}+\\frac{1}{2\\sigma^2}\\sum^{n}_{i=1}(x_i-a)^2 = 0$$\n",
        "\n",
        "We have a system of two equations. From here we can get the estimation of parametres\n",
        "\n",
        "$$a = <x> = \\frac{\\sum^n_{i=1}x_i}{n}$$ - sampling average\n",
        "$$\\sigma^2 = \\frac{\\sum^n_{i=1}(x_i-a)^2}{n}$$ - variance"
      ]
    },
    {
      "cell_type": "markdown",
      "metadata": {
        "id": "zoeEQPM-JlGH"
      },
      "source": [
        "Also we know, from Fisher's theorem for normal samplings that random variable \n",
        "$$\\frac{(n-1)\\hat{\\sigma}^2}{\\sigma^2}\\sim \\chi^2_{n-1}$$\n",
        "has chi-square distribution with n-1 degrees of freedom, where $\\hat{\\sigma}$ - sampling dispertion. Also we know(from CLT), that the chi-square distribution can be approximated as a normal distribution $\\sim N(n-1, 2(n-1))$. So, variance can be estimated as\n",
        "$$\\hat{\\sigma}^2\\sim N(\\sigma^2,\\frac{2\\sigma^4}{n-1})$$"
      ]
    },
    {
      "cell_type": "markdown",
      "metadata": {
        "id": "B-c4qy0hTnMf"
      },
      "source": [
        "$$\\hat{\\sigma}^2 = \\frac{\\sum^n_{i=1}(x_i-a)^2}{n}$$ \n",
        "$$CI = (\\hat{\\sigma}^2- 1.96\\frac{\\sqrt{2}\\hat{\\sigma}^2}{\\sqrt{ n-1}},\\hat{\\sigma}^2 +1.96\\frac{\\sqrt{2}\\hat{\\sigma}^2}{\\sqrt{ n-1}})$$"
      ]
    },
    {
      "cell_type": "code",
      "metadata": {
        "colab": {
          "base_uri": "https://localhost:8080/",
          "height": 35
        },
        "id": "ZS_SOFRZnkIH",
        "outputId": "89d96f3e-919a-4023-8229-1f59861b894e"
      },
      "source": [
        "var = np.var(sample_part)\n",
        "var_var = 2*var**2/(N-1)\n",
        "(lower_var, upper_var) = (var - 1.96*np.sqrt(var_var),\n",
        "                          var + 1.96*np.sqrt(var_var))\n",
        "                                     \n",
        "f\"Square of variance {var:.3f} with confidence interval ({lower_var:.3f}, {upper_var:.3f})\""
      ],
      "execution_count": null,
      "outputs": [
        {
          "output_type": "execute_result",
          "data": {
            "application/vnd.google.colaboratory.intrinsic+json": {
              "type": "string"
            },
            "text/plain": [
              "'Square of variance 84.722 with confidence interval (63.284, 106.160)'"
            ]
          },
          "metadata": {},
          "execution_count": 8
        }
      ]
    },
    {
      "cell_type": "markdown",
      "metadata": {
        "id": "K6vaUMaGnkIH"
      },
      "source": [
        "### d) Mode (most frequent value in a sample)"
      ]
    },
    {
      "cell_type": "code",
      "metadata": {
        "id": "_miFAIyonkII",
        "colab": {
          "base_uri": "https://localhost:8080/",
          "height": 35
        },
        "outputId": "e37066c6-417b-4bdb-df6b-710f49e6de35"
      },
      "source": [
        "# Your code here\n",
        "\n",
        "mode = ...\n",
        "f\"Mode: {mode}\""
      ],
      "execution_count": null,
      "outputs": [
        {
          "output_type": "execute_result",
          "data": {
            "application/vnd.google.colaboratory.intrinsic+json": {
              "type": "string"
            },
            "text/plain": [
              "'Mode: Ellipsis'"
            ]
          },
          "metadata": {},
          "execution_count": 9
        }
      ]
    },
    {
      "cell_type": "markdown",
      "metadata": {
        "id": "aM6VSDh7nkIK"
      },
      "source": [
        "### e) Skewness"
      ]
    },
    {
      "cell_type": "code",
      "metadata": {
        "id": "mIoY4gf_nkIL",
        "colab": {
          "base_uri": "https://localhost:8080/",
          "height": 195
        },
        "outputId": "052df05e-3579-4a1e-d9de-8884d7f5b3d5"
      },
      "source": [
        "# Your code here\n",
        "\n",
        "skewness = ...\n",
        "f\"Skewness: {skewness:e}\""
      ],
      "execution_count": null,
      "outputs": [
        {
          "output_type": "error",
          "ename": "TypeError",
          "evalue": "ignored",
          "traceback": [
            "\u001b[0;31m---------------------------------------------------------------------------\u001b[0m",
            "\u001b[0;31mTypeError\u001b[0m                                 Traceback (most recent call last)",
            "\u001b[0;32m<ipython-input-59-225a729b240d>\u001b[0m in \u001b[0;36m<module>\u001b[0;34m()\u001b[0m\n\u001b[1;32m      2\u001b[0m \u001b[0;34m\u001b[0m\u001b[0m\n\u001b[1;32m      3\u001b[0m \u001b[0mskewness\u001b[0m \u001b[0;34m=\u001b[0m \u001b[0;34m...\u001b[0m\u001b[0;34m\u001b[0m\u001b[0;34m\u001b[0m\u001b[0m\n\u001b[0;32m----> 4\u001b[0;31m \u001b[0;34mf\"Skewness: {skewness:e}\"\u001b[0m\u001b[0;34m\u001b[0m\u001b[0;34m\u001b[0m\u001b[0m\n\u001b[0m",
            "\u001b[0;31mTypeError\u001b[0m: unsupported format string passed to ellipsis.__format__"
          ]
        }
      ]
    },
    {
      "cell_type": "markdown",
      "metadata": {
        "id": "BWseEAxRnkIM"
      },
      "source": [
        "## Part 3. Bootstrap (4 points)\n",
        "\n",
        "Find confidence intervals for following estimates using bootsrap. Use function `choice` with parameter `replace=True` for bootstrap sampling. Try different numbers of generated samples."
      ]
    },
    {
      "cell_type": "markdown",
      "metadata": {
        "id": "nFKVKT6OnkIN"
      },
      "source": [
        "### a) Mean and CI"
      ]
    },
    {
      "cell_type": "code",
      "metadata": {
        "colab": {
          "base_uri": "https://localhost:8080/",
          "height": 35
        },
        "id": "XFqGBPZ8nkIP",
        "outputId": "af54c851-1d96-43cd-b720-725f80561171"
      },
      "source": [
        "repeats = 100\n",
        "\n",
        "bootstrap = np.array([choice(sample_part, N, replace=True).mean() for i in range(repeats)])\n",
        "mean_boot = bootstrap.mean()\n",
        "(lower_mean_boot, upper_mean_boot) = ( 2 * mean_boot - np.quantile(bootstrap, 0.975), \n",
        "                                       2 * mean_boot - np.quantile(bootstrap, 0.025))\n",
        "f\"Mean {mean_boot:.3f} with confident interval ({lower_mean_boot:.3f}, {upper_mean_boot:.3f})\""
      ],
      "execution_count": null,
      "outputs": [
        {
          "output_type": "execute_result",
          "data": {
            "application/vnd.google.colaboratory.intrinsic+json": {
              "type": "string"
            },
            "text/plain": [
              "'Mean 3.270 with confident interval (1.635, 4.683)'"
            ]
          },
          "metadata": {},
          "execution_count": 10
        }
      ]
    },
    {
      "cell_type": "markdown",
      "metadata": {
        "id": "8lCXr9rlnkIQ"
      },
      "source": [
        "### b) Median and CI"
      ]
    },
    {
      "cell_type": "code",
      "metadata": {
        "colab": {
          "base_uri": "https://localhost:8080/",
          "height": 35
        },
        "id": "0f9ix3vwnkIQ",
        "outputId": "b8480faa-4203-4124-83d7-877375fb875f"
      },
      "source": [
        "bootstrap = np.array([np.median(choice(sample_part, N, replace=True)) for i in range(repeats)])\n",
        "median_boot, (lower_med_boot, upper_med_boot) = np.median(bootstrap), (np.percentile(bootstrap, 2.5),np.percentile(bootstrap, 97.5))\n",
        "f\"Median {median_boot:.3f} with normal-based confident interval ({lower_med_boot:.3f}, {upper_med_boot:.3f})\""
      ],
      "execution_count": null,
      "outputs": [
        {
          "output_type": "execute_result",
          "data": {
            "application/vnd.google.colaboratory.intrinsic+json": {
              "type": "string"
            },
            "text/plain": [
              "'Median 3.500 with normal-based confident interval (2.000, 6.000)'"
            ]
          },
          "metadata": {},
          "execution_count": 11
        }
      ]
    },
    {
      "cell_type": "markdown",
      "metadata": {
        "id": "lneHwdcankIR"
      },
      "source": [
        "### c) Variance and CI"
      ]
    },
    {
      "cell_type": "code",
      "metadata": {
        "colab": {
          "base_uri": "https://localhost:8080/",
          "height": 35
        },
        "id": "iO_wq4OinkIR",
        "outputId": "83f4bdd5-6b6d-4729-f122-05f91946fb48"
      },
      "source": [
        "# Your code here\n",
        "bootstrap = np.array([choice(sample_part, N, replace=True).var() for i in range(repeats)])\n",
        "var_boot, (lower_var_boot, upper_var_boot) = bootstrap.mean(), (np.percentile(bootstrap, 2.5),np.percentile(bootstrap, 97.5))\n",
        "f\"Variance {var_boot:.3f} with confident interval ({lower_var_boot:.3f}, {upper_var_boot:.3f})\""
      ],
      "execution_count": null,
      "outputs": [
        {
          "output_type": "execute_result",
          "data": {
            "application/vnd.google.colaboratory.intrinsic+json": {
              "type": "string"
            },
            "text/plain": [
              "'Variance 82.054 with confident interval (65.748, 102.240)'"
            ]
          },
          "metadata": {},
          "execution_count": 12
        }
      ]
    },
    {
      "cell_type": "markdown",
      "metadata": {
        "id": "pBqpsXEBnkIS"
      },
      "source": [
        "## Part 4. Comparison with true values (1 point)\n",
        "\n",
        "Compare with estimates calculated over full sample. Write conclusion about estimates and their confidence intervals obtained without and with bootstrap. Also, you can share some conclusions about moscow weather :)"
      ]
    },
    {
      "cell_type": "code",
      "metadata": {
        "id": "mTEeXmVGnkIS"
      },
      "source": [
        "from scipy.stats import skew\n",
        "\n",
        "mean_full = sample_full.mean()\n",
        "median_full = np.median(sample_full)\n",
        "var_full = sample_full.var()\n",
        "moda_full = unique_full[counts_full == max(counts_full)]\n",
        "skewness_full = skew(sample_full)"
      ],
      "execution_count": null,
      "outputs": []
    },
    {
      "cell_type": "code",
      "metadata": {
        "colab": {
          "base_uri": "https://localhost:8080/"
        },
        "id": "pKjLcp3JjBm7",
        "outputId": "851ad5f5-960b-4eba-f1c4-dab1dd58883f"
      },
      "source": [
        "print(mean, mean_full)"
      ],
      "execution_count": null,
      "outputs": [
        {
          "output_type": "stream",
          "name": "stdout",
          "text": [
            "3.1735537190082646 2.615617892342684\n"
          ]
        }
      ]
    },
    {
      "cell_type": "markdown",
      "metadata": {
        "id": "uCWoMi_vnkIT"
      },
      "source": [
        "## Part 5. Confidence intervals and sample size (8 points)\n",
        "\n",
        "Compare the size of confidence intervals **for the mean** obtained without and with bootstrap. Additionally, compare the empirical coverage of different confidence intervals (by generating sufficient number of samples of corresponding size and calculating proportion of cases when the interval covers the mean of the full sample). Consider sizes `[42, 84, 168, 335, 670, 1340]`. Plot results and make conclusion about their accuracy."
      ]
    },
    {
      "cell_type": "code",
      "metadata": {
        "id": "fjiNmYEWmIKL"
      },
      "source": [
        "def boot_estimates(estimator, X, num_resamples=1000):\n",
        "    estimates = np.empty(num_resamples)\n",
        "    for i in range(num_resamples):\n",
        "        estimates[i] = estimator(np.random.choice(X, size=len(X), replace=True))\n",
        "    return estimates"
      ],
      "execution_count": null,
      "outputs": []
    },
    {
      "cell_type": "code",
      "metadata": {
        "id": "p4yH5SFym640"
      },
      "source": [
        "def normal_interval(estimates, level=0.95):\n",
        "    alpha = 1 - level\n",
        "    s_boot = estimates.std()\n",
        "    z = scipy.stats.norm.ppf(1 - alpha/2)\n",
        "    m = estimates.mean()\n",
        "    return m - z * s_boot, m + z * s_boot"
      ],
      "execution_count": null,
      "outputs": []
    },
    {
      "cell_type": "code",
      "metadata": {
        "id": "p6siDWN4nF8L"
      },
      "source": [
        "def boot_interval(estimates, level=0.95):\n",
        "    alpha = 1 - level\n",
        "    m = estimates.mean()\n",
        "    return 2 * m - np.quantile(estimates, 1 - alpha), 2 * m - np.quantile(estimates, alpha)"
      ],
      "execution_count": null,
      "outputs": []
    },
    {
      "cell_type": "code",
      "metadata": {
        "id": "N-rHAChhnkIU",
        "colab": {
          "base_uri": "https://localhost:8080/",
          "height": 419
        },
        "outputId": "32169659-8b93-49ec-b8dc-6f4482ee0d15"
      },
      "source": [
        "seed(476)\n",
        "sizes = np.r_[42, 84, 168, 335, 670, 1340]\n",
        "wo_boot_ints = np.empty((len(sizes), 2))\n",
        "boot_ints = np.empty_like(wo_boot_ints)\n",
        "for i, s in enumerate(sizes):\n",
        "    wo_boot_ints[i] = normal_interval(boot_estimates(np.mean, sample_part, num_resamples=s))\n",
        "    boot_ints[i] = boot_interval(boot_estimates(np.mean, sample_part, num_resamples=s))\n",
        "\n",
        "plt.figure(figsize=(8, 6))\n",
        "plt.fill_between(sizes, wo_boot_ints[:, 0], wo_boot_ints[:, 1], alpha=0.2, label='Normal-based interval(w/o bootstrap)')\n",
        "plt.fill_between(sizes, boot_ints[:, 0], boot_ints[:, 1], alpha=0.2, label='Bootstrap interval')\n",
        "#plt.fill_between(sizes, [exact_int[0]] * len(sizes), [exact_int[1]] * len(sizes), alpha=0.2, label='Exact interval')\n",
        "plt.plot(sizes, [sample_full.mean()]*len(sizes), 'k--', label='Estimate')\n",
        "plt.xscale('log')\n",
        "plt.xlabel('Number of bootstrap resamples')\n",
        "plt.legend(loc='center')"
      ],
      "execution_count": null,
      "outputs": [
        {
          "output_type": "execute_result",
          "data": {
            "text/plain": [
              "<matplotlib.legend.Legend at 0x7fc38a1430d0>"
            ]
          },
          "metadata": {},
          "execution_count": 20
        },
        {
          "output_type": "display_data",
          "data": {
            "image/png": "[encoded data removed]",
            "text/plain": [
              "<Figure size 576x432 with 1 Axes>"
            ]
          },
          "metadata": {
            "needs_background": "light"
          }
        }
      ]
    },
    {
      "cell_type": "markdown",
      "metadata": {
        "id": "IsmzAOFGowrn"
      },
      "source": [
        "From this plot we can see that:\n",
        "\n",
        "1) The real value is included in all confidence intervals; \n",
        "\n",
        "2) Both intervals don't change significantly with the increase of the amont of observations in sampling; \n",
        "\n",
        "3) Bootstrap CI is less then normal-based one. \n",
        "\n",
        "Also we can see, that teampriture in Moscow is quite low, because the average year tempirature is only 2.6 C \n",
        "\n"
      ]
    },
    {
      "cell_type": "code",
      "metadata": {
        "id": "EeFWuymCukwf"
      },
      "source": [
        "def get_cov_prob(y_pred, y_lower, y_upper, y_true, rtol=1.e-4, atol=1.e-6):\n",
        "    \"\"\"\n",
        "    Calculate coverage probability given true output, predicted mean and confidence limits.\n",
        "    Additionally check if prediction is very close to the true output.\n",
        "    \"\"\"\n",
        "    n_cov = (((y_true >= y_lower) & (y_true <= y_upper))\n",
        "                 | np.isclose(y_pred, y_true, rtol=rtol, atol=atol)) \\\n",
        "        .astype(float)\n",
        "    p_cov = np.mean(n_cov)\n",
        "    return n_cov.sum().astype(int), p_cov"
      ],
      "execution_count": null,
      "outputs": []
    },
    {
      "cell_type": "code",
      "metadata": {
        "id": "fo4_0d-9t3r8"
      },
      "source": [
        "num_repeats = 300\n",
        "\n",
        "n_cov_norm = np.empty(len(sizes))\n",
        "p_cov_norm = np.empty_like(n_cov_norm)\n",
        "n_cov_boot = np.empty_like(n_cov_norm)\n",
        "p_cov_boot = np.empty_like(n_cov_norm)\n",
        "\n",
        "for i, s in enumerate(sizes):\n",
        "    boot_ints = np.empty((num_repeats, 2))\n",
        "    normal_ints = np.empty((num_repeats, 2))\n",
        "    estimates = np.empty(num_repeats)\n",
        "    for j in range(num_repeats):\n",
        "        sample_part = np.random.choice(sample_full, 121, replace=False)\n",
        "        estimates[j] = sample_part.mean()\n",
        "        boot_ints[j] = boot_interval(boot_estimates(np.mean, sample_part, num_resamples=s))\n",
        "        normal_ints[j] = normal_interval(boot_estimates(np.mean, sample_part))\n",
        "    n_cov_boot[i], p_cov_boot[i] = get_cov_prob(estimates, boot_ints[:, 0], boot_ints[:, 1], mean_full)\n",
        "    n_cov_norm[i], p_cov_norm[i] = get_cov_prob(estimates, normal_ints[:, 0], normal_ints[:, 1], mean_full)"
      ],
      "execution_count": null,
      "outputs": []
    },
    {
      "cell_type": "code",
      "metadata": {
        "colab": {
          "base_uri": "https://localhost:8080/",
          "height": 400
        },
        "id": "p-ryVlYCryjg",
        "outputId": "2b69cc15-6840-47b7-f110-9ba0ae94b57e"
      },
      "source": [
        "plt.figure(figsize=(7, 5))\n",
        "plt.plot(sizes, p_cov_boot, '-o', label='Bootstrap')\n",
        "plt.plot(sizes, p_cov_norm, '-o', label='Normal')\n",
        "plt.plot(sizes, [0.95] * len(sizes), 'k--', label='Theoretical')\n",
        "plt.xscale('log')\n",
        "plt.suptitle(f'Coverage probability of different confidence intervals')\n",
        "plt.title(f'estimated with {num_repeats} repetitions')\n",
        "plt.xlabel('Sample size')\n",
        "plt.legend()"
      ],
      "execution_count": null,
      "outputs": [
        {
          "output_type": "execute_result",
          "data": {
            "text/plain": [
              "<matplotlib.legend.Legend at 0x7fc384049f90>"
            ]
          },
          "metadata": {},
          "execution_count": 135
        },
        {
          "output_type": "display_data",
          "data": {
            "image/png": "[encoded data removed]",
            "text/plain": [
              "<Figure size 504x360 with 1 Axes>"
            ]
          },
          "metadata": {
            "needs_background": "light"
          }
        }
      ]
    },
    {
      "cell_type": "markdown",
      "metadata": {
        "id": "32cOxzpUnkIY"
      },
      "source": [
        "From this plot we can see, that normal-based interval coverges to the theoretical value. Moreover, in main cases it larger then the theoretical one. \n",
        "## Conclusion \n",
        "\n",
        "From this two plots we can see, that both method can estimate the mean value quite well: on the first plot we can see, that the true mean belongs to confidence intervals obtained by both methods. Also we can see, that the CI of bootstrap method is less than the normal-based one, but, nevertheless, it has a worse convergance. "
      ]
    },
    {
      "cell_type": "markdown",
      "metadata": {
        "id": "XZe861ZUnkIZ"
      },
      "source": [
        "# Task 2. Currency in RC-circuit (25 points)\n",
        "\n",
        "In this part you need to estimate parameters and apply delta method. \n",
        "\n",
        "First of all, you will need some libraries. Also, fix random seed to get reproducible results."
      ]
    },
    {
      "cell_type": "code",
      "metadata": {
        "id": "tmVz5XqWnkIa"
      },
      "source": [
        "import numpy as np\n",
        "import scipy\n",
        "from scipy.stats import norm, uniform\n",
        "from numpy.random import choice, seed\n",
        "\n",
        "seed(100)"
      ],
      "execution_count": null,
      "outputs": []
    },
    {
      "cell_type": "markdown",
      "metadata": {
        "id": "UutZ2EjtnkIb"
      },
      "source": [
        "## Part 1. Estimate parameters (4 points)"
      ]
    },
    {
      "cell_type": "markdown",
      "metadata": {
        "id": "7ZAV4zqWnkIb"
      },
      "source": [
        "Assume that there is an RC-circuit with a capacitor and a resistor. \n",
        "<img src=\"circuit.png\" width=\"200\"  class=\"center\">\n",
        "\n",
        "We charge the capacitor until it reaches voltage $V$ and measure current intensity. In this case voltage on the capacitor yields the formula for exponential decay:\n",
        "\n",
        "$$ V_C(t) = V e^{-\\frac{t}{RC}} $$\n",
        "\n",
        "Let's assume that voltage $V$ and resistence $R$ are independent and belong to the following distributions:\n",
        "\n",
        "### a) \n",
        "$V \\sim \\mathcal{N}(4, 1)$, \n",
        "\n",
        "$R \\sim \\mathcal{U}(6, 11)$\n",
        "\n",
        "\n",
        "Consider **true values** for $V$ and $R$ to be the means of the corresponding distributions."
      ]
    },
    {
      "cell_type": "markdown",
      "metadata": {
        "id": "a2fvvhnbnkIb"
      },
      "source": [
        "Generate sample for $V$ of size 100. Apply maximum likelihood to estimate the mean. Show theoretical calculations for the estimates (with intermediate steps) and make simulation.\n"
      ]
    },
    {
      "cell_type": "markdown",
      "metadata": {
        "id": "0GVJWQzOu8pn"
      },
      "source": [
        "Here I suppose, that (6, 11) - the interval from which we take our observation (loc and scale in scipy will be 6 and 5).\n",
        "\n",
        "Statistical model is\n",
        "$$V_i = \\mu + \\epsilon_i$$\n",
        "where $\\mu$ - real value, $V_i$ - observed values, $\\epsilon_i$ - errors of the estimations, wich are distributed normally with zero mean. Then, applying $\\delta$-method to the function of likelyhood, we can find the estimation of a mean as an argument, where the likelihood function has maximum\n",
        "$$\\overline{L}(\\hat{\\mu}, V^n) = - \\frac{1}{2\\sigma^2}\\sum^{n}_{i=1}[V_i -\\hat{\\mu}] - \\frac{nlog(2\\pi\\sigma^2)}{2}$$\n",
        "$$\\frac{\\overline{L}(\\hat{\\mu}, V^n) }{d\\mu}\\Big{|}_{max} = \\sum^{n}_{i=1}[V_i -\\hat{\\mu(V_n)}] = 0$$\n",
        "$$\\mu(\\hat{V_n}) = \\frac{1}{n}\\sum^{n}_{i=1}V_i$$"
      ]
    },
    {
      "cell_type": "code",
      "metadata": {
        "id": "jaTNNXldnkIc"
      },
      "source": [
        "N_sam = 100\n",
        "V = norm(loc = 4, scale = 1).rvs(size=N_sam)"
      ],
      "execution_count": null,
      "outputs": []
    },
    {
      "cell_type": "markdown",
      "metadata": {
        "id": "yPR7oZ4AnkId"
      },
      "source": [
        "Generate sample for $R$ on size 100. Apply maximum likelihood to estimate the mean. Show theoretical calculations for estimates (with intermediate steps) and make simulation.\n",
        "\n",
        "$$\\hat{R}_{n} = \\frac{R_{(n)} + R_{(1)}}{2}$$\n",
        "\n",
        "Statistical model\n",
        "$$R = \\mu +\\epsilon_i$$\n",
        "where $\\mu$ - real value, $R_i$ - observed values, $\\epsilon_i$ - errors of the estimations, wich are distributed uniformly with zero mean. Errors(and values themselves) have following density \n",
        "$$\n",
        "p(x;\\sigma) = \\left\\{\n",
        "    \\begin{array}\\\\\n",
        "        (2\\sigma)^{-1} & \\mbox{if } \\ | x | \\ge \\sigma \\\\\n",
        "        0 & \\mbox{if } \\ |x| < \\sigma\n",
        "    \\end{array}\n",
        "\\right.\n",
        "$$\n",
        "Applying $\\delta$-method to the function of likelyhood we get\n",
        "$$L(\\hat{\\mu}; R^n) = \\sum_{i=1}^n log[p(R_i - \\hat{\\mu})] $$\n",
        "$$\n",
        " = \\left\\{\n",
        "    \\begin{array}\\\\\n",
        "        - n log(\\sigma) & \\mbox{if } \\ R_i  \\in [ \\overline{R} - \\sigma, \\overline{R}   + \\sigma ]  \\\\\n",
        "        -\\inf & \\mbox{if } \\ R_i  \\notin [ \\overline{R}  - \\sigma,\\overline{R}   + \\sigma ]\n",
        "    \\end{array}\n",
        "\\right.\n",
        "$$\n",
        "We see here, that this function is partialy-constant, and maximum value can be reached at any point from interval $[ R_{min} , R_{max} ]$. So as an estimate of a mean we can take the midle of this interval\n",
        "$$\\hat{\\mu} = \\frac{R_{max} + R_{min}}{2}$$\n"
      ]
    },
    {
      "cell_type": "code",
      "metadata": {
        "id": "Za-8r8eFnkId"
      },
      "source": [
        "# Your code here\n",
        "R = uniform(loc = 6, scale = 5).rvs(size=N_sam)"
      ],
      "execution_count": null,
      "outputs": []
    },
    {
      "cell_type": "code",
      "metadata": {
        "id": "uPf7t6j9pXM5"
      },
      "source": [
        "V_est = V.mean()\n",
        "V_var = V.var()\n",
        "R_est = (R.min() + R.max())/2\n",
        "R_var = (R.max() - R.min())**2/12"
      ],
      "execution_count": null,
      "outputs": []
    },
    {
      "cell_type": "markdown",
      "metadata": {
        "id": "29I9vjo0nkId"
      },
      "source": [
        "## Part 2. Apply delta method (8 points)"
      ]
    },
    {
      "cell_type": "markdown",
      "metadata": {
        "id": "oFMUWdzfnkIe"
      },
      "source": [
        "Assume, that we measure current intensity after 1 second. Let's take $C = 1$. In this case we get the following simplified formula:\n",
        "\n",
        "$$I = \\frac{V}{R} e^{-\\frac{1}{R}}.$$\n",
        "\n",
        "Find estimate for current and it's confidence interval. Show theoretical calculations for estimates (with intermediate steps) and make simulation.\n"
      ]
    },
    {
      "cell_type": "markdown",
      "metadata": {
        "id": "sOJjJisOamTZ"
      },
      "source": [
        "$$\\tau = g(\\hat{V}, \\hat{R}) = \\frac{\\hat{V}}{\\hat{R}}e^{-\\frac{1}{\\hat{R}}}$$\n",
        "\n",
        "On the lecture we calculated fisher information to obtain the variances and calculate se. In this task I failed to compute the distribution of I (I recieved non-irregular integral while calculating the common distribution of parametres). So I assume, that all our observations are iid, so we can write a function of likelihood will be the product of pdf at observation point. After that we take logarythm, wich turnes the product into sum. Taking partial derivative in this case will 'kill' the parts from different distributions, so we'll just achieve the variations of initial distributions. We have estimated dispersion of the normal distribution in the previous step, and for uniform one we can estimate it in this way\n",
        "\n",
        "$$\\sigma_R^2 = E(V^2) - E(V)^2 = \\int_a^b \\frac{x^2}{b-a}dx  - (\\int_a^b \\frac{x}{b-a}dx)^2 = \\frac{1}{12}(4b^2+4ab+4a^2-3b^2-6ab-3a^2)  = \\frac{(b-a)^2}{12}$$\n",
        "$\\sigma_v^2 $ is estimated in previous step\n",
        "\n",
        "\\begin{equation*}\n",
        "J_n  = \\frac{1}{n}\n",
        "\\begin{pmatrix}\n",
        "\\sigma_V^2 & 0 \\\\\n",
        "0 & \\frac{\\sigma_R^2}{12}  \n",
        "\\end{pmatrix}\n",
        "\\end{equation*}\n",
        "\\begin{equation*}\n",
        "\\nabla g  = \n",
        "\\begin{pmatrix}\n",
        "1 \\\\\n",
        "-V\\frac{1-R}{R^3}e^{-\\frac{1}{R}}  \n",
        "\\end{pmatrix}\n",
        "\\end{equation*}\n",
        "$$\\hat{se}(\\hat{\\tau}) = \\sqrt{(\\hat{\\nabla g })^TJ_n(\\hat{\\nabla g})} = \\frac{1}{\\sqrt{n}}\\sqrt{\\sigma_v^2+\\frac{\\sigma_R^2}{12}(V\\frac{1-R}{R^3}e^{-\\frac{1}{R}})^2}$$\n",
        "\n",
        "$$\\hat{I}_n = \\frac{\\hat{V}}{\\hat{R}}e^{-\\frac{1}{\\hat{R}}}$$\n",
        "\n",
        "$$ CI(\\hat{I}_n) = (\\hat{I}_n - 1.96\\cdot\\hat{se}, \\hat{I}_n + 1.96\\cdot\\hat{se})$$\n",
        "where \n",
        "$$\\hat{se} = \\frac{1}{\\sqrt{n}}\\sqrt{\\sigma_v^2+\\frac{\\sigma_R^2}{12}(V\\frac{1-R}{R^3}e^{-\\frac{1}{R}})^2}$$\n"
      ]
    },
    {
      "cell_type": "code",
      "metadata": {
        "id": "_VHrdrYjnkIe",
        "colab": {
          "base_uri": "https://localhost:8080/",
          "height": 35
        },
        "outputId": "fcd795da-b104-4b9c-9930-3f9b0d1bd5ee"
      },
      "source": [
        "I_est = V_est/R_est*np.exp(-1/R_est)\n",
        "se = 1/np.sqrt(N_sam)*np.sqrt(V_var + R_var*(V_est*(1-R_est)/R_est**3*np.exp(-1/R_est))**2)\n",
        "\n",
        "(lower_I, upper_I) = (I_est - 1.96*se,\n",
        "                      I_est + 1.96*se)\n",
        "                                     \n",
        "f\"Power of current {I_est:.3f} with confidence interval ({lower_I:.3f}, {upper_I:.3f})\"\n"
      ],
      "execution_count": null,
      "outputs": [
        {
          "output_type": "execute_result",
          "data": {
            "application/vnd.google.colaboratory.intrinsic+json": {
              "type": "string"
            },
            "text/plain": [
              "'Power of current 0.407 with confidence interval (0.221, 0.594)'"
            ]
          },
          "metadata": {},
          "execution_count": 27
        }
      ]
    },
    {
      "cell_type": "markdown",
      "metadata": {
        "id": "rndC0N9bnkIf"
      },
      "source": [
        "## Part 3. Non-parametric bootstrap estimation (2 points)\n",
        "\n",
        "Estimate confidence interval for $I$ using non-parametric bootstrap."
      ]
    },
    {
      "cell_type": "code",
      "metadata": {
        "id": "sEuYs-jEnkIf"
      },
      "source": [
        "N_sam = 100\n",
        "V_s = [choice(V, len(V), replace=True) for i in range(N_sam)]\n",
        "R_s = [choice(R, len(R), replace=True) for i in range(N_sam)]\n",
        "I_s = np.array([V_s[i].mean()/R_s[i].mean()*np.exp(-1/R_s[i].mean()) for i in range(N_sam)])\n",
        "I_boot = I_s.mean()\n",
        "\n",
        "#v_boot = 1/N_sam*np.sum((I_s - I_boot)**2)\n",
        "#se = np.sqrt(v_boot/N_sam)\n",
        "#CI_low, CI_high = (2*I_boot -1.96*se, 2*I_boot + 1.96*se)\n",
        "\n",
        "#f\"SE for non-parametric bootstrap: {se:e}\""
      ],
      "execution_count": null,
      "outputs": []
    },
    {
      "cell_type": "code",
      "metadata": {
        "colab": {
          "base_uri": "https://localhost:8080/",
          "height": 35
        },
        "id": "y3hoRPh-Qid-",
        "outputId": "2bbc019b-11a5-4061-9738-0c47b8b41243"
      },
      "source": [
        "I_s_sort = np.sort(I_s)\n",
        "conf = 0.95\n",
        "low = int(N_sam * (1 - (1 - conf)/2))\n",
        "up = int(N_sam * (1 - conf)/2) \n",
        "\n",
        "I_low = I_boot*2 - I_s_sort[low]\n",
        "I_up = I_boot*2 - I_s_sort[up]\n",
        "f\"Power of current {I_boot:.3f} with confidence interval ({I_low:.3f}, {I_up:.3f})\""
      ],
      "execution_count": null,
      "outputs": [
        {
          "output_type": "execute_result",
          "data": {
            "application/vnd.google.colaboratory.intrinsic+json": {
              "type": "string"
            },
            "text/plain": [
              "'Power of current 0.411 with confidence interval (0.382, 0.436)'"
            ]
          },
          "metadata": {},
          "execution_count": 29
        }
      ]
    },
    {
      "cell_type": "markdown",
      "metadata": {
        "id": "2UmzG0cLnkIg"
      },
      "source": [
        "## Part 4. Parametric bootstrap estimation (3 points)\n",
        "\n",
        "Estimate confidence interval for $I$ using parametric bootstrap."
      ]
    },
    {
      "cell_type": "markdown",
      "metadata": {
        "id": "sqIWmzT2TLDT"
      },
      "source": [
        "As we have estimations of parametres of our distributions in the first part of this task. "
      ]
    },
    {
      "cell_type": "code",
      "metadata": {
        "id": "1ffsvM65nkIh",
        "colab": {
          "base_uri": "https://localhost:8080/",
          "height": 35
        },
        "outputId": "e1673ec6-d753-4256-80ec-7cc80efc88c4"
      },
      "source": [
        "V_boot_par = norm(loc = V_est, scale = V_var).rvs(size=N_sam)\n",
        "R_boot_par = uniform(loc = R.min(), scale = R.max()-R.min()).rvs(size=N_sam)\n",
        "V_s = [choice(V_boot_par, len(V_boot_par), replace=True) for i in range(N_sam)]\n",
        "R_s = [choice(R_boot_par, len(R_boot_par), replace=True) for i in range(N_sam)]\n",
        "I_s = np.array([V_s[i].mean()/R_s[i].mean()*np.exp(-1/R_s[i].mean()) for i in range(N_sam)])\n",
        "I_boot = I_s.mean()\n",
        "\n",
        "I_s_sort = np.sort(I_s)\n",
        "conf = 0.95\n",
        "low = int(N_sam * (1 - (1 - conf)/2))\n",
        "up = int(N_sam * (1 - conf)/2) \n",
        "\n",
        "I_low = I_boot*2 - I_s_sort[low]\n",
        "I_up = I_boot*2 - I_s_sort[up]\n",
        "f\"Power of current {I_boot:.3f} with confidence interval ({I_low:.3f}, {I_up:.3f})\"\n",
        "\n",
        "\n",
        "#v_boot = 1/M*np.sum((I_s - I_boot)**2)\n",
        "#se = np.sqrt(v_boot/N_sam)\n",
        "#f\"SE for parametric bootstrap: {se:e}\""
      ],
      "execution_count": null,
      "outputs": [
        {
          "output_type": "execute_result",
          "data": {
            "application/vnd.google.colaboratory.intrinsic+json": {
              "type": "string"
            },
            "text/plain": [
              "'Power of current 0.403 with confidence interval (0.382, 0.419)'"
            ]
          },
          "metadata": {},
          "execution_count": 30
        }
      ]
    },
    {
      "cell_type": "markdown",
      "metadata": {
        "id": "QHNzx-1LnkIi"
      },
      "source": [
        "## Part 5. Compare results (8 points)"
      ]
    },
    {
      "cell_type": "markdown",
      "metadata": {
        "id": "U-szu5pgnkIj"
      },
      "source": [
        "Compare the size of confidence intervals obtained using delta method, parametric and non-parametric bootstrap. Additionally, compare the empirical coverage of different confidence intervals (by generating sufficient number of samples of corresponding size and calculating proportion of cases when the interval covers the true value for the current $I$). Consider sizes `[1e1, ..., 1e4]`. Plot results and make conclusion about their accuracy."
      ]
    },
    {
      "cell_type": "code",
      "metadata": {
        "id": "9yl6S75UnkIk"
      },
      "source": [
        "sizes = np.logspace(1, 4, 4).astype(np.int)\n",
        "N_sam = 10000\n",
        "V = norm(loc = 4, scale = 1).rvs(size=N_sam)\n",
        "R = uniform(loc = 6, scale = 5).rvs(size=N_sam)"
      ],
      "execution_count": null,
      "outputs": []
    },
    {
      "cell_type": "code",
      "metadata": {
        "id": "bYNQyITUO9kU"
      },
      "source": [
        "def I(V_s, R_s):\n",
        "  return V_s.mean()/R_s.mean()*np.exp(-1/R_s.mean())\n"
      ],
      "execution_count": null,
      "outputs": []
    },
    {
      "cell_type": "code",
      "metadata": {
        "id": "_AOI4UrMM_F-"
      },
      "source": [
        "def boot_estimates(X, Y, num_resamples=1000):\n",
        "    estimates = np.empty(num_resamples)\n",
        "    for i in range(num_resamples):\n",
        "        estimates[i] = I(np.random.choice(X, size=len(X), replace=True), np.random.choice(Y, size=len(Y), replace=True))\n",
        "    return estimates"
      ],
      "execution_count": null,
      "outputs": []
    },
    {
      "cell_type": "code",
      "metadata": {
        "id": "JqvaQ9MBVODy"
      },
      "source": [
        "def boot_interval(estimates, level=0.95):\n",
        "    alpha = 1 - level\n",
        "    m = estimates.mean()\n",
        "    return 2 * m - np.quantile(estimates, 1 - alpha/2), 2 * m - np.quantile(estimates, alpha/2)"
      ],
      "execution_count": null,
      "outputs": []
    },
    {
      "cell_type": "code",
      "metadata": {
        "id": "Iqn8Vd8XSF-8"
      },
      "source": [
        "def delta_interval(V, R, level=0.95):\n",
        "    alpha = 1 - level\n",
        "    V_est = V.mean()\n",
        "    V_var = V.var()\n",
        "    R_est = (R.min() + R.max())/2\n",
        "    R_var = (R.max() - R.min())**2/12\n",
        "    s_boot = 1/np.sqrt(len(V))*np.sqrt(V_var + R_var*(V_est*(1-R_est)/R_est**3*np.exp(-1/R_est))**2)\n",
        "    z = scipy.stats.norm.ppf(1 - alpha/2)\n",
        "    m = V_est/R_est * np.exp(-1/R_est)\n",
        "    return m - z * s_boot, m + z * s_boot"
      ],
      "execution_count": null,
      "outputs": []
    },
    {
      "cell_type": "code",
      "metadata": {
        "id": "E-_zwMOhnkIl",
        "colab": {
          "base_uri": "https://localhost:8080/",
          "height": 419
        },
        "outputId": "58fada3a-8138-43ae-c5d2-5d42540653f8"
      },
      "source": [
        "# Compare size of confidence intervals obtained using delta method, parametric and non-parametric bootstrap\n",
        "seed(476)\n",
        "param_boot_ints = np.empty((len(sizes), 2))\n",
        "boot_ints = np.empty_like(param_boot_ints)\n",
        "delta_ints = np.empty_like(param_boot_ints)\n",
        "R_true = (R.min()+R.max())/2\n",
        "I_true = V.mean()/R_true*np.exp(-1/R_true)\n",
        "\n",
        "\n",
        "for i, s in enumerate(sizes):\n",
        "   \n",
        "    V_part = choice(V, s, replace=False)\n",
        "    R_part = choice(R, s, replace=False)\n",
        "    V_est = V_part.mean()\n",
        "    V_var = V_part.std()\n",
        "    R_est = (R_part.min() + R_part.max())/2\n",
        "    R_var = (R_part.max() - R_part.min())**2/12\n",
        "    param_boot_ints[i] = boot_interval(boot_estimates(norm(loc = V_est, scale = V_var).rvs(size=s),\n",
        "                                                      uniform(loc = R_part.min(), scale = R_part.max()-R_part.min()).rvs(size=s), \n",
        "                                                      num_resamples=100))\n",
        "    boot_ints[i] = boot_interval(boot_estimates(V_part, R_part, num_resamples=100))\n",
        "    delta_ints[i] = delta_interval(V_part, R_part)\n",
        "\n",
        "plt.figure(figsize=(8, 6))\n",
        "plt.fill_between(sizes, param_boot_ints[:, 0], param_boot_ints[:, 1], alpha=0.3, label='Parametric bootstrap interval')\n",
        "plt.fill_between(sizes, boot_ints[:, 0], boot_ints[:, 1], alpha=0.3, label='Non-parametric bootstrap interval')\n",
        "plt.fill_between(sizes, delta_ints[:, 0], delta_ints[:, 1], alpha=0.3, label='Delta method interval')\n",
        "#plt.fill_between(sizes, [exact_int[0]] * len(sizes), [exact_int[1]] * len(sizes), alpha=0.2, label='Exact interval')\n",
        "plt.plot(sizes, [I_true]*len(sizes), 'k--', label='Estimate')\n",
        "plt.xscale('log')\n",
        "plt.xlabel('Number of bootstrap resamples')\n",
        "plt.legend(loc='best')\n"
      ],
      "execution_count": null,
      "outputs": [
        {
          "output_type": "execute_result",
          "data": {
            "text/plain": [
              "<matplotlib.legend.Legend at 0x7f144d02c150>"
            ]
          },
          "metadata": {},
          "execution_count": 19
        },
        {
          "output_type": "display_data",
          "data": {
            "image/png": "[encoded data removed]",
            "text/plain": [
              "<Figure size 576x432 with 1 Axes>"
            ]
          },
          "metadata": {
            "needs_background": "light"
          }
        }
      ]
    },
    {
      "cell_type": "markdown",
      "metadata": {
        "id": "1eIFEhsiYA-S"
      },
      "source": [
        "From this plot we can see that:\n",
        "\n",
        "1) Delta method has a larger confidence interval, but it always contains the true value. Also we see, that this confidence interval decreaes with the rise of amount of samples. This corresponds to the theory;\n",
        "\n",
        "2) Parametric and non-parametric bootstrap methods have less confidence interval, but they sometimes don't include real value\n"
      ]
    },
    {
      "cell_type": "code",
      "metadata": {
        "id": "ERXgq6IDtn1H"
      },
      "source": [
        "num_repeats = 300\n",
        "\n",
        "n_cov_delta = np.empty(len(sizes))\n",
        "p_cov_delta = np.empty_like(n_cov_delta)\n",
        "n_cov_boot = np.empty_like(n_cov_delta)\n",
        "p_cov_boot = np.empty_like(n_cov_delta)\n",
        "n_cov_param_boot = np.empty_like(n_cov_delta)\n",
        "p_cov_param_boot = np.empty_like(n_cov_delta)\n",
        "\n",
        "for i, s in enumerate(sizes):\n",
        "    boot_ints = np.empty((num_repeats, 2))\n",
        "    param_boot_ints = np.empty((num_repeats, 2))\n",
        "    delta_ints = np.empty((num_repeats, 2))\n",
        "    estimates = np.empty(num_repeats)\n",
        "    for j in range(num_repeats):\n",
        "        V_part = np.random.choice(V, s, replace=False)\n",
        "        R_part = np.random.choice(R, s, replace=False)\n",
        "        V_est = V_part.mean()\n",
        "        V_var = V_part.var()\n",
        "        R_est = (R_part.min() + R_part.max())/2\n",
        "        R_var = (R_part.max() - R_part.min())**2/12\n",
        "\n",
        "        estimates[j] = V_part.mean()/R_part.mean()*np.exp(-1/R_part.mean())\n",
        "        boot_ints[j] = boot_interval(boot_estimates(V_part, R_part, num_resamples=100))\n",
        "        param_boot_ints[j] = boot_interval(boot_estimates(norm(loc = V_est, scale = V_var).rvs(size=s),\n",
        "                                                      uniform(loc = R_est-R_var/2, scale = R_var).rvs(size=s), \n",
        "                                                      num_resamples=100))\n",
        "        delta_ints[j] = delta_interval(V_part, R_part)\n",
        "    n_cov_boot[i], p_cov_boot[i] = get_cov_prob(estimates, boot_ints[:, 0], boot_ints[:, 1], I_true)\n",
        "    n_cov_param_boot[i], p_cov_param_boot[i] = get_cov_prob(estimates, param_boot_ints[:, 0], param_boot_ints[:, 1], I_true)\n",
        "    n_cov_delta[i], p_cov_delta[i] = get_cov_prob(estimates, delta_ints[:, 0], delta_ints[:, 1], I_true)"
      ],
      "execution_count": null,
      "outputs": []
    },
    {
      "cell_type": "code",
      "metadata": {
        "colab": {
          "base_uri": "https://localhost:8080/",
          "height": 400
        },
        "id": "WenmbUFatruf",
        "outputId": "bca9afc9-f800-4c64-ceb8-7d20a33f76a4"
      },
      "source": [
        "plt.figure(figsize=(7, 5))\n",
        "plt.plot(sizes, p_cov_boot, '-o', label='Non-parametric bootstrap')\n",
        "plt.plot(sizes, p_cov_param_boot, '-o', label='Parametric bootstrap')\n",
        "plt.plot(sizes, p_cov_delta, '-o', label='Deltha method')\n",
        "plt.plot(sizes, [0.95] * len(sizes), 'k--', label='Theoretical')\n",
        "plt.xscale('log')\n",
        "plt.suptitle(f'Coverage probability of different confidence intervals')\n",
        "plt.title(f'estimated with {num_repeats} repetitions')\n",
        "plt.xlabel('Sample size')\n",
        "plt.legend(loc='best')"
      ],
      "execution_count": null,
      "outputs": [
        {
          "output_type": "execute_result",
          "data": {
            "text/plain": [
              "<matplotlib.legend.Legend at 0x7f144cc61450>"
            ]
          },
          "metadata": {},
          "execution_count": 21
        },
        {
          "output_type": "display_data",
          "data": {
            "image/png": "[encoded data removed]",
            "text/plain": [
              "<Figure size 504x360 with 1 Axes>"
            ]
          },
          "metadata": {
            "needs_background": "light"
          }
        }
      ]
    },
    {
      "cell_type": "markdown",
      "metadata": {
        "id": "VzyeSkyIts47"
      },
      "source": [
        "Here we also can see the prove of our previous conclusion: deltha-method has a better coverage, but it is more exact(have a better coverage). But, however, all three methods increase their coverage with the increase of the amount of samples. "
      ]
    },
    {
      "cell_type": "markdown",
      "metadata": {
        "id": "gp_M8XqbnkIn"
      },
      "source": [
        "Your conclusion:\n",
        "\n",
        "Here we have compared three methods\n",
        "- delta method. From the observations, it has the largest confidence interval. But this intervals always contained \"true\" values. Also, here we had to do more calculations, but after that less computations than in other methods;\n",
        "- non-parametric bootstrap interval. It has pretty the same confidence interval as a parametric bootstrap method, but it has a better coverage; \n",
        "- parametric bootstrap. Has the worse coverage, but, at the end, it also converges to theoretical value. It can be caused by the fact that we don't use the observed values.   \n"
      ]
    },
    {
      "cell_type": "markdown",
      "metadata": {
        "id": "IH8c2AUstpEI"
      },
      "source": [
        "P.S.: I did my best to complete this task. I did it myself, but with the use of some literature and web-sites for better understanding. Here I'll list this sources\n",
        "- Лагутин М. Б., \"Наглфдная математическая статистика\"\n",
        "- Голубев Г. К., \"ВВЕДЕНИЕ В МАТЕМАТИЧЕСКУЮ СТАТИСТИКУ. Конспект лекций\"\n",
        "- stackexchange \n"
      ]
    },
    {
      "cell_type": "code",
      "metadata": {
        "id": "fmqYQSnBeUQc"
      },
      "source": [
        ""
      ],
      "execution_count": null,
      "outputs": []
    }
  ]
}