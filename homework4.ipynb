{
  "cells": [
    {
      "cell_type": "markdown",
      "metadata": {
        "id": "view-in-github",
        "colab_type": "text"
      },
      "source": [
        "<a href=\"https://colab.research.google.com/github/annykay/AppliedStatistics/blob/main/homework4.ipynb\" target=\"_parent\"><img src=\"https://colab.research.google.com/assets/colab-badge.svg\" alt=\"Open In Colab\"/></a>"
      ]
    },
    {
      "cell_type": "code",
      "execution_count": 279,
      "metadata": {
        "id": "lygtHIrSH-DR"
      },
      "outputs": [],
      "source": [
        "import numpy as np\n",
        "import scipy\n",
        "import scipy.stats\n",
        "\n",
        "import matplotlib.pyplot as plt\n",
        "\n",
        "%matplotlib inline\n",
        "\n",
        "from tqdm.auto import tqdm"
      ]
    },
    {
      "cell_type": "markdown",
      "metadata": {
        "id": "52Or_NFXH-Dr"
      },
      "source": [
        "## Task 1: Bayesian inference with MCMC"
      ]
    },
    {
      "cell_type": "markdown",
      "metadata": {
        "id": "rKIbMBb2H-D9"
      },
      "source": [
        "We will consider a simple case of Bayesian inference for the unknown mean parameter of a Normal distribution. A series of values $\\boldsymbol{X}^{(n)} = X_1, X_2, \\dots X_n$ is sampled **independently** from a Normal distribution and we know its variance in advance, but are unsure about the mean. We assign a prior distribution to this unknown mean and would like to infer its posterior. We are also interested in predicting future observations $X$, so we would like to obtain its posterior predictive distribution as well.\n",
        "$$\\mu \\sim \\mathcal{N}(\\mu_0, \\sigma_0^2)$$\n",
        "$$X_i | \\mu \\sim \\mathcal{N}(\\mu, \\sigma^2), \\; i=1 \\dots n.$$"
      ]
    },
    {
      "cell_type": "code",
      "execution_count": 284,
      "metadata": {
        "id": "U1XRJee5H-EY"
      },
      "outputs": [],
      "source": [
        "np.random.seed(31337)\n",
        "\n",
        "true_mu = 3.0\n",
        "true_std = 0.3\n",
        "N = 20\n",
        "\n",
        "prior_mu = 0.\n",
        "prior_std = 1.\n",
        "\n",
        "X = np.random.normal(true_mu, true_std, 20)"
      ]
    },
    {
      "cell_type": "markdown",
      "metadata": {
        "id": "jNScyQfiH-Ea"
      },
      "source": [
        "### Task 1.1: implement analytical posterior (1 point)"
      ]
    },
    {
      "cell_type": "markdown",
      "metadata": {
        "id": "jgf0E2NFH-Ec"
      },
      "source": [
        "$$p(\\mu | \\boldsymbol{X}^{(n)}) = \\frac{p(\\boldsymbol{X}^{(n)} | \\mu) p(\\mu)}{p(\\boldsymbol{X}^{(n)})}, \\label{eq1} \\tag{1}$$\n",
        "$$p(\\boldsymbol{X}^{(n)}) = \\int p(\\boldsymbol{X}^{(n)}, \\mu) d\\mu$$\n",
        "For our simple case it is actually possible to derive the exact posterior distibution of the mean analytically. Posterior distiribution of $\\mu$ will also be Normal, but with different parameters that will depend on the observed sample and prior parameters. Refer to https://en.wikipedia.org/wiki/Conjugate_prior for the exact formulas and implement them in the following function:"
      ]
    },
    {
      "cell_type": "code",
      "execution_count": 398,
      "metadata": {
        "id": "FSz-UKUVH-Ef"
      },
      "outputs": [],
      "source": [
        "def analytical_posterior_pdf(x, samples, sigma, mu_0, sigma_0):\n",
        "    \"\"\"\n",
        "    Probability density of the analytical posterior for the Normal model with known variance\n",
        "    \n",
        "    :param x: point(s) where to evaluate the density\n",
        "    :param samples: observed samples\n",
        "    :param sigma: known standard deviation of the observations\n",
        "    :param mu_0: mean of the prior\n",
        "    :param sigma_0: standard deviation of the prior\n",
        "    :return: p(mu | samples)(x)\n",
        "    \"\"\"\n",
        "    \n",
        "    \n",
        "    n = len(samples)\n",
        "    sigma_p = (1/sigma_0**2 + n/sigma**2)**(-1)\n",
        "    mu_p = sigma_p*(mu_0/sigma_0**2 + sum(x)/sigma**2)\n",
        "    print(mu_p)\n",
        "    \n",
        "    return scipy.stats.norm(mu_p, sigma_p**(1/2)).pdf(x) #sigma_p, mu_p"
      ]
    },
    {
      "cell_type": "markdown",
      "metadata": {
        "id": "NWz_ZlRpH-Eo"
      },
      "source": [
        "Plot the resulting analytical posterior for the given observed sample, standard deviation of $X_i$ and prior parameters."
      ]
    },
    {
      "cell_type": "code",
      "source": [
        "post = analytical_posterior_pdf(X, X, X.std(), prior_mu, prior_std)\n",
        "post_pred = scipy.stats.norm(X[np.argmax(post)], X.std()).pdf(X)\n",
        "true_data = scipy.stats.norm(true_mu, true_std).pdf(X)"
      ],
      "metadata": {
        "id": "hefePsnZ6YCp",
        "colab": {
          "base_uri": "https://localhost:8080/"
        },
        "outputId": "7264c187-f54c-44ae-db58-206d0f636ec0"
      },
      "execution_count": 399,
      "outputs": [
        {
          "output_type": "stream",
          "name": "stdout",
          "text": [
            "2.9727779404128185\n"
          ]
        }
      ]
    },
    {
      "cell_type": "code",
      "source": [
        "plt.figure(figsize=(12, 8))\n",
        "plt.scatter(X, post_pred, label = \"Predictive Posterior\")\n",
        "plt.scatter(X, post, label = \"Distribution of Posterior Means\")\n",
        "plt.scatter(X, true_data, label = \"Distribution of True Data\")\n",
        "plt.legend()\n",
        "plt.grid(True)"
      ],
      "metadata": {
        "colab": {
          "base_uri": "https://localhost:8080/",
          "height": 483
        },
        "id": "HzwyjWHM7OA7",
        "outputId": "3b864b11-4009-4d21-97cf-119431ae0ce3"
      },
      "execution_count": 305,
      "outputs": [
        {
          "output_type": "display_data",
          "data": {
            "image/png": "[encoded data removed]",
            "text/plain": [
              "<Figure size 864x576 with 1 Axes>"
            ]
          },
          "metadata": {
            "needs_background": "light"
          }
        }
      ]
    },
    {
      "cell_type": "markdown",
      "metadata": {
        "id": "im6aXn_yH-Eq"
      },
      "source": [
        "### Task 1.2: Metropilis-Hastings algorithm (2 points)"
      ]
    },
    {
      "cell_type": "markdown",
      "metadata": {
        "id": "-_QWM_wWH-Es"
      },
      "source": [
        "In more complex models it is usually infeasible to derive the exact formula for the posterior density. In the equation (1), the numerator contains easy to evaluate terms: prior and likelihood, while the denominator is rather hard to find. This means that we know our posterior only up to a constant multiplicative term. We will have to resort to approximations. Previously in the course we have studied methods to estimate the unknown density from samples. If we could sample from this unknown posterior, we might be able to approximate it using a histogram or a kernel method.\n",
        "\n",
        "This is precisely the goal of MCMC methods. We will construct a Markov chain that will eventually produce samples from our distribution of interest - the posterior.\n"
      ]
    },
    {
      "cell_type": "markdown",
      "metadata": {
        "id": "3nkG_l1EH-Ev"
      },
      "source": [
        "Markov chain is a sequence of random variables $Y_1, Y_2, \\dots$ with the following property:\n",
        "$$p(Y_k | Y_{k-1}, Y_{k-2}, \\dots, Y_2, Y_1) = p(Y_k | Y_{k-1}),$$\n",
        "wich means that subsequent values ($Y_k$) do not depend on the whole history of the sequence if the previous value ($Y_{k-1}$) is given."
      ]
    },
    {
      "cell_type": "markdown",
      "metadata": {
        "id": "5cNj_IuBH-E1"
      },
      "source": [
        "We want to start with our chain from the prior distribution $Y_1 \\sim p(\\mu)$ and eventually converge to the posterior $Y_k \\sim p(\\mu | \\boldsymbol{X}^{(n)})$. In order to achieve this, we need to define the transition probabilities $p(Y_k | Y_{k-1})$ in a special way. Intuitevely, it will depend on the prior and posterior in some way and there may be different possibilities."
      ]
    },
    {
      "cell_type": "markdown",
      "metadata": {
        "id": "uy6m8eGaH-E7"
      },
      "source": [
        "We will describe one way to do it, namely Metropilis-Hastings algorithm with a random walk proposal. It was introduced in lecture 10, slides 19-22. We will use it to draw a sequence of samples from a special markov chain that satisfies our requirements.\n",
        "\n",
        "Let $T$ be the number of steps we decided to take from the chan. For our example model and using our notation the algorithm outilines as follows:\n",
        "\n",
        "1. Start by sampling $Y_1$ from the prior $p(\\mu)$\n",
        "2. Repeat for each $k$ form 1 to T:\n",
        "3. Construct the next sample $Y_{k+1}$ given the previous sampled value $Y_k$:\n",
        "4. $Y_{k+1} = Y_{k} + Z_{k+1}$, where $Z_{k+1} \\sim \\mathcal{N}(0, \\sigma_{step}^2)$ (we take a sample)\n",
        "5. We need to decide whether to make the transition $Y_k \\rightarrow Y_{k+1}$ (accept or reject our *proposed* new value $Y_{k+1}$):\n",
        "6. Accept the new sample with probability $\\min \\left\\{1, \\frac{p(\\boldsymbol{X}^{(n)} | \\mu = Y_{k+1}) p(\\mu = Y_{k+1})}{p(\\boldsymbol{X}^{(n)} | \\mu = Y_{k}) p(\\mu = Y_{k})}\\right\\}$, otherwise let $Y_{k+1} = Y_k$"
      ]
    },
    {
      "cell_type": "markdown",
      "metadata": {
        "id": "U68eISynH-E-"
      },
      "source": [
        "Notice that our acceptance probability equals the ratio of the **posterior** probabilities: $\\frac{p(\\mu=Y_{k+1} | \\boldsymbol{X}^{(n)})}{p(\\mu=Y_k | \\boldsymbol{X}^{(n)})}$, since the denominator in formula (1) does not depend on $\\mu$. This allows us to skip the hard part of taking the integral. \n",
        "\n",
        "Your task is to implement these steps, including the calculation of the acceptance probability, and run the chain. Numpy array `Y` should contain one MCMC trajectory that you have obtained as the result.\n",
        "\n",
        "*You may need to tune the $\\sigma_{step}$ parameter."
      ]
    },
    {
      "cell_type": "code",
      "execution_count": 306,
      "metadata": {
        "id": "448W2hakH-FH"
      },
      "outputs": [],
      "source": [
        "def acceptance_prob(y_new, y_old, samples, sigma, mu_0, sigma_0):\n",
        "    \"\"\"\n",
        "    Calculate acceptance probability in Metropilis-Hastings step for the Normal model with known variance\n",
        "    :param y_new: proposed value (corresponds to Y_{k+1})\n",
        "    :param y_old: previous value (corresponds to Y_k)\n",
        "    :param samples: observed data (X^(n))\n",
        "    :param sigma: known standard deviation of the observations\n",
        "    :param mu_0: mean of the prior\n",
        "    :param sigma_0: standard deviation of the prior\n",
        "    :return: p, acceptance probability\n",
        "    \"\"\"\n",
        "    #sigma /= np.sqrt(len(samples))\n",
        "    num = np.prod(scipy.stats.norm(y_new, sigma).pdf(samples))*scipy.stats.norm(mu_0, sigma_0).pdf(y_new)\n",
        "    denom = np.prod(scipy.stats.norm(y_old, sigma).pdf(samples))*scipy.stats.norm(mu_0, sigma_0).pdf(y_old)\n",
        "    \n",
        "    r = num/denom\n",
        "    p = min(1, r)\n",
        "    return p"
      ]
    },
    {
      "cell_type": "code",
      "execution_count": 307,
      "metadata": {
        "colab": {
          "base_uri": "https://localhost:8080/",
          "height": 85,
          "referenced_widgets": [
            "cff36837c3a34057b3679432a6fc3d54",
            "e199fce750344c33831805339818b088",
            "4a5bd89ad57747bdba0d5b9d7e8438ca",
            "4aaf74c5e8f7430fa53048d4e574a55a",
            "806d4052cdcb4e49b425a82ff84e3d67",
            "2c22e16f933a4a749209238665113f17",
            "9f45c4c27c66436b9efd0cb64512593b",
            "24d7f9c4f9414d2e98bf539d4d6ba1c8",
            "1c3ecb4d1bf2485188a772f020e6742f",
            "83d41a4c155840bfb64550c27f9b949c",
            "1395412b9e8d4ba3bc76cc133bcb7f7f"
          ]
        },
        "id": "RCY776loH-FI",
        "outputId": "b3d9ee9c-f9d9-464d-b853-2698f2a96e24"
      },
      "outputs": [
        {
          "output_type": "display_data",
          "data": {
            "application/vnd.jupyter.widget-view+json": {
              "model_id": "cff36837c3a34057b3679432a6fc3d54",
              "version_minor": 0,
              "version_major": 2
            },
            "text/plain": [
              "  0%|          | 0/999 [00:00<?, ?it/s]"
            ]
          },
          "metadata": {}
        },
        {
          "output_type": "stream",
          "name": "stderr",
          "text": [
            "/usr/local/lib/python3.7/dist-packages/ipykernel_launcher.py:16: RuntimeWarning: divide by zero encountered in double_scalars\n",
            "  app.launch_new_instance()\n"
          ]
        }
      ],
      "source": [
        "T = 1000\n",
        "sigma_step = 0.15\n",
        "Y = np.empty(T)\n",
        "Y[0] = np.random.normal(prior_mu, prior_std)\n",
        "acc = np.zeros(T)\n",
        "acc[0] = 1\n",
        "\n",
        "for i in tqdm(range(1, T)):\n",
        "    # Your code here\n",
        "    Z = scipy.stats.norm(0, sigma_step).rvs(size=1)[0]\n",
        "    Y_next = Y[i-1] + Z\n",
        "    \n",
        "    if np.random.rand() < acceptance_prob(Y_next, Y[i-1], X, X.std(), Y[i-1], true_std):\n",
        "        Y[i] = Y_next\n",
        "        acc[i]= 1\n",
        "    else:\n",
        "        Y[i] = Y[i-1]\n",
        "    pass"
      ]
    },
    {
      "cell_type": "markdown",
      "metadata": {
        "id": "T8k8DsurH-FK"
      },
      "source": [
        "### Task 1.3: Visualize the results (1 point)\n",
        "We have obtained a single trajectory of our Markov chain. The tsarting portion the obtained values may be different from the samples of the actual posterinir. After the so-called 'burn-in' or 'warmup' phase the distribution should become stationary and connverge to the true posterior. Time spent before this convergence occurs is usually called *mixing time*, and it is hard to estimate in practical situations.\n",
        "\n",
        "1. Plot your trajectory using line chart: x-axis will be the timestep number and y-axis the sampled value\n",
        "\n",
        "2. Plot the acceptance probability: how many proposed steps were accepted on average at given timestep (use sliding window or exponential moving average). Does it change over time? (You may need to save additional info during sampling in the previous part)\n",
        "\n",
        "3. When do you think the 'mixing' occured? (Approximately)"
      ]
    },
    {
      "cell_type": "code",
      "execution_count": null,
      "metadata": {
        "id": "epotVf_uH-FL"
      },
      "outputs": [],
      "source": [
        "# Your code here"
      ]
    },
    {
      "cell_type": "code",
      "source": [
        "plt.figure(figsize=(12, 8))\n",
        "plt.plot([i for i in range(len(Y))], Y ) \n",
        "plt.xlabel(\"Time Step\")\n",
        "plt.ylabel(\"Value of Mu at Each Step\")"
      ],
      "metadata": {
        "id": "q-Poac2Iax5J",
        "colab": {
          "base_uri": "https://localhost:8080/",
          "height": 516
        },
        "outputId": "8339555f-dc98-4227-8806-01250d151741"
      },
      "execution_count": 311,
      "outputs": [
        {
          "output_type": "execute_result",
          "data": {
            "text/plain": [
              "Text(0, 0.5, 'Value of Mu at Each Step')"
            ]
          },
          "metadata": {},
          "execution_count": 311
        },
        {
          "output_type": "display_data",
          "data": {
            "image/png": "[encoded data removed]",
            "text/plain": [
              "<Figure size 864x576 with 1 Axes>"
            ]
          },
          "metadata": {
            "needs_background": "light"
          }
        }
      ]
    },
    {
      "cell_type": "code",
      "source": [
        "plt.figure(figsize=(12, 8))\n",
        "plt.plot([i for i in range(len(Y))], [sum(acc[:i])/(i+1) for i in range(len(acc))] ) \n",
        "plt.xlabel(\"Time Step\")\n",
        "plt.ylabel(\"Value of Acceptance Probability at Each Step\")"
      ],
      "metadata": {
        "colab": {
          "base_uri": "https://localhost:8080/",
          "height": 519
        },
        "id": "dd2NgGNQhB03",
        "outputId": "7bcfd817-6368-4cce-f197-82a8a2071508"
      },
      "execution_count": 312,
      "outputs": [
        {
          "output_type": "execute_result",
          "data": {
            "text/plain": [
              "Text(0, 0.5, 'Value of Acceptance Probability at Each Step')"
            ]
          },
          "metadata": {},
          "execution_count": 312
        },
        {
          "output_type": "display_data",
          "data": {
            "image/png": "[encoded data removed]",
            "text/plain": [
              "<Figure size 864x576 with 1 Axes>"
            ]
          },
          "metadata": {
            "needs_background": "light"
          }
        }
      ]
    },
    {
      "cell_type": "markdown",
      "source": [
        "I tried to tune sigma_step to make acceptance probability close to 0,5. This probability changes over the time, but at the end become stational. "
      ],
      "metadata": {
        "id": "N_f86DqbGrsK"
      }
    },
    {
      "cell_type": "markdown",
      "metadata": {
        "id": "e0LMuoPTH-FN"
      },
      "source": [
        "### Task 1.4: Approximate posterior (1 points)\n",
        "\n",
        "Now we have determined the part of our trajectory that converged to our target distribution (you can use your guess from the previous task or just designate first half the trajectory for mixing). We will work with the remaing part to approximate the posterior.\n",
        "\n",
        "1. Plot the histogram and kernel density estimator of the posterior using the samples from your MCMC run\n",
        "2. Unfortunately, the samples that we obtained are not independent: due to the nature of our proposal step they are correlated. We can try to aleviate this effect by dropping some of the samples. Use only every 3rd (or 4th, 5th) obtained sample from the chain and display the corresponding distribution estimate on the same plot. Is it different?\n",
        "3. Add theoretical posterior from part 1 to the same plot. Is it close to our estimate(s)?"
      ]
    },
    {
      "cell_type": "code",
      "execution_count": 317,
      "metadata": {
        "id": "t5bwnMeVH-FO"
      },
      "outputs": [],
      "source": [
        "Y_stat = Y[:500]\n",
        "Y_third = np.array([Y_stat[i] for i in range(0, len(Y_stat), 3)])\n",
        "Y_quater = np.array([Y_stat[i] for i in range(0, len(Y_stat),4)])"
      ]
    },
    {
      "cell_type": "code",
      "source": [
        ""
      ],
      "metadata": {
        "id": "d5IUpW7qSYaw"
      },
      "execution_count": null,
      "outputs": []
    },
    {
      "cell_type": "code",
      "source": [
        "from sklearn.neighbors import KernelDensity\n",
        "\n",
        "kde = KernelDensity(kernel='gaussian', bandwidth=0.01).fit(Y_stat.reshape((-1,1)))\n",
        "\n",
        "X_plot = np.linspace(0, 6, 100)\n",
        "\n",
        "log_density = kde.score_samples(X_plot.reshape(-1,1))\n",
        "plt.figure(figsize=(12, 8))\n",
        "plt.hist(Y_stat, alpha = 0.2, bins = 15, label = \"Histogram Density Estimator\", color = 'b', density=True)\n",
        "plt.plot(X_plot, np.exp(log_density), label = \"Kernel Density Estimation\", color = 'g')\n",
        "plt.scatter(X, post, label = \"Theoretical Distribution of Posterior Means\", color = 'r')\n",
        "\n",
        "plt.xlim(2,4)\n",
        "plt.title(\"Estimation by All Y\")\n",
        "plt.legend()\n",
        "plt.grid(True)"
      ],
      "metadata": {
        "colab": {
          "base_uri": "https://localhost:8080/",
          "height": 499
        },
        "id": "FusHv5Nkxopr",
        "outputId": "fe068db2-af81-4126-9c70-903c8ddbcd87"
      },
      "execution_count": 374,
      "outputs": [
        {
          "output_type": "display_data",
          "data": {
            "image/png": "[encoded data removed]",
            "text/plain": [
              "<Figure size 864x576 with 1 Axes>"
            ]
          },
          "metadata": {
            "needs_background": "light"
          }
        }
      ]
    },
    {
      "cell_type": "code",
      "source": [
        "kde = KernelDensity(kernel='gaussian', bandwidth=0.01).fit(Y_third.reshape((-1,1)))\n",
        "\n",
        "X_plot = np.linspace(0, 6, 100)\n",
        "\n",
        "log_density = kde.score_samples(X_plot.reshape(-1,1))\n",
        "plt.figure(figsize=(12, 8))\n",
        "plt.hist(Y_third, alpha = 0.2, label = \"Histogram Density Estimator\", color = 'b', density=True)\n",
        "plt.plot(X_plot, np.exp(log_density), label = \"Kernel Density Estimation\", color = 'g')\n",
        "plt.scatter(X, post, label = \"Theoretical Distribution of Posterior Means\", color = 'r')\n",
        "\n",
        "plt.xlim(2,4)\n",
        "plt.title(\"Estimation by a Third of All Values\")\n",
        "plt.legend()\n",
        "plt.grid(True)"
      ],
      "metadata": {
        "id": "KrrdeZlt_t2r",
        "outputId": "ca3777e9-d446-42e0-ae0e-ce53e9721952",
        "colab": {
          "base_uri": "https://localhost:8080/",
          "height": 499
        }
      },
      "execution_count": 375,
      "outputs": [
        {
          "output_type": "display_data",
          "data": {
            "image/png": "[encoded data removed]",
            "text/plain": [
              "<Figure size 864x576 with 1 Axes>"
            ]
          },
          "metadata": {
            "needs_background": "light"
          }
        }
      ]
    },
    {
      "cell_type": "code",
      "source": [
        "kde = KernelDensity(kernel='gaussian', bandwidth=0.01).fit(Y_quater.reshape((-1,1)))\n",
        "\n",
        "X_plot = np.linspace(0, 6, 100)\n",
        "\n",
        "log_density = kde.score_samples(X_plot.reshape(-1,1))\n",
        "plt.figure(figsize=(12, 8))\n",
        "plt.hist(Y_quater, alpha = 0.2, label = \"Histogram Density Estimator\", color = 'b', density=True)\n",
        "plt.plot(X_plot, np.exp(log_density), label = \"Kernel Density Estimation\", color = 'g')\n",
        "plt.scatter(X, post, label = \"Theoretical Distribution of Posterior Means\", color = 'r')\n",
        "\n",
        "plt.xlim(2,4)\n",
        "\n",
        "plt.title(\"Estimation by a Quater of All Values\")\n",
        "plt.legend()\n",
        "plt.grid(True)"
      ],
      "metadata": {
        "id": "Oo1XD6dz_uY6",
        "outputId": "a2348987-cd30-445e-ee0d-9a5e9b78c6b6",
        "colab": {
          "base_uri": "https://localhost:8080/",
          "height": 499
        }
      },
      "execution_count": 377,
      "outputs": [
        {
          "output_type": "display_data",
          "data": {
            "image/png": "[encoded data removed]",
            "text/plain": [
              "<Figure size 864x576 with 1 Axes>"
            ]
          },
          "metadata": {
            "needs_background": "light"
          }
        }
      ]
    },
    {
      "cell_type": "markdown",
      "source": [
        "From here we can see, that kernel and histogram estimations become better after throwing away some values of Y. However, thay are still not very close to the theoretical one"
      ],
      "metadata": {
        "id": "rd9V_6RNN2TN"
      }
    },
    {
      "cell_type": "markdown",
      "metadata": {
        "id": "ZB9_ccPSH-FQ"
      },
      "source": [
        "### Task 1.5: Posterior predictive distribution (1 bonus point)\n",
        "\n",
        "Now that we have obtained the estimate of the posterior, we can turn to a more practical task: predicting new values $X_{n+1}$. To do it in a Bayesian fashion, we employ posterior predictive distribution:\n",
        "$$p(X_{n+1} | \\boldsymbol{X}^{(n)}) = \\int p(X_{n+1}, \\mu | \\boldsymbol{X}^{(n)}) d \\mu = \\int p(X_{n+1} | \\mu, \\boldsymbol{X}^{(n)}) p(\\mu | \\boldsymbol{X}^{(n)})d \\mu = \\int p(X_{n+1} | \\mu) p(\\mu | \\boldsymbol{X}^{(n)})d \\mu$$\n",
        "\n",
        "Similar to part 1, for our simple model this distribution can also be derived analyticaly and is described on the same Wiki page.\n",
        "\n",
        "1. Implement analytical posterior predictive distribution for our model and plot it\n",
        "2. Using decorrelated samples from the posterior, obtained in the previous part, approximate the posterior predictive distribution (with histogram or KDE) and add it to the plot. Is it close to the analytical result?"
      ]
    },
    {
      "cell_type": "code",
      "execution_count": 424,
      "metadata": {
        "id": "WNlyLaPaH-FR",
        "colab": {
          "base_uri": "https://localhost:8080/",
          "height": 483
        },
        "outputId": "9d626dde-78d1-487f-efa7-767f381c0683"
      },
      "outputs": [
        {
          "output_type": "display_data",
          "data": {
            "image/png": "[encoded data removed]",
            "text/plain": [
              "<Figure size 864x576 with 1 Axes>"
            ]
          },
          "metadata": {
            "needs_background": "light"
          }
        }
      ],
      "source": [
        "X_plot = np.linspace(2.5,3.5,100)\n",
        "kde = KernelDensity(kernel='gaussian', bandwidth=0.05).fit(Y_quater.reshape((-1,1)))\n",
        "log_density = kde.score_samples(X_plot.reshape(-1,1))\n",
        "n = len(X)\n",
        "\n",
        "sigma_p = (1/prior_std**2 + n/X.std()**2)**(-1)\n",
        "mu_p = sigma_p*(prior_mu/prior_std**2 + sum(X)/X.std()**2)\n",
        "post = scipy.stats.norm(mu_p, sigma_p**(1/2)).pdf(X_plot)\n",
        "plt.figure(figsize=(12, 8))\n",
        "plt.plot(X_plot, post, label = 'Theoretical Prediction of the Samples From Posterior')\n",
        "\n",
        "plt.plot(X_plot, np.exp(log_density), label = \"Prediction of the Samples Obtained by Kernal Density Estimation\", color = 'g')\n",
        "plt.legend()\n",
        "plt.grid(True)"
      ]
    },
    {
      "cell_type": "markdown",
      "metadata": {
        "id": "lWSj-xmfGjPK"
      },
      "source": [
        "# Task 2. Substitution Cipher and Markov Chain Monte Carlo (MCMC). (5 points)\n",
        "\n",
        "In this task we will decrypt data that was scrambled using a Substitution Cipher. We assume that encryption key is unknown and we want to decrypt the data and read the code using recovered decryption key. [Introduction from here](http://statweb.stanford.edu/~cgates/PERSI/papers/MCMCRev.pdf) gives reference to the original task."
      ]
    },
    {
      "cell_type": "code",
      "execution_count": 8,
      "metadata": {
        "id": "c-TxsSUSGjPP"
      },
      "outputs": [],
      "source": [
        "import string"
      ]
    },
    {
      "cell_type": "markdown",
      "metadata": {
        "id": "qmmu8YNNH-FV"
      },
      "source": [
        "As verification we will take a piece from \"Alice's adventures in Wonderland\". We scramble data with a random encryption key, which we forgot after encrypting, and we would like to decrypt this encrypted text using MCMC Chains."
      ]
    },
    {
      "cell_type": "code",
      "execution_count": 9,
      "metadata": {
        "id": "4w3cov5qH-FW"
      },
      "outputs": [],
      "source": [
        "plain_text = \"\"\"\n",
        "Alice was beginning to get very tired of sitting by her sister on the bank, and of having nothing to do: once or twice she had peeped into the book her sister was reading, but it had no pictures or conversations in it, 'and what is the use of a book,' thought Alice 'without pictures or conversation?'\n",
        "So she was considering in her own mind (as well as she could, for the hot day made her feel very sleepy and stupid), whether the pleasure of making a daisy-chain would be worth the trouble of getting up and picking the daisies, when suddenly a White Rabbit with pink eyes ran close by her.\n",
        "There was nothing so very remarkable in that; nor did Alice think it so very much out of the way to hear the Rabbit say to itself, 'Oh dear! Oh dear! I shall be late!' (when she thought it over afterwards, it occurred to her that she ought to have wondered at this, but at the time it all seemed quite natural); but when the Rabbit actually took a watch out of its waistcoat-pocket, and looked at it, and then hurried on, Alice started to her feet, for it flashed across her mind that she had never before see a rabbit with either a waistcoat-pocket, or a watch to take out of it, and burning with curiosity, she ran across the field after it, and fortunately was just in time to see it pop down a large rabbit-hole under the hedge.\n",
        "In another moment down went Alice after it, never once considering how in the world she was to get out again.\n",
        "The rabbit-hole went straight on like a tunnel for some way, and then dipped suddenly down, so suddenly that Alice had not a moment to think about stopping herself before she found herself falling down a very deep well.\n",
        "\"\"\""
      ]
    },
    {
      "cell_type": "markdown",
      "metadata": {
        "id": "TJDrtW3bH-FX"
      },
      "source": [
        "We will use 26 letters of English alphabet."
      ]
    },
    {
      "cell_type": "code",
      "execution_count": 425,
      "metadata": {
        "id": "zOb1AewFH-FY"
      },
      "outputs": [],
      "source": [
        "characters = string.ascii_lowercase\n",
        "characters_dict = {char : c for c, char in enumerate(characters, start=1)}\n",
        "m = len(characters) + 1"
      ]
    },
    {
      "cell_type": "markdown",
      "metadata": {
        "id": "s2QolxGKH-FZ"
      },
      "source": [
        "## Generate random encryption key.\n",
        "\n",
        "Here are functions that will be used to encrypt/decrypt text."
      ]
    },
    {
      "cell_type": "code",
      "execution_count": 426,
      "metadata": {
        "id": "ppANR8D7H-Fa"
      },
      "outputs": [],
      "source": [
        "def encode_text(text_to_encode, characters_dict):\n",
        "    \"\"\"This function turns a text string into an integer sequence using given dictionary.\"\"\"\n",
        "    characters_set = set(characters_dict.keys())\n",
        "    return np.r_[[characters_dict[char] if char in characters_set else 0 for char in text_to_encode.strip().lower()]]\n",
        "\n",
        "def decode_text(text_to_decode, characters):\n",
        "    \"\"\"This function turns an integer sequence into a text string using given list of characters.\"\"\"\n",
        "    characters_array = np.array([\" \"] + list(characters))\n",
        "    return \"\".join(characters_array[text_to_decode])\n",
        "\n",
        "def apply_cipher(text_as_int_array, cipher):\n",
        "    \"This function applies substitution cipher to an integer sequence.\"\n",
        "    return cipher[text_as_int_array]"
      ]
    },
    {
      "cell_type": "markdown",
      "metadata": {
        "id": "GUWwDdltH-Fb"
      },
      "source": [
        "Generate encryption and decryption keys. They are just permutations of the alphabet."
      ]
    },
    {
      "cell_type": "code",
      "execution_count": 427,
      "metadata": {
        "id": "zzF-AnDSH-Fc"
      },
      "outputs": [],
      "source": [
        "np.random.seed(1234)\n",
        "\n",
        "encryption_indices = np.random.permutation(np.arange(m-1))\n",
        "decryption_indices = np.argsort(encryption_indices)\n",
        "\n",
        "characters_array = np.array(list(characters))\n",
        "encryption_key = \"\".join(characters_array[encryption_indices])\n",
        "decryption_key = \"\".join(characters_array[decryption_indices])"
      ]
    },
    {
      "cell_type": "markdown",
      "metadata": {
        "id": "iXUkgucxH-Fd"
      },
      "source": [
        "Check encoding/decoding functions and encryption/decryption keys."
      ]
    },
    {
      "cell_type": "code",
      "execution_count": 428,
      "metadata": {
        "id": "SL9pQjSFH-Fe",
        "colab": {
          "base_uri": "https://localhost:8080/",
          "height": 36
        },
        "outputId": "7fc225f3-d36e-4636-c8fc-19d6fad611ea"
      },
      "outputs": [
        {
          "output_type": "execute_result",
          "data": {
            "application/vnd.google.colaboratory.intrinsic+json": {
              "type": "string"
            },
            "text/plain": [
              "'the quick brown fox jumps over the lazy dog'"
            ]
          },
          "metadata": {},
          "execution_count": 428
        }
      ],
      "source": [
        "encryption_key_encoded = np.r_[0, encode_text(encryption_key, characters_dict)]\n",
        "decryption_key_encoded = np.r_[0, encode_text(decryption_key, characters_dict)]\n",
        "\n",
        "text = \"The quick brown fox jumps over the lazy dog\"\n",
        "\n",
        "encoded_text = encode_text(text, characters_dict)\n",
        "cipher_text = apply_cipher(encoded_text, encryption_key_encoded)\n",
        "encoded_text = apply_cipher(cipher_text, decryption_key_encoded)\n",
        "decoded_text = decode_text(encoded_text, characters_dict)\n",
        "decoded_text"
      ]
    },
    {
      "cell_type": "markdown",
      "metadata": {
        "id": "DxzJVj27H-Ff"
      },
      "source": [
        "Encrypt cipher text."
      ]
    },
    {
      "cell_type": "code",
      "execution_count": 429,
      "metadata": {
        "id": "B5bB-ZDNH-Fz"
      },
      "outputs": [],
      "source": [
        "plain_text_encoded = encode_text(plain_text[:99], characters_dict)\n",
        "cipher_text = apply_cipher(plain_text_encoded, encryption_key_encoded)"
      ]
    },
    {
      "cell_type": "markdown",
      "metadata": {
        "id": "agEPDOvAH-F1"
      },
      "source": [
        "## Collect frequences \n",
        "\n",
        "Collect frequences of two character combinations (bigrams) over large text corpus and from encrypted text. We will store them in a matrix and interpret it as a transition matrix: from the first character to the second."
      ]
    },
    {
      "cell_type": "code",
      "execution_count": 430,
      "metadata": {
        "id": "9HClyTslH-F2"
      },
      "outputs": [],
      "source": [
        "def collect_transition_frequences(data, transition_matrix):\n",
        "    \"\"\"For a given integer sequence, which corresponds to some char sequence, \n",
        "       return transitions for adjacent values.\"\"\"\n",
        "    transitions = data.repeat(2)[1:-1].reshape(-1, 2)\n",
        "    for i, j in transitions:\n",
        "        transition_matrix[i, j] += 1\n",
        "    \n",
        "    return transition_matrix\n",
        "\n",
        "def collect_empirical_frequences(filename, characters_dict, m):\n",
        "    \"\"\"Collect frequences over large text corpus, return transition matrix.\"\"\"\n",
        "    transition_matrix = np.zeros((m, m))\n",
        "    with open(filename) as f:\n",
        "        for line in f:\n",
        "            line_encoded = encode_text(line, characters_dict)\n",
        "            if line_encoded.size > 1:\n",
        "                transition_matrix = collect_transition_frequences(line_encoded, transition_matrix)\n",
        "                \n",
        "    return transition_matrix\n",
        "\n",
        "def collect_observed_frequences(cipher_text, characters_dict, m):\n",
        "    \"\"\"Collect frequences over encrypted text, return nonzero indices of \n",
        "       transition matrix for both dimentions and values for those indices.\n",
        "       `values = transition_matrix[indices_1, indices_2]`\"\"\"\n",
        "    transition_matrix = np.zeros((m, m))\n",
        "    transition_matrix = collect_transition_frequences(cipher_text, transition_matrix)\n",
        "    \n",
        "    return transition_matrix"
      ]
    },
    {
      "cell_type": "markdown",
      "metadata": {
        "id": "7j59VM3iH-F4"
      },
      "source": [
        "Collect frequences."
      ]
    },
    {
      "cell_type": "code",
      "execution_count": 431,
      "metadata": {
        "id": "ZNP8QShHH-F5"
      },
      "outputs": [],
      "source": [
        "empirical_frequences = collect_empirical_frequences('war_and_peace.txt', characters_dict, m)\n",
        "observed_frequences = collect_observed_frequences(cipher_text, characters_dict, m)\n"
      ]
    },
    {
      "cell_type": "code",
      "source": [
        "# empirical_frequences = (empirical_frequences+1)/np.mean(empirical_frequences)\n",
        "# observed_frequences = (observed_frequences+1)/np.mean(observed_frequences)"
      ],
      "metadata": {
        "id": "Nq5y6H9KA8hi"
      },
      "execution_count": 432,
      "outputs": []
    },
    {
      "cell_type": "markdown",
      "metadata": {
        "id": "yjedc-_xGjPO"
      },
      "source": [
        "Our Chain will include states that are permutations of the substitution cipher. Algorithm has following steps:\n",
        "\n",
        "1. Start by picking up a random current state. \n",
        "2. Create a proposal for a new state by swapping two or more random letters in the current state.\n",
        "3. Use a Scoring Function which calculates the score of the current state $Score_{old}$ and the proposed state $Score_{new}$.\n",
        "4. If the score of the proposed state is more than current state, Move to Proposed State.\n",
        "5. Else flip a coin which has a probability of Heads $\\frac{Score_{new}}{Score_{old}}$  . If it comes heads move to proposed State.\n",
        "6. Repeat from Step 2.\n",
        "\n",
        "We want ot reach a steady state where the chain has the stationary distribution of the needed states. This state of chain could be used as a solution.\n",
        "\n",
        "Let's start with implementing steps 2 and 3."
      ]
    },
    {
      "cell_type": "markdown",
      "metadata": {
        "id": "RfRZbvMHH-GN"
      },
      "source": [
        "## Step 2: Prepare sampling function (2 points)."
      ]
    },
    {
      "cell_type": "markdown",
      "metadata": {
        "id": "Z5WfVNWTH-GO"
      },
      "source": [
        "\n",
        "\n",
        "To generate a new proposed cipher we randomly select several positions and swap values at those positions. It corresponds to change in seveal mappings of encrypted characters in decrypted ones. Example with 2 swaps.\n",
        "\n",
        "was|now\n",
        "-|-\n",
        "A -> B | A -> B\n",
        "B -> C | B -> C\n",
        "C -> D | C -> A\n",
        "D -> A | D -> D"
      ]
    },
    {
      "cell_type": "code",
      "execution_count": 433,
      "metadata": {
        "id": "2o7a2KScH-GQ"
      },
      "outputs": [],
      "source": [
        "import random\n",
        "\n",
        "def generate_cipher(cipher, m, size=2):\n",
        "    pos1 = np.array([random.randint(1, m-1) for i in range(size)])\n",
        "    pos2 = np.array([random.randint(1, m-1) for i in range(size)])\n",
        "    for i in range(size):\n",
        "      if pos1[i] != pos2[i]:\n",
        "        #cipher = list(cipher)\n",
        "        pos1_alpha = cipher[pos1[i]]\n",
        "        pos2_alpha = cipher[pos2[i]]\n",
        "        cipher[pos1[i]] = pos2_alpha\n",
        "        cipher[pos2[i]] = pos1_alpha\n",
        "\n",
        "    return cipher"
      ]
    },
    {
      "cell_type": "markdown",
      "metadata": {
        "id": "D88GmEBhH-Gb"
      },
      "source": [
        "## Step 3: Prepare scoring function (2 points)."
      ]
    },
    {
      "cell_type": "markdown",
      "metadata": {
        "id": "siBVVI9ZGjPP"
      },
      "source": [
        "We want to use a scoring function for each state(Decryption key) which assigns a positive score to each decryption key. This score intuitively should be larger if the encrypted text looks more like actual english, when decrypted using this decryption key. We will check a large text and calculate frequences: how many times one character comes after another in a large text like \"War and Peace\".\n",
        "\n",
        "For each pair of characters $\\beta_1$ and $\\beta_2$ (e.g. $\\beta_1$ = A and $\\beta_2$ = B), we let $R(\\beta_1,\\beta_2)$ record the number of times that specific pair(e.g. \"AB\") appears consecutively in the reference text.\n",
        "\n",
        "Similarly, for a considered decryption key $x$, we let $F_x(\\beta_1,\\beta_2)$ record the number of times that\n",
        "pair appears when the cipher text is decrypted using the decryption key $x$.\n",
        "\n",
        "We then Score a particular decryption key $x$ using:\n",
        "\n",
        "$$Score(x) = \\prod R(\\beta_1,\\beta_2)^{F_x(\\beta_1,\\beta_2)}$$\n",
        "    \n",
        "To make life easier with calculations we will calculate $log(Score(x))$"
      ]
    },
    {
      "cell_type": "markdown",
      "metadata": {
        "id": "o8J9ZqZGH-Gl"
      },
      "source": [
        "Now, you need to implement scoring function. As input it takes \n",
        "- `cipher`: mapping between encrypted characters and decrypted characters,\n",
        "- `observed_frequences`: transition matrix for cipher text, matrix representation of $F_x(\\beta_1,\\beta_2)$,\n",
        "- `empirical_frequences`: transition matrix for large text, matrix representation of $R(\\beta_1,\\beta_2)$.\n",
        "\n",
        "Scoring function returns $log(Score(x))$. You need correctly process zero values in transition matrices while calculating the score."
      ]
    },
    {
      "cell_type": "code",
      "execution_count": 435,
      "metadata": {
        "id": "6J-UPVEyH-Gr"
      },
      "outputs": [],
      "source": [
        "def score_cipher(cipher, observed_frequences, empirical_frequences):\n",
        "    \n",
        "    # decrypted_text = apply_cipher_on_text(cipher_text, cipher)\n",
        "    # scored_f = score_params_on_cipher(decrypted_text)\n",
        "\n",
        "    log_score = 0\n",
        "    for i in range(len(cipher[1:])):\n",
        "      for j in range(len(cipher[1:])):\n",
        "        if empirical_frequences[i][j]!= 0:\n",
        "          log_score += observed_frequences[cipher[i]][cipher[j]]*np.log(empirical_frequences[i][j])\n",
        "    \n",
        "    \n",
        "    return log_score"
      ]
    },
    {
      "cell_type": "markdown",
      "metadata": {
        "id": "iG-l_YyuH-Gt"
      },
      "source": [
        "## Decryption\n",
        "\n",
        "Now we a ready to decrypt cipher text."
      ]
    },
    {
      "cell_type": "code",
      "execution_count": 436,
      "metadata": {
        "id": "9v6x32KrH-Gu"
      },
      "outputs": [],
      "source": [
        "def decrypting(observed_frequences, empirical_frequences, n_iters, m, step_size, seed, print_it=1000):\n",
        "    \"\"\"This function finds most suited decrypting cipher(1D np.array).\n",
        "        observed_frequences, 2D np.array - transition matrix with frequences for cipher text,\n",
        "        empirical_frequences, 2D np.array - transition matrix with frequences for large text,\n",
        "        n_iters, int - number of MCMC iterations,\n",
        "        step_size, int - number of changes in cipher per one iteration,\n",
        "        seed, int - seed for random generator,\n",
        "        print_it, int - print decrypted text every `print_it` iterations.\n",
        "    \"\"\"\n",
        "\n",
        "    np.random.seed(seed)\n",
        "\n",
        "    # 1. Start by picking up a random current state. \n",
        "    cipher_old = np.arange(m)#np.array(sample([i for i in range(m)], m))\n",
        "    cipher_old[5] = 2\n",
        "    cipher_old[2] = 5\n",
        "    #cipher_text = apply_cipher(plain_text_encoded, cipher_old)\n",
        "    #observed_frequences_new = collect_observed_frequences(cipher_text, characters_dict, m)\n",
        "    score_cipher_old = score_cipher(cipher_old, observed_frequences, empirical_frequences)\n",
        "    best_state, score = cipher_old, score_cipher_old\n",
        "    #state_keeper = set()\n",
        "    \n",
        "\n",
        "    for i in tqdm(range(1, n_iters+1)):\n",
        "        #state_keeper.add(cipher_old)\n",
        "        # 2. Create a proposal for a new state by swapping two or more random letters in the current state.\n",
        "        cipher_new = generate_cipher(cipher_old, m, size=step_size)\n",
        "\n",
        "        # 3. Use a Scoring Function which calculates the score of the current state $Score_{old}$ and the proposed State $Score_{new}$.\n",
        "        #cipher_text = apply_cipher(plain_text_encoded, cipher_new)\n",
        "        #observed_frequences_new = collect_observed_frequences(cipher_text, characters_dict, m)\n",
        "\n",
        "        score_cipher_new = score_cipher(cipher_new, observed_frequences, empirical_frequences)\n",
        "        acceptance_probability = np.min((1, np.exp(score_cipher_new - score_cipher_old)))\n",
        "\n",
        "        # 4. If the score of the proposed state is more than current state, Move to Proposed State.\n",
        "        # 5. Else flip a coin which has a probability of Heads $Score_{new}/Score_{old}$. If it comes heads move to proposed State.\n",
        "        if score_cipher_old > score:\n",
        "            best_state, score = cipher_old, score_cipher_old\n",
        "        if acceptance_probability > np.random.uniform(0,1):\n",
        "            cipher_old, score_cipher_old = cipher_new, score_cipher_new\n",
        "        if i % print_it == 0:\n",
        "            print(f\"iter {i}: {decode_text(apply_cipher(cipher_text[0:99], cipher_old), characters)}\", score)\n",
        "\n",
        "\n",
        "    return best_state\n"
      ]
    },
    {
      "cell_type": "code",
      "execution_count": 437,
      "metadata": {
        "id": "XHAg8QR_H-Gw",
        "colab": {
          "base_uri": "https://localhost:8080/",
          "height": 1000,
          "referenced_widgets": [
            "7e876a1042ec4d088ce6a0f9346fd50b",
            "0b6bd44634dd4ec7bf8b07c0cf53c0c7",
            "46465d3470874912bbdf7f77deb9077d",
            "1c4bc7c33aaf4a55b3b7bb88a75ad813",
            "d646ddd7908845d3b0bfc689c1d69ee8",
            "a53c0018b43e4698800521af6c4de565",
            "1aeb4e6108454b2e86c5ab2fb529b422",
            "1cbc27c5654f4acda13309d406448146",
            "a4040fe298f14f7389c00b922662a178",
            "874f1ac9bc0847f5a028c212183910dd",
            "61fb05c675974bf8bad69aea4851e572"
          ]
        },
        "outputId": "625a501e-befa-4391-aa5e-31b6664accd4"
      },
      "outputs": [
        {
          "output_type": "display_data",
          "data": {
            "application/vnd.jupyter.widget-view+json": {
              "model_id": "7e876a1042ec4d088ce6a0f9346fd50b",
              "version_minor": 0,
              "version_major": 2
            },
            "text/plain": [
              "  0%|          | 0/100000 [00:00<?, ?it/s]"
            ]
          },
          "metadata": {}
        },
        {
          "output_type": "stream",
          "name": "stdout",
          "text": [
            "iter 1000: wvzmr jwe trazsszsa yl ary qrfn yzfro lk ezyyzsa tn irf ezeyrf ls yir twsu  wso lk iwqzsa slyizsa 783.0974956502686\n",
            "iter 2000: ntwoc bnz dciwyywyi ku ick fcgx kwgch ua zwkkwyi dx mcg zwzkcg uy kmc dnyq  nyh ua mnfwyi yukmwyi 787.1733206967151\n",
            "iter 3000: kdygf vka efpyjjyjp qw pfq ofsi qysfx wz ayqqyjp ei ufs ayaqfs wj quf ekjt  kjx wz ukoyjp jwquyjp 787.1733206967151\n",
            "iter 4000: bcufe wbz peyuttuty do yed lejx dujeg oa zudduty px hej zuzdej ot dhe pbtv  btg oa hbluty todhuty 787.1733206967151\n",
            "iter 5000: fnohl vfw slgoiioig xt glx alcr xoclq tk woxxoig sr plc wowxlc ti xpl sfie  fiq tk pfaoig itxpoig 787.1733206967151\n",
            "iter 6000: rztmo qrk sohtyytyh jp hoj aocd jtcoe pb ktjjtyh sd ioc ktkjoc py jio sryx  rye pb iratyh ypjityh 787.1733206967151\n",
            "iter 7000: mcqxk zmp bklqnnqnl vg lkv ikjs vqjkw gh pqvvqnl bs rkj pqpvkj gn vrk bmny  mnw gh rmiqnl ngvrqnl 787.1733206967151\n",
            "iter 8000: tlykx ztd exwyrryrw uj wxu pxvf uyvxg jq dyuuyrw ef hxv dyduxv jr uhx etrn  trg jq htpyrw rjuhyrw 787.1733206967151\n",
            "iter 9000: zimlp dzg npkmuumuk sj kps tpco smcpb jy gmssmuk no hpc gmgspc ju shp nzuw  zub jy hztmuk ujshmuk 787.1733206967151\n",
            "iter 10000: ldeuf ilr sfheqqeqh gp hfg mfyx geyfj pt reggeqh sx vfy rergfy pq gvf slqz  lqj pt vlmeqh qpgveqh 787.1733206967151\n",
            "iter 11000: nzjwh snb dhrjeejer fx rhf mhuc fjuhl xq bjffjer dc ihu bjbfhu xe fih dneo  nel xq inmjer exfijer 787.1733206967151\n",
            "iter 12000: zabve mzj herbyybyr oc reo xetf obteu cl jboobyr hf iet jbjoet cy oie hzyq  zyu cl izxbyr ycoibyr 801.583178707791\n",
            "iter 13000: exkya meh talkuukul rq lar iang rknaz qb hkrrkul tg can hkhran qu rca teuj  euz qb ceikul uqrckul 801.583178707791\n",
            "iter 14000: ystbo eyn movtlltlv rx vor aojk rtjoq xh ntrrtlv mk coj ntnroj xl rco mylp  ylq xh cyatlv lxrctlv 801.583178707791\n",
            "iter 15000: cjepr tci hrxezzezx mg xrm nrdv medro gu iemmezx hv yrd ieimrd gz myr hczl  czo gu ycnezx zgmyezx 801.583178707791\n",
            "iter 16000: wanbv iwh yvlnccncl rd lvr pvks rnkvz df hnrrncl ys ovk hnhrvk dc rov ywcg  wcz df owpncl cdroncl 801.583178707791\n",
            "iter 17000: jdfxw ijy nwpfqqfqp kv pwk hwrb kfrwu vm yfkkfqp nb cwr yfykwr vq kcw njqo  jqu vm cjhfqp qvkcfqp 801.583178707791\n",
            "iter 18000: dxmjh kds rhtmbbmbt yu thy ghfq ymfhp ul smyymbt rq chf smsyhf ub ych rdbw  dbp ul cdgmbt buycmbt 829.674471213172\n",
            "iter 19000: fmlhi vfb xidljjljd ry dir pisw rlsin yk blrrljd xw uis blbris yj rui xfjq  fjn yk ufpljd jyruljd 829.674471213172\n",
            "iter 20000: dyqtg jdp ugoqrrqro bk ogb lgei bqegf ks pqbbqro ui nge pqpbge kr bng udrw  drf ks ndlqro rkbnqro 829.674471213172\n",
            "iter 21000: hyrzw ths ewprllrlp fb pwf cwxg frxwu bd srffrlp eg nwx srsfwx bl fnw ehlv  hlu bd nhcrlp lbfnrlp 829.674471213172\n",
            "iter 22000: lcixj wlb fjpikkikp uh pju djzm uizjs hg biuuikp fm yjz bibujz hk uyj flkv  lks hg yldikp khuyikp 829.674471213172\n",
            "iter 23000: merdk ymn bktrvvrvt wq tkw hkgf wrgkl qj nrwwrvt bf ikg nrnwkg qv wik bmvz  mvl qj imhrvt vqwirvt 829.674471213172\n",
            "iter 24000: bxjsk obz gkmjwwjwm ut mku dkie ujikq tr zjuujwm ge yki zjzuki tw uyk gbwa  bwq tr ybdjwm wtuyjwm 829.674471213172\n",
            "iter 25000: taylj qtr gjeynnyne ms ejm djop myojc sz rymmyne gp kjo ryrmjo sn mkj gtnx  tnc sz ktdyne nsmkyne 829.674471213172\n",
            "iter 26000: ghobs zgf isxollolx qk xsq dstr qotsy ke foqqolx ir ust fofqst kl qus iglm  gly ke ugdolx lkquolx 829.674471213172\n",
            "iter 27000: psnhz vpt wzanmmnma ld azl xzuo lnuzb dr tnllnma wo kzu tntlzu dm lkz wpmg  pmb dr kpxnma mdlknma 829.674471213172\n",
            "iter 28000: zyaex czd ixgawwawg jp gxj rxtk jatxf pn dajjawg ik qxt dadjxt pw jqx izwm  zwf pn qzrawg wpjqawg 829.674471213172\n",
            "iter 29000: smyuz isk czqyttytq ae qza wzgf aygzl ev kyaaytq cf rzg kykazg et arz cstp  stl ev rswytq tearytq 829.674471213172\n",
            "iter 30000: zdjfk wzb pkejggjge cq ekc ukym cjyka qs bjccjge pm lky bjbcky qg clk pzgt  zga qs lzujge gqcljge 829.674471213172\n",
            "iter 31000: timvj otb cjnmffmfn zs njz xjrw zmrja sg bmzzmfn cw djr bmbzjr sf zdj ctfp  tfa sg dtxmfn fszdmfn 829.674471213172\n",
            "iter 32000: bxyeq wbs lqfyiiyif vk fqv gqmd vymqc kh syvvyif ld rqm sysvqm ki vrq lbip  bic kh rbgyif ikvryif 829.674471213172\n",
            "iter 33000: chgrx fcw oxsgnngns zi sxz txdq zgdxa il wgzzgns oq jxd wgwzxd in zjx ocny  cna il jctgns nizjgns 829.674471213172\n",
            "iter 34000: rlbed vrx ndobggbgo qj odq hdku qbkdm jt xbqqbgo nu sdk xbxqdk jg qsd nrgf  rgm jt srhbgo gjqsbgo 829.674471213172\n",
            "iter 35000: cimuz bcy ozqmkkmkq nv qzn dzhs nmhzr vf ymnnmkq os ezh ymynzh vk nez ockg  ckr vf ecdmkq kvnemkq 829.674471213172\n",
            "iter 36000: jcpxb zjr fbopnnpno uv obu gbym upybi vs rpuupno fm wby rpruby vn uwb fjnk  jni vs wjgpno nvuwpno 829.674471213172\n",
            "iter 37000: inymx zig sxlyooyol jt lxj pxch jycxe tb gyjjyol sh kxc gygjxc to jkx sior  ioe tb kipyol otjkyol 829.674471213172\n",
            "iter 38000: korlp ckx mptreeret ys tpy jpgw yrgph sz xryyret mw bpg xrxypg se ybp mkeq  keh sz bkjret esybret 829.674471213172\n",
            "iter 39000: tgzna jti haqzcczcq md qam varb mzray dp izmmzcq hb uar izimar dc mua htcx  tcy dp utvzcq cdmuzcq 829.674471213172\n",
            "iter 40000: gfmnv egk bvimxxmxi lu ivl svpr lmpvo uc kmllmxi br jvp kmklvp ux ljv bgxq  gxo uc jgsmxi xuljmxi 829.674471213172\n",
            "iter 41000: hsbcf jha wfrbuubur gm rfg pfnt gbnfz mo abggbur wt xfn abagfn mu gxf whud  huz mo xhpbur umgxbur 829.674471213172\n",
            "iter 42000: cudsr bcq wredttdte hz erh grpo hdpry zx qdhhdte wo krp qdqhrp zt hkr wctv  cty zx kcgdte tzhkdte 829.674471213172\n",
            "iter 43000: yaonm ryx jmcoeeoec uz cmu tmhp uohmv zb xouuoec jp imh xoxumh ze uim jyes  yev zb iytoec ezuioec 829.674471213172\n",
            "iter 44000: agqwh iac thjqffqfj ux jhu nhkd uqkhz xv cquuqfj td bhk cqcuhk xf ubh tafm  afz xv banqfj fxubqfj 829.674471213172\n",
            "iter 45000: fqvlo nfm hoavkkvka ez aoe wopy evpoj zr mveevka hy xop mvmeop zk exo hfks  fkj zr xfwvka kzexvka 829.674471213172\n",
            "iter 46000: xeczh fxv shacnncna ok aho rhwj ocwht kp vcoocna sj yhw vcvohw kn oyh sxnl  xnt kp yxrcna nkoycna 829.674471213172\n",
            "iter 47000: xljvz exs czyjddjdy ri yzr qzho rjhzm it sjrrjdy co gzh sjsrzh id rgz cxdk  xdm it gxqjdy dirgjdy 829.674471213172\n",
            "iter 48000: wgdcn vwu pnbdeedeb zk bnz lnax zdant km udzzdeb px qna uduzna ke zqn pwey  wet km qwldeb ekzqdeb 829.674471213172\n",
            "iter 49000: pyumw hpa ewruzzuzr kd rwk xwto kutwi db aukkuzr eo gwt auakwt dz kgw epzn  pzi db gpxuzr zdkguzr 829.674471213172\n",
            "iter 50000: cgufv rck ivsuhhuhs xa svx mvel xuevb az kuxxuhs il nve kukxve ah xnv icho  chb az ncmuhs haxnuhs 829.674471213172\n",
            "iter 51000: ayrkd iav fdlrpprpl ne ldn bdgt nrgdq eu vrnnrpl ft mdg vrvndg ep nmd fapo  apq eu mabrpl penmrpl 829.674471213172\n",
            "iter 52000: ocwak zop vkmwsswsm jt mkj qkxd jwxkl ty pwjjwsm vd gkx pwpjkx ts jgk vosb  osl ty goqwsm stjgwsm 829.674471213172\n",
            "iter 53000: vwnaq lvd mqznppnpz cf zqc rqye cnyqg fk dnccnpz me iqy dndcqy fp ciq mvpo  vpg fk ivrnpz pfcinpz 829.674471213172\n",
            "iter 54000: byskd zbl gdosnnsno iu odi qdxv isxde um lsiisno gv rdx lslidx un ird gbna  bne um rbqsno nuirsno 829.674471213172\n",
            "iter 55000: myzve bma oetzxxzxt qn teq sewd qzweh nl azqqzxt od iew azaqew nx qie omxf  mxh nl imszxt xnqizxt 829.674471213172\n",
            "iter 56000: doimc wdh ncrillilr qv rcq jcfp qifck ve hiqqilr np ucf hihqcf vl quc ndls  dlk ve udjilr lvquilr 829.674471213172\n",
            "iter 57000: iprjx aiy dxnrffrfn uq nxu lxse ursxm qv yruurfn de bxs yryuxs qf ubx difg  ifm qv bilrfn fqubrfn 829.674471213172\n",
            "iter 58000: xbcnp zxw mpycsscsy ta ypt oprh tcrpv ag wcttcsy mh ipr wcwtpr as tip mxsd  xsv ag ixocsy saticsy 829.674471213172\n",
            "iter 59000: bvpwa mbi oatpkkpkt fd taf hajr fpjan dy ipffpkt or gaj ipifaj dk fga obkl  bkn dy gbhpkt kdfgpkt 829.674471213172\n",
            "iter 60000: edvfl aem jlivhhvhi cn ilc glts cvtlb np mvccvhi js qlt mvmclt nh cql jehy  ehb np qegvhi hncqvhi 829.674471213172\n",
            "iter 61000: tbywu jtd guvyooyov xs vux qupn xypul sc dyxxyov gn eup dydxup so xeu gtoi  tol sc etqyov osxeyov 829.674471213172\n",
            "iter 62000: tyepv htr avuennenu of uvo jvzq oezvb fm reooenu aq cvz rerovz fn ocv atnd  tnb fm ctjenu nfocenu 829.674471213172\n",
            "iter 63000: elksz yer gzdkqqkqd ob dzo xzmu okmzv bj rkookqd gu nzm rkrozm bq onz geqh  eqv bj nexkqd qbonkqd 829.674471213172\n",
            "iter 64000: xoyvw axl swhybbybh tf hwt ewjc tyjwr fu lyttybh sc kwj lyltwj fb tkw sxbn  xbr fu kxeybh bftkybh 829.674471213172\n",
            "iter 65000: vnpir kvw zrtpggpgt mh trm crla mplrs hx wpmmpgt za qrl wpwmrl hg mqr zvgd  vgs hx qvcpgt ghmqpgt 829.674471213172\n",
            "iter 66000: uywol vuz algwnnwng ci glc qlpk cwpld ir zwccwng ak blp zwzclp in cbl aunh  und ir buqwng nicbwng 829.674471213172\n",
            "iter 67000: ughlv mup jvbhiihib cz bvc evtk chtvq zy phcchib jk ovt phpcvt zi cov juin  uiq zy ouehib izcohib 829.674471213172\n",
            "iter 68000: oitrs lok wsftzztzf hu fsh vsap htasm ug kthhtzf wp esa ktkhsa uz hes wozy  ozm ug eovtzf zuhetzf 829.674471213172\n",
            "iter 69000: busrd obw edksvvsvk mi kdm hdgn msgdl ia wsmmsvk en ydg wswmdg iv myd ebvp  bvl ia ybhsvk vimysvk 829.674471213172\n",
            "iter 70000: fliue wfo bexivvivx kg xek hedz kidey gm oikkivx bz ned oioked gv kne bfva  fvy gm nfhivx vgknivx 829.674471213172\n",
            "iter 71000: rwoly trq nyxoeeoex sz xys dygu sogyh za qossoex nu fyg qoqsyg ze sfy nrek  reh za frdoex ezsfoex 829.674471213172\n",
            "iter 72000: fimay vfx nykmttmtk zb kyz hylq zmlye bp xmzzmtk nq ryl xmxzyl bt zry nftj  fte bp rfhmtk tbzrmtk 829.674471213172\n",
            "iter 73000: jnakz mjx tzlauuaul yo lzy ezph yapzg oi xayyaul th wzp xaxyzp ou ywz tjus  jug oi wjeaul uoywaul 829.674471213172\n",
            "iter 74000: adlue kaq seilmmlmi nv ien oety nltec vj qlnnlmi sy het qlqnet vm nhe samp  amc vj haolmi mvnhlmi 829.674471213172\n",
            "iter 75000: szifh ksg qhoiddido nr ohn mhxe nixha rl ginnido qe chx gignhx rd nch qsdb  sda rl csmido drncido 829.674471213172\n",
            "iter 76000: pzinq tpj kqdissisd wr dqw lquo wiuqx rc jiwwisd ko yqu jijwqu rs wyq kpsh  psx rc yplisd srwyisd 829.674471213172\n",
            "iter 77000: dgikm zdq umpissisp ja pmj hmev jiemy ac qijjisp uv xme qiqjme as jxm udsb  dsy ac xdhisp sajxisp 829.674471213172\n",
            "iter 78000: rsnml erq blknzznzk ch klc yluo cnulj hi qnccnzk bo wlu qnqclu hz cwl brzg  rzj hi wrynzk zhcwnzk 829.674471213172\n",
            "iter 79000: sntqz lsi mzdtkktkd ac dza pzhu athzf cg itaatkd mu ezh itiazh ck aez mskj  skf cg esptkd kcaetkd 829.674471213172\n",
            "iter 80000: ephwy jex zydhaahad oc dyo lymv ohmyt cb xhoohad zv iym xhxoym ca oiy zeaf  eat cb ielhad acoihad 829.674471213172\n",
            "iter 81000: prtoj gpl hjstfftfs mn sjm ejbv mtbju ny ltmmtfs hv zjb ltlmjb nf mzj hpfi  pfu ny zpetfs fnmztfs 829.674471213172\n",
            "iter 82000: ctjoq ycw nqljaajal vg lqv eqdm vjdqu gz wjvvjal nm xqd wjwvqd ga vxq ncar  cau gz xcejal agvxjal 829.674471213172\n",
            "iter 83000: xhmfj wxb njcmeemec iy cji ajqp imqjz yg bmiimec np kjq bmbijq ye ikj nxes  xez yg kxamec eyikmec 829.674471213172\n",
            "iter 84000: lnyjz dlf vziyttyti ar iza kzhp ayhzs rm fyaayti vp gzh fyfazh rt agz vltw  lts rm glkyti tragyti 829.674471213172\n",
            "iter 85000: wnhjq cwa uqzhyyhyz fb zqf rqog fhoqd bl ahffhyz ug vqo ahafqo by fvq uwys  wyd bl vwrhyz ybfvhyz 829.674471213172\n",
            "iter 86000: ekdqn xeb tnfdmmdmf zo fnz pnaj zdanh ou bdzzdmf tj yna bdbzna om zyn temw  emh ou yepdmf mozydmf 829.674471213172\n",
            "iter 87000: bkxtv wbl dvyxuuxuy jp yvj hvcg jxcve pa lxjjxuy dg svc lxljvc pu jsv dbun  bue pa sbhxuy upjsxuy 829.674471213172\n",
            "iter 88000: tsuig htq ngruoouor lm rgl vgcf lucgy mz qulluor nf agc quqlgc mo lag ntop  toy mz atvuor omlauor 829.674471213172\n",
            "iter 89000: lvkfq plc yqwkuukuw eb wqe gqsh eksqz bm ckeekuw yh xqs ckceqs bu exq yluj  luz bm xlgkuw ubexkuw 829.674471213172\n",
            "iter 90000: eritv neq lvjiuuiuj mz jvm ovyk miyvw zp qimmiuj lk hvy qiqmvy zu mhv leus  euw zp heoiuj uzmhiuj 829.674471213172\n",
            "iter 91000: pouqg vpe dgmuttutm hj mgh ngcr hucgb jk euhhutm dr wgc euehgc jt hwg dptx  ptb jk wpnutm tjhwutm 829.674471213172\n",
            "iter 92000: acqyd vat jdgqppqpg rf gdr hdkz rqkdl fw tqrrqpg jz edk tqtrdk fp red japi  apl fw eahqpg pfreqpg 829.674471213172\n",
            "iter 93000: ofnqw jor dwknllnlk va kwv hwbe vnbwx ag rnvvnlk de zwb rnrvwb al vzw doli  olx ag zohnlk lavznlk 829.674471213172\n",
            "iter 94000: fvjsp ifr zpljuujul ty lpt kpgw tjgpo yx rjttjul zw npg rjrtpg yu tnp zfub  fuo yx nfkjul uytnjul 829.674471213172\n",
            "iter 95000: fpwhs zfk bsrwqqwqr uc rsu vsgd uwgsy co kwuuwqr bd lsg kwkusg cq uls bfqe  fqy co lfvwqr qculwqr 829.674471213172\n",
            "iter 96000: fblqk pfc akilnnlni vy ikv gkdj vldkw ym clvvlni aj tkd clcvkd yn vtk afnh  fnw ym tfglni nyvtlni 829.674471213172\n",
            "iter 97000: lihrt qly ftxhaahax mu xtm gtec mhetk ud yhmmhax fc ote yhymte ua mot flap  lak ud olghax aumohax 829.674471213172\n",
            "iter 98000: govru sga tuzvwwvwz db zud mupn dvpuy bj avddvwz tn iup avadup bw diu tgwl  gwy bj igmvwz wbdivwz 829.674471213172\n",
            "iter 99000: hmocf yhz bfxovvovx gk xfg ufsj gosfn ka zoggovx bj ifs zozgfs kv gif bhvr  hvn ka ihuovx vkgiovx 829.674471213172\n",
            "iter 100000: yzdon jya fnmdxxdxm vg mnv pnlt vdlnh gi advvdxm ft snl adavnl gx vsn fyxr  yxh gi sypdxm xgvsdxm 829.674471213172\n",
            "\n",
            "Decoded Text: yzdon jya fnmdxxdxm vg mnv pnlt vdlnh gi advvdxm ft snl adavnl gx vsn fyxr  yxh gi sypdxm xgvsdxm\n",
            "\n",
            "MCMC KEY  : dnohsmbywlceprkqfaitujgzxv\n",
            "ACTual KEY: iecdhgxajrmqvkpzbsfyuwolnt\n"
          ]
        }
      ],
      "source": [
        "decrypt_cipher0 = decrypting(observed_frequences, empirical_frequences, 100000, m, 1, 345, 1000)\n",
        "\n",
        "print(\n",
        "    f\"\\nDecoded Text: {decode_text(apply_cipher(cipher_text, decrypt_cipher0), characters)}\\n\\n\"\n",
        "    f\"MCMC KEY  : {''.join(characters_array[decrypt_cipher0[1:]-1])}\\n\"\n",
        "    f\"ACTual KEY: {decryption_key}\"\n",
        ")"
      ]
    },
    {
      "cell_type": "markdown",
      "source": [
        "As we can see here, the score stopped and don'tincrease any more. But the text doesn't look like normal englosh text. I tried to improve it, but was despaired. So I used code from towardsDataScience web site. "
      ],
      "metadata": {
        "id": "vaT-KoXVeGFD"
      }
    },
    {
      "cell_type": "code",
      "source": [
        "\n",
        "import string\n",
        "import math\n",
        "import random\n",
        "\n",
        "def create_cipher_dict(cipher):\n",
        "    cipher_dict = {}\n",
        "    alphabet_list = list(string.ascii_uppercase)\n",
        "    for i in range(len(cipher)):\n",
        "        cipher_dict[alphabet_list[i]] = cipher[i]\n",
        "    return cipher_dict\n",
        "\n",
        "# This function takes a text and applies the cipher/key on the text and returns text.\n",
        "def apply_cipher_on_text(text,cipher):\n",
        "    cipher_dict = create_cipher_dict(cipher) \n",
        "    text = list(text)\n",
        "    newtext = \"\"\n",
        "    for elem in text:\n",
        "        if elem.upper() in cipher_dict:\n",
        "            newtext+=cipher_dict[elem.upper()]\n",
        "        else:\n",
        "            newtext+=\" \"\n",
        "    return newtext"
      ],
      "metadata": {
        "id": "a8nFPvoZjB7L"
      },
      "execution_count": 438,
      "outputs": []
    },
    {
      "cell_type": "code",
      "source": [
        "# This function takes as input a path to a long text and creates scoring_params dict which contains the \n",
        "# number of time each pair of alphabet appears together\n",
        "# Ex. {'AB':234,'TH':2343,'CD':23 ..}\n",
        "def create_scoring_params_dict(longtext_path):\n",
        "    scoring_params = {}\n",
        "    alphabet_list = list(string.ascii_uppercase)\n",
        "    with open(longtext_path) as fp:\n",
        "        for line in fp:\n",
        "            data = list(line.strip())\n",
        "            for i in range(len(data)-1):\n",
        "                alpha_i = data[i].upper()\n",
        "                alpha_j = data[i+1].upper()\n",
        "                if alpha_i not in alphabet_list and alpha_i != \" \":\n",
        "                    alpha_i = \" \"\n",
        "                if alpha_j not in alphabet_list and alpha_j != \" \":\n",
        "                    alpha_j = \" \"\n",
        "                key = alpha_i+alpha_j\n",
        "                if key in scoring_params:\n",
        "                    scoring_params[key]+=1\n",
        "                else:\n",
        "                    scoring_params[key]=1\n",
        "    return scoring_params\n",
        "\n",
        "# This function takes as input a text and creates scoring_params dict which contains the \n",
        "# number of time each pair of alphabet appears together\n",
        "# Ex. {'AB':234,'TH':2343,'CD':23 ..}\n",
        "\n",
        "def score_params_on_cipher(text):\n",
        "    scoring_params = {}\n",
        "    alphabet_list = list(string.ascii_uppercase)\n",
        "    data = list(text.strip())\n",
        "    for i in range(len(data)-1):\n",
        "        alpha_i =data[i].upper()\n",
        "        alpha_j = data[i+1].upper()\n",
        "        if alpha_i not in alphabet_list and alpha_i != \" \":\n",
        "            alpha_i = \" \"\n",
        "        if alpha_j not in alphabet_list and alpha_j != \" \":\n",
        "            alpha_j = \" \"\n",
        "        key = alpha_i+alpha_j\n",
        "        if key in scoring_params:\n",
        "            scoring_params[key]+=1\n",
        "        else:\n",
        "            scoring_params[key]=1\n",
        "    return scoring_params\n",
        "\n",
        "# This function takes the text to be decrypted and a cipher to score the cipher.\n",
        "# This function returns the log(score) metric\n",
        "\n",
        "def get_cipher_score(text,cipher,scoring_params):\n",
        "    cipher_dict = create_cipher_dict(cipher)\n",
        "    decrypted_text = apply_cipher_on_text(text,cipher)\n",
        "    scored_f = score_params_on_cipher(decrypted_text)\n",
        "    #print(scored_f['EE'])\n",
        "    cipher_score = 0\n",
        "    for k,v in scored_f.items():\n",
        "        if k in scoring_params:\n",
        "            cipher_score += v*math.log(scoring_params[k])\n",
        "    return cipher_score"
      ],
      "metadata": {
        "id": "j0hRAxFwjDuW"
      },
      "execution_count": 439,
      "outputs": []
    },
    {
      "cell_type": "code",
      "source": [
        "# Generate a proposal cipher by swapping letters at two random location\n",
        "def generate_cipher(cipher, size = 2):\n",
        "    pos1 = [random.randint(0, len(list(cipher))-1) for i in range(size)]\n",
        "    pos2 = [random.randint(0, len(list(cipher))-1) for i in range(size)]\n",
        "    for i in range(size):\n",
        "      if pos1[i] != pos2[i]:\n",
        "        cipher = list(cipher)\n",
        "        pos1_alpha = cipher[pos1[i]]\n",
        "        pos2_alpha = cipher[pos2[i]]\n",
        "        cipher[pos1[i]] = pos2_alpha\n",
        "        cipher[pos2[i]] = pos1_alpha\n",
        "    return \"\".join(cipher)\n",
        "\n",
        "# Toss a random coin with robability of head p. If coin comes head return true else false.\n",
        "def random_coin(p):\n",
        "    unif = random.uniform(0,1)\n",
        "    if unif>=p:\n",
        "        return False\n",
        "    else:\n",
        "        return True"
      ],
      "metadata": {
        "id": "2-hg_W-ojWzE"
      },
      "execution_count": 446,
      "outputs": []
    },
    {
      "cell_type": "code",
      "source": [
        "# Takes as input a text to decrypt and runs a MCMC algorithm for n_iter. Returns the state having maximum score and also\n",
        "# the last few states \n",
        "def MCMC_decrypt(n_iter,cipher_text,scoring_params, size = 2):\n",
        "    current_cipher = string.ascii_uppercase # Generate a random cipher to start\n",
        "    state_keeper = list()\n",
        "    best_state = ''\n",
        "    score = 0\n",
        "    scores = []\n",
        "    for i in range(n_iter):\n",
        "        \n",
        "        proposed_cipher = generate_cipher(current_cipher, size = size)\n",
        "        score_current_cipher = get_cipher_score(cipher_text,current_cipher,scoring_params)\n",
        "        score_proposed_cipher = get_cipher_score(cipher_text,proposed_cipher,scoring_params)\n",
        "        acceptance_probability = min(1,math.exp(score_proposed_cipher-score_current_cipher))\n",
        "        if score_current_cipher>score:\n",
        "            best_state = current_cipher\n",
        "            score = score_current_cipher\n",
        "        if random_coin(acceptance_probability):\n",
        "            current_cipher = proposed_cipher\n",
        "            scores.append(score_current_cipher)\n",
        "            state_keeper.append(current_cipher)\n",
        "        if i%500==0:\n",
        "            print(\"iter\",i,\":\",apply_cipher_on_text(cipher_text,current_cipher)[0:99], score_current_cipher)\n",
        "    return state_keeper, best_state,scores"
      ],
      "metadata": {
        "id": "GqfLwcgQjcMx"
      },
      "execution_count": 459,
      "outputs": []
    },
    {
      "cell_type": "code",
      "source": [
        "cipher_text = apply_cipher_on_text(plain_text[0:99],encryption_key)\n",
        "\n",
        "\n",
        "scoring_params = create_scoring_params_dict('war_and_peace.txt')\n",
        "print(\"Text To Decode:\", cipher_text)\n",
        "print(\"\\n\")\n",
        "states,best_state,scores = MCMC_decrypt(80000,cipher_text,scoring_params, size=2)\n",
        "print(\"\\n\")\n",
        "print(\"Decoded Text:\",apply_cipher_on_text(cipher_text,best_state))\n",
        "print(\"\\n\")\n",
        "print(\"MCMC KEY FOUND:\",best_state)\n",
        "print(\"ACTUAL DECRYPTION KEY:\",decryption_key)"
      ],
      "metadata": {
        "colab": {
          "base_uri": "https://localhost:8080/"
        },
        "id": "y0h7jq-Tjgkt",
        "outputId": "d1c6e09a-0273-4b45-8994-31866b6afb35"
      },
      "execution_count": 469,
      "outputs": [
        {
          "output_type": "stream",
          "name": "stdout",
          "text": [
            "Text To Decode:  hxacb vhr qbfayyayf zw fbz mbjt zajbd ws razzayf qt ebj rarzbj wy zeb qhyn  hyd ws ehmayf ywzeayf \n",
            "\n",
            "\n",
            "iter 0 :  HNACB VHR QBIAYYAYI ZW IBZ MBJT ZAJBD WS RAZZAYI QT EBJ RARZBJ WY ZEB QHYX  HYD WS EHMAYI YWZEAYI  599.2666090733626\n",
            "iter 500 :  AVEWI PAL BIOESSESO TR OIT GINM TENID RY LETTESO BM HIN LELTIN RS THI BASK  ASD RY HAGESO SRTHESO  901.4725016559688\n",
            "iter 1000 :  ACEMI PAS WIYERRERY TO YIT VINL TENID OU SETTERY WL HIN SESTIN OR THI WARG  ARD OU HAVERY ROTHERY  926.2882578642469\n",
            "iter 1500 :  ABEXI FAP WISERRERS TO SIT CINL TENID OU PETTERS WL HIN PEPTIN OR THI WARY  ARD OU HACERS ROTHERS  933.0119930741132\n",
            "iter 2000 :  IVECA FIN WASERRERS TO SAT MALY TELAD OU NETTERS WY HAL NENTAL OR THA WIRK  IRD OU HIMERS ROTHERS  938.3889415177712\n",
            "iter 2500 :  IKECA BIN WASERRERS TO SAT MALY TELAD OF NETTERS WY HAL NENTAL OR THA WIRG  IRD OF HIMERS ROTHERS  939.3827162528382\n",
            "iter 3000 :  IMECA KIR WASENNENS TO SAT PALY TELAG OF RETTENS WY HAL RERTAL ON THA WIND  ING OF HIPENS NOTHENS  938.3608578526217\n",
            "iter 3500 :  ICAYE BIR WEDANNAND TO DET MELS TALEG OU RATTAND WS HEL RARTEL ON THE WINV  ING OU HIMAND NOTHAND  940.5330418685922\n",
            "iter 4000 :  AKIBE MAS WEDINNIND TO DET VERY TIREG OU SITTIND WY HER SISTER ON THE WANF  ANG OU HAVIND NOTHIND  951.760440964987\n",
            "iter 4500 :  AWICE MAS BEDINNIND TO DET UERY TIREG OF SITTIND BY HER SISTER ON THE BANK  ANG OF HAUIND NOTHIND  954.6776505483765\n",
            "iter 5000 :  APILE WAS BEDINNIND TO DET MERY TIREG OF SITTIND BY HER SISTER ON THE BANV  ANG OF HAMIND NOTHIND  959.552438886601\n",
            "iter 5500 :  APICE WAS LEDINNIND TO DET BERY TIREG OF SITTIND LY HER SISTER ON THE LANV  ANG OF HABIND NOTHIND  958.2362554787318\n",
            "iter 6000 :  APICE WAS LEDINNIND TO DET VERY TIREG OF SITTIND LY HER SISTER ON THE LANM  ANG OF HAVIND NOTHIND  958.2571582984041\n",
            "iter 6500 :  AVIUE WAS MEDINNIND TO DET PERY TIREL OF SITTIND MY HER SISTER ON THE MANG  ANL OF HAPIND NOTHIND  956.6094257009194\n",
            "iter 7000 :  AKIBE WAS MEDINNIND TO DET PERY TIREL OF SITTIND MY HER SISTER ON THE MANG  ANL OF HAPIND NOTHIND  959.8121763363501\n",
            "iter 7500 :  AVIME WAS CEDINNIND TO DET PERY TIREL OF SITTIND CY HER SISTER ON THE CANG  ANL OF HAPIND NOTHIND  960.5580629075681\n",
            "iter 8000 :  AUIME WAS BEDINNIND TO DET PERY TIREL OF SITTIND BY HER SISTER ON THE BANG  ANL OF HAPIND NOTHIND  960.8094337154823\n",
            "iter 8500 :  AFIVE WAS BEDINNIND TO DET CERY TIREL OU SITTIND BY HER SISTER ON THE BANG  ANL OU HACIND NOTHIND  958.3744270413325\n",
            "iter 9000 :  AVIME WAS BEDINNIND TO DET CERY TIREL OF SITTIND BY HER SISTER ON THE BANG  ANL OF HACIND NOTHIND  962.9000205039301\n",
            "iter 9500 :  AKIME WAS BEDINNIND TO DET PERY TIREG OF SITTIND BY HER SISTER ON THE BANL  ANG OF HAPIND NOTHIND  960.4527355065674\n",
            "iter 10000 :  ACIME WAS BEDINNIND TO DET PERY TIREG OF SITTIND BY HER SISTER ON THE BANL  ANG OF HAPIND NOTHIND  961.1786045329965\n",
            "iter 10500 :  AVIME WAS BEDINNIND TO DET CERY TIREG OF SITTIND BY HER SISTER ON THE BANL  ANG OF HACIND NOTHIND  961.857935439198\n",
            "iter 11000 :  AMIVE WAS BEDINNIND TO DET LERY TIREF OU SITTIND BY HER SISTER ON THE BANG  ANF OU HALIND NOTHIND  960.1130585920208\n",
            "iter 11500 :  ALICE WAS MEDINNIND TO DET BERY TIREF OU SITTIND MY HER SISTER ON THE MANG  ANF OU HABIND NOTHIND  959.802605263781\n",
            "iter 12000 :  ALICE VAS MEDINNIND TO DET PERY TIREF OU SITTIND MY HER SISTER ON THE MANG  ANF OU HAPIND NOTHIND  956.7004384036504\n",
            "iter 12500 :  ALICE BAS MEDINNIND TO DET PERY TIREF OU SITTIND MY HER SISTER ON THE MANG  ANF OU HAPIND NOTHIND  959.0534225176748\n",
            "iter 13000 :  AWICE PAS LEDINNIND TO DET MERY TIREG OF SITTIND LY HER SISTER ON THE LANU  ANG OF HAMIND NOTHIND  959.0701299764677\n",
            "iter 13500 :  AKIBE WAS LEDINNIND TO DET MERY TIREG OF SITTIND LY HER SISTER ON THE LANV  ANG OF HAMIND NOTHIND  957.3770414605543\n",
            "iter 14000 :  AKIBE WAS MEDINNIND TO DET LERY TIREG OF SITTIND MY HER SISTER ON THE MANV  ANG OF HALIND NOTHIND  958.6397483516358\n",
            "iter 14500 :  APIKE WAS MEDINNIND TO DET LERY TIREG OF SITTIND MY HER SISTER ON THE MANC  ANG OF HALIND NOTHIND  959.6106005010741\n",
            "iter 15000 :  APIBE CAS MEDINNIND TO DET LERY TIREG OF SITTIND MY HER SISTER ON THE MANV  ANG OF HALIND NOTHIND  958.1443251255758\n",
            "iter 15500 :  ALIBE WAS MEDINNIND TO DET PERY TIREG OF SITTIND MY HER SISTER ON THE MANC  ANG OF HAPIND NOTHIND  959.8984945084236\n",
            "iter 16000 :  AUICE FAS PEDINNIND TO DET LERY TIREG OW SITTIND PY HER SISTER ON THE PANK  ANG OW HALIND NOTHIND  953.1340296640458\n",
            "iter 16500 :  AVICE FAS BEDINNIND TO DET WERY TIREG OM SITTIND BY HER SISTER ON THE BANL  ANG OM HAWIND NOTHIND  958.4372699501686\n",
            "iter 17000 :  AVICE PAS BEDINNIND TO DET WERY TIREL OM SITTIND BY HER SISTER ON THE BANG  ANL OM HAWIND NOTHIND  959.5110530745369\n",
            "iter 17500 :  AKIME WAS BEDINNIND TO DET VERY TIREG OF SITTIND BY HER SISTER ON THE BANL  ANG OF HAVIND NOTHIND  959.6453784761849\n",
            "iter 18000 :  ALICE WAS MEDINNIND TO DET BERY TIREG OF SITTIND MY HER SISTER ON THE MANK  ANG OF HABIND NOTHIND  961.1605185760342\n",
            "iter 18500 :  AWILE PAS MEDINNIND TO DET BERY TIREG OF SITTIND MY HER SISTER ON THE MANK  ANG OF HABIND NOTHIND  957.7863735500574\n",
            "iter 19000 :  AWIVE PAS MEDINNIND TO DET CERY TIREG OF SITTIND MY HER SISTER ON THE MANL  ANG OF HACIND NOTHIND  959.5869826706931\n",
            "iter 19500 :  AWIVE CAS MEDINNIND TO DET LERY TIREK OF SITTIND MY HER SISTER ON THE MANG  ANK OF HALIND NOTHIND  957.1758827818334\n",
            "iter 20000 :  AKIPE WAS MEDINNIND TO DET CERY TIREV OF SITTIND MY HER SISTER ON THE MANG  ANV OF HACIND NOTHIND  954.9037844726863\n",
            "iter 20500 :  APIVE WAS LEDINNIND TO DET CERY TIREF OK SITTIND LY HER SISTER ON THE LANG  ANF OK HACIND NOTHIND  955.4895737197813\n",
            "iter 21000 :  AKIME PAS LEDINNIND TO DET CERY TIREF OU SITTIND LY HER SISTER ON THE LANG  ANF OU HACIND NOTHIND  957.3982011144034\n",
            "iter 21500 :  ALICE WAS BEDINNIND TO DET MERY TIREF OU SITTIND BY HER SISTER ON THE BANG  ANF OU HAMIND NOTHIND  961.1417486755631\n",
            "iter 22000 :  ALICE PAS MEDINNIND TO DET WERY TIREF OU SITTIND MY HER SISTER ON THE MANG  ANF OU HAWIND NOTHIND  959.9509938914961\n",
            "iter 22500 :  AWIVE PAS MEDINNIND TO DET LERY TIREF OU SITTIND MY HER SISTER ON THE MANG  ANF OU HALIND NOTHIND  958.8552022850889\n",
            "iter 23000 :  ACIME WAS BEDINNIND TO DET LERY TIREF OU SITTIND BY HER SISTER ON THE BANG  ANF OU HALIND NOTHIND  960.9330128203263\n",
            "iter 23500 :  APIVE WAS BEDINNIND TO DET LERY TIREF OU SITTIND BY HER SISTER ON THE BANG  ANF OU HALIND NOTHIND  959.9288370385102\n",
            "iter 24000 :  AWIME LAS BEDINNIND TO DET KERY TIREF OU SITTIND BY HER SISTER ON THE BANC  ANF OU HAKIND NOTHIND  949.8584518063627\n",
            "iter 24500 :  AMIBE WAS LEDINNIND TO DET VERY TIREF OU SITTIND LY HER SISTER ON THE LANG  ANF OU HAVIND NOTHIND  956.5833422326218\n",
            "iter 25000 :  AUIKE WAS CEDINNIND TO DET PERY TIREL OF SITTIND CY HER SISTER ON THE CANG  ANL OF HAPIND NOTHIND  954.9068930410508\n",
            "iter 25500 :  AUIVE WAS MEDINNIND TO DET LERY TIREP OF SITTIND MY HER SISTER ON THE MANG  ANP OF HALIND NOTHIND  955.6743031793923\n",
            "iter 26000 :  AUILE WAS BEDINNIND TO DET KERM TIREY OF SITTIND BM HER SISTER ON THE BANG  ANY OF HAKIND NOTHIND  952.6732788810776\n",
            "iter 26500 :  APIVE UAL FEDINNIND TO DET WERY TIRES OM LITTIND FY HER LILTER ON THE FANG  ANS OM HAWIND NOTHIND  949.2999058324201\n",
            "iter 27000 :  AUIME BAS CEDINNIND TO DET WERY TIREL OF SITTIND CY HER SISTER ON THE CANG  ANL OF HAWIND NOTHIND  957.9681450602627\n",
            "iter 27500 :  ACIME PAS LEDINNIND TO DET WERY TIREG OF SITTIND LY HER SISTER ON THE LANK  ANG OF HAWIND NOTHIND  959.8374644574309\n",
            "iter 28000 :  APILE WAS CEDINNIND TO DET MERY TIREG OF SITTIND CY HER SISTER ON THE CANK  ANG OF HAMIND NOTHIND  958.9393344827382\n",
            "iter 28500 :  ACILE WAS PEDINNIND TO DET BERY TIREG OF SITTIND PY HER SISTER ON THE PANU  ANG OF HABIND NOTHIND  955.1597350862913\n",
            "iter 29000 :  ALICE WAS PEDINNIND TO DET BERY TIREG OF SITTIND PY HER SISTER ON THE PANK  ANG OF HABIND NOTHIND  957.6144968030529\n",
            "iter 29500 :  AWIPE FAS BEDINNIND TO DET CERY TIREG OM SITTIND BY HER SISTER ON THE BANK  ANG OM HACIND NOTHIND  954.0381518924348\n",
            "iter 30000 :  AWICE FAS BEDINNIND TO DET VERY TIREG OM SITTIND BY HER SISTER ON THE BANK  ANG OM HAVIND NOTHIND  955.5087334462711\n",
            "iter 30500 :  AMICE VAS BEDINNIND TO DET LERY TIREG OW SITTIND BY HER SISTER ON THE BANK  ANG OW HALIND NOTHIND  955.3782938858695\n",
            "iter 31000 :  AWICE FAS BEDINNIND TO DET LERY TIREG OM SITTIND BY HER SISTER ON THE BANK  ANG OM HALIND NOTHIND  958.6923853623284\n",
            "iter 31500 :  APICE BAS MEDINNIND TO DET LERY TIREG OF SITTIND MY HER SISTER ON THE MANK  ANG OF HALIND NOTHIND  960.8495325829953\n",
            "iter 32000 :  APICE MAS BEDINNIND TO DET WERY TIREG OF SITTIND BY HER SISTER ON THE BANU  ANG OF HAWIND NOTHIND  958.8791906670518\n",
            "iter 32500 :  APIME BAS WEDINNIND TO DET LERY TIREG OF SITTIND WY HER SISTER ON THE WANU  ANG OF HALIND NOTHIND  958.1163472082945\n",
            "iter 33000 :  APIVE MAS WEDINNIND TO DET LERY TIREG OF SITTIND WY HER SISTER ON THE WANK  ANG OF HALIND NOTHIND  958.5450993152951\n",
            "iter 33500 :  ALIVE MAS WEDINNIND TO DET CERY TIREG OU SITTIND WY HER SISTER ON THE WANK  ANG OU HACIND NOTHIND  956.1772592181011\n",
            "iter 34000 :  AWIVE MAS LEDINNIND TO DET CERY TIREG OF SITTIND LY HER SISTER ON THE LANK  ANG OF HACIND NOTHIND  959.3581409064775\n",
            "iter 34500 :  ALIVE WAS MEDINNIND TO DET PERY TIREG OF SITTIND MY HER SISTER ON THE MANC  ANG OF HAPIND NOTHIND  961.097010197541\n",
            "iter 35000 :  AUICE WAS MEDINNIND TO DET LERY TIREG OF SITTIND MY HER SISTER ON THE MANV  ANG OF HALIND NOTHIND  959.9468971353333\n",
            "iter 35500 :  AMIVE WAS BEDINNIND TO DET CERY TIREG OF SITTIND BY HER SISTER ON THE BANL  ANG OF HACIND NOTHIND  960.844838977625\n",
            "iter 36000 :  AKIME WAS LEDINNIND TO DET PERY TIREG OF SITTIND LY HER SISTER ON THE LANC  ANG OF HAPIND NOTHIND  959.6937183751908\n",
            "iter 36500 :  ACIME WAS BEDINNIND TO DET LERY TIREG OF SITTIND BY HER SISTER ON THE BANU  ANG OF HALIND NOTHIND  961.6166274523894\n",
            "iter 37000 :  ALIBE WAS MEDINNIND TO DET CERY TIREG OF SITTIND MY HER SISTER ON THE MANU  ANG OF HACIND NOTHIND  960.057879592228\n",
            "iter 37500 :  AVIME WAS BEDINNIND TO DET CERY TIREG OF SITTIND BY HER SISTER ON THE BANL  ANG OF HACIND NOTHIND  961.857935439198\n",
            "iter 38000 :  AKIME WAS BEDINNIND TO DET CERY TIREL OF SITTIND BY HER SISTER ON THE BANG  ANL OF HACIND NOTHIND  961.9810092442336\n",
            "iter 38500 :  AKIME WAS BEDINNIND TO DET CERY TIREL OF SITTIND BY HER SISTER ON THE BANG  ANL OF HACIND NOTHIND  961.9810092442336\n",
            "iter 39000 :  AKIME WAS BEDINNIND TO DET CERY TIREL OF SITTIND BY HER SISTER ON THE BANG  ANL OF HACIND NOTHIND  961.9810092442336\n",
            "iter 39500 :  AKICE WAS BEDINNIND TO DET PERY TIREL OF SITTIND BY HER SISTER ON THE BANG  ANL OF HAPIND NOTHIND  961.2087602849596\n",
            "iter 40000 :  APIVE WAS BEDINNIND TO DET MERY TIREL OF SITTIND BY HER SISTER ON THE BANG  ANL OF HAMIND NOTHIND  962.0736022556354\n",
            "iter 40500 :  ACIKE WAS MEDINNIND TO DET PERY TIREL OF SITTIND MY HER SISTER ON THE MANG  ANL OF HAPIND NOTHIND  959.8119546023627\n",
            "iter 41000 :  AKICE BAS MEDINNIND TO DET PERY TIREL OF SITTIND MY HER SISTER ON THE MANG  ANL OF HAPIND NOTHIND  959.977522566794\n",
            "iter 41500 :  ALIVE BAS MEDINNIND TO DET PERY TIREG OF SITTIND MY HER SISTER ON THE MANC  ANG OF HAPIND NOTHIND  959.2698207884702\n",
            "iter 42000 :  APIKE CAS MEDINNIND TO DET LERY TIREG OF SITTIND MY HER SISTER ON THE MANV  ANG OF HALIND NOTHIND  957.4182343651592\n",
            "iter 42500 :  ALIKE CAS MEDINNIND TO DET PERY TIREG OF SITTIND MY HER SISTER ON THE MANV  ANG OF HAPIND NOTHIND  956.980037612092\n",
            "iter 43000 :  AYIVE UAS WEDINNIND TO DET CERL TIREG OM SITTIND WL HER SISTER ON THE WANK  ANG OM HACIND NOTHIND  948.9208887213848\n",
            "iter 43500 :  AVIKE WAS FEDINNIND TO DET CERL TIREY OM SITTIND FL HER SISTER ON THE FANG  ANY OM HACIND NOTHIND  953.7199106788164\n",
            "iter 44000 :  AVIPE BAS WEDINNIND TO DET CERY TIREL OM SITTIND WY HER SISTER ON THE WANG  ANL OM HACIND NOTHIND  954.5865478265516\n",
            "iter 44500 :  ABIVE WAS MEDINNIND TO DET LERY TIREG OF SITTIND MY HER SISTER ON THE MANK  ANG OF HALIND NOTHIND  960.1746202695501\n",
            "iter 45000 :  ALIPE VAS MEDINNIND TO DET WERY TIREG OF SITTIND MY HER SISTER ON THE MANU  ANG OF HAWIND NOTHIND  955.4615954558399\n",
            "iter 45500 :  ALICE WAS MEDINNIND TO DET PERY TIREG OF SITTIND MY HER SISTER ON THE MANU  ANG OF HAPIND NOTHIND  961.5642265588086\n",
            "iter 46000 :  ALIVE WAS MEDINNIND TO DET PERY TIREG OF SITTIND MY HER SISTER ON THE MANK  ANG OF HAPIND NOTHIND  961.4445052886015\n",
            "iter 46500 :  AVILE WAS MEDINNIND TO DET PERY TIREG OF SITTIND MY HER SISTER ON THE MANK  ANG OF HAPIND NOTHIND  960.6512044356949\n",
            "iter 47000 :  AVICE WAS MEDINNIND TO DET PERY TIREG OF SITTIND MY HER SISTER ON THE MANK  ANG OF HAPIND NOTHIND  960.4176648847375\n",
            "iter 47500 :  AVIME WAS LEDINNIND TO DET PERY TIREG OF SITTIND LY HER SISTER ON THE LANK  ANG OF HAPIND NOTHIND  960.9602247259479\n",
            "iter 48000 :  APIME WAS LEDINNIND TO DET VERY TIREG OF SITTIND LY HER SISTER ON THE LANK  ANG OF HAVIND NOTHIND  960.0356299172191\n",
            "iter 48500 :  AVICE MAS LEDINNIND TO DET WERY TIREG OF SITTIND LY HER SISTER ON THE LANK  ANG OF HAWIND NOTHIND  960.5231783713641\n",
            "iter 49000 :  ACIVE WAS BEDINNIND TO DET LERY TIREG OF SITTIND BY HER SISTER ON THE BANK  ANG OF HALIND NOTHIND  961.2108458958422\n",
            "iter 49500 :  AVICE PAS BEDINNIND TO DET WERY TIREG OF SITTIND BY HER SISTER ON THE BANM  ANG OF HAWIND NOTHIND  957.3996838261077\n",
            "iter 50000 :  AVIPE CAS BEDINNIND TO DET WERY TIREG OF SITTIND BY HER SISTER ON THE BANL  ANG OF HAWIND NOTHIND  957.8660321926401\n",
            "iter 50500 :  ALICE MAS BEDINNIND TO DET PERY TIREG OF SITTIND BY HER SISTER ON THE BANU  ANG OF HAPIND NOTHIND  959.9756191223803\n",
            "iter 51000 :  AVICE MAS BEDINNIND TO DET PERU TIREL OF SITTIND BU HER SISTER ON THE BANK  ANL OF HAPIND NOTHIND  952.8794162837576\n",
            "iter 51500 :  AMIVE WAS PEDINNIND TO DET BERL TIREY OF SITTIND PL HER SISTER ON THE PANC  ANY OF HABIND NOTHIND  952.7605440001732\n",
            "iter 52000 :  AKICE WAS PEDINNIND TO DET MERL TIREY OF SITTIND PL HER SISTER ON THE PANV  ANY OF HAMIND NOTHIND  953.6084945898925\n",
            "iter 52500 :  AKICE WAS PEDINNIND TO DET MERL TIREY OF SITTIND PL HER SISTER ON THE PANV  ANY OF HAMIND NOTHIND  953.6084945898925\n",
            "iter 53000 :  AKIME WAS PEDINNIND TO DET BERL TIREG OF SITTIND PL HER SISTER ON THE PANV  ANG OF HABIND NOTHIND  953.1686959027152\n",
            "iter 53500 :  AUIBE MAS WEDINNIND TO DET PERY TIREG OF SITTIND WY HER SISTER ON THE WANV  ANG OF HAPIND NOTHIND  952.2404638837702\n",
            "iter 54000 :  APILE UAS BEDINNIND TO DET WERY TIREG OF SITTIND BY HER SISTER ON THE BANM  ANG OF HAWIND NOTHIND  955.083244732875\n",
            "iter 54500 :  AWICE UAS BEDINNIND TO DET PERY TIREG OM SITTIND BY HER SISTER ON THE BANL  ANG OM HAPIND NOTHIND  955.1790209565377\n",
            "iter 55000 :  ACIPE MAS BEDINNIND TO DET LERY TIREG OF SITTIND BY HER SISTER ON THE BANV  ANG OF HALIND NOTHIND  957.0054183239985\n",
            "iter 55500 :  APILE MAS BEDINNIND TO DET CERY TIREG OF SITTIND BY HER SISTER ON THE BANK  ANG OF HACIND NOTHIND  959.4315478938544\n",
            "iter 56000 :  APILE BAS MEDINNIND TO DET WERY TIREG OF SITTIND MY HER SISTER ON THE MANK  ANG OF HAWIND NOTHIND  959.5484469255571\n",
            "iter 56500 :  APILE BAS MEDINNIND TO DET WERY TIREG OU SITTIND MY HER SISTER ON THE MANK  ANG OU HAWIND NOTHIND  957.1326149084962\n",
            "iter 57000 :  APICE BAS MEDINNIND TO DET LERY TIREG OU SITTIND MY HER SISTER ON THE MANK  ANG OU HALIND NOTHIND  958.4337005659344\n",
            "iter 57500 :  APICE WAS BEDINNIND TO DET MERY TIREG OF SITTIND BY HER SISTER ON THE BANL  ANG OF HAMIND NOTHIND  961.8255371413005\n",
            "iter 58000 :  AVIPE WAS BEDINNIND TO DET LERY TIREG OF SITTIND BY HER SISTER ON THE BANM  ANG OF HALIND NOTHIND  957.9414694898792\n",
            "iter 58500 :  APICE MAS BEDINNIND TO DET WERY TIREL OF SITTIND BY HER SISTER ON THE BANG  ANL OF HAWIND NOTHIND  961.859547698066\n",
            "iter 59000 :  APIME WAS BEDINNIND TO DET CERY TIREL OF SITTIND BY HER SISTER ON THE BANG  ANL OF HACIND NOTHIND  962.7827827255838\n",
            "iter 59500 :  AKIVE WAS BEDINNIND TO DET CERY TIREL OM SITTIND BY HER SISTER ON THE BANG  ANL OM HACIND NOTHIND  959.2138285726265\n",
            "iter 60000 :  AKIVE PAL BEDINNIND TO DET CERY TIRES OM LITTIND BY HER LILTER ON THE BANG  ANS OM HACIND NOTHIND  954.6369685178648\n",
            "iter 60500 :  AKIVE MAL BEDINNIND TO DET CERY TIRES OF LITTIND BY HER LILTER ON THE BANG  ANS OF HACIND NOTHIND  957.1027009197403\n",
            "iter 61000 :  ACIVE MAL BEDINNIND TO DET PERY TIRES OF LITTIND BY HER LILTER ON THE BANG  ANS OF HAPIND NOTHIND  957.3423812732353\n",
            "iter 61500 :  APICE WAL BEDINNIND TO DET VERY TIRES OF LITTIND BY HER LILTER ON THE BANG  ANS OF HAVIND NOTHIND  958.3976043936945\n",
            "iter 62000 :  AKIVE WAL BEDINNIND TO DET CERY TIRES OU LITTIND BY HER LILTER ON THE BANG  ANS OU HACIND NOTHIND  955.6795246482025\n",
            "iter 62500 :  APIVE WAL MEDINNIND TO DET CERS TIREY OU LITTIND MS HER LILTER ON THE MANG  ANY OU HACIND NOTHIND  954.429980295176\n",
            "iter 63000 :  AMIVE WAS PEDINNIND TO DET CERY TIREL OU SITTIND PY HER SISTER ON THE PANG  ANL OU HACIND NOTHIND  956.5210219432203\n",
            "iter 63500 :  AVIPE WAS BEDINNIND TO DET CERY TIREG OF SITTIND BY HER SISTER ON THE BANL  ANG OF HACIND NOTHIND  958.8077478957052\n",
            "iter 64000 :  ABIME WAS PEDINNIND TO DET CERY TIREG OF SITTIND PY HER SISTER ON THE PANL  ANG OF HACIND NOTHIND  957.0825458066571\n",
            "iter 64500 :  AUIME WAS PEDINNIND TO DET CERY TIREL OF SITTIND PY HER SISTER ON THE PANG  ANL OF HACIND NOTHIND  958.3455523063403\n",
            "iter 65000 :  AUIPE WAS BEDINNIND TO DET CERY TIREL OF SITTIND BY HER SISTER ON THE BANG  ANL OF HACIND NOTHIND  958.2454348449236\n",
            "iter 65500 :  ABICE WAS MEDINNIND TO DET PERY TIREL OF SITTIND MY HER SISTER ON THE MANG  ANL OF HAPIND NOTHIND  960.8984036850966\n",
            "iter 66000 :  ALICE WAS BEDINNIND TO DET MERY TIREG OF SITTIND BY HER SISTER ON THE BANV  ANG OF HAMIND NOTHIND  961.2569974682511\n",
            "iter 66500 :  ALICE WAS BEDINNIND TO DET MERY TIREG OF SITTIND BY HER SISTER ON THE BANK  ANG OF HAMIND NOTHIND  962.4996619878164\n",
            "iter 67000 :  ALICE WAS BEDINNIND TO DET MERY TIREG OF SITTIND BY HER SISTER ON THE BANK  ANG OF HAMIND NOTHIND  962.4996619878164\n",
            "iter 67500 :  AMICE WAS BEDINNIND TO DET LERY TIREG OF SITTIND BY HER SISTER ON THE BANK  ANG OF HALIND NOTHIND  962.2649918546714\n",
            "iter 68000 :  AMICE WAS BEDINNIND TO DET LERY TIREG OF SITTIND BY HER SISTER ON THE BANK  ANG OF HALIND NOTHIND  962.2649918546714\n",
            "iter 68500 :  AKIME WAS BEDINNIND TO DET VERY TIREG OF SITTIND BY HER SISTER ON THE BANU  ANG OF HAVIND NOTHIND  957.7071065099029\n",
            "iter 69000 :  ALIVE WAS BEDINNIND TO DET MERY TIREG OF SITTIND BY HER SISTER ON THE BANK  ANG OF HAMIND NOTHIND  961.705642037419\n",
            "iter 69500 :  ALICE WAS BEDINNIND TO DET MERY TIREG OF SITTIND BY HER SISTER ON THE BANK  ANG OF HAMIND NOTHIND  962.4996619878164\n",
            "iter 70000 :  ALICE WAS BEDINNIND TO DET MERY TIREG OF SITTIND BY HER SISTER ON THE BANU  ANG OF HAMIND NOTHIND  961.8253633076262\n",
            "iter 70500 :  APICE WAS BEDINNIND TO DET LERY TIREG OF SITTIND BY HER SISTER ON THE BANU  ANG OF HALIND NOTHIND  961.4064716209706\n",
            "iter 71000 :  AVICE WAS MEDINNIND TO DET LERY TIREG OF SITTIND MY HER SISTER ON THE MANU  ANG OF HALIND NOTHIND  962.1196610902222\n",
            "iter 71500 :  AVICE WAS BEDINNIND TO DET LERY TIREG OF SITTIND BY HER SISTER ON THE BANK  ANG OF HALIND NOTHIND  962.1980080795071\n",
            "iter 72000 :  AMICE PAS BEDINNIND TO DET WERY TIREG OF SITTIND BY HER SISTER ON THE BANK  ANG OF HAWIND NOTHIND  958.9590789337469\n",
            "iter 72500 :  AVIME PAS LEDINNIND TO DET WERY TIREG OF SITTIND LY HER SISTER ON THE LANC  ANG OF HAWIND NOTHIND  959.6831115996378\n",
            "iter 73000 :  AVIME PAS LEDINNIND TO DET WERY TIREG OF SITTIND LY HER SISTER ON THE LANK  ANG OF HAWIND NOTHIND  960.0306066906983\n",
            "iter 73500 :  AVIME PAS LEDINNIND TO DET WERY TIREG OF SITTIND LY HER SISTER ON THE LANK  ANG OF HAWIND NOTHIND  960.0306066906983\n",
            "iter 74000 :  ACILE PAS MEDINNIND TO DET WERY TIREG OF SITTIND MY HER SISTER ON THE MANK  ANG OF HAWIND NOTHIND  959.5284441671779\n",
            "iter 74500 :  AVILE PAS BEDINNIND TO DET WERY TIREG OF SITTIND BY HER SISTER ON THE BANK  ANG OF HAWIND NOTHIND  959.1256347095401\n",
            "iter 75000 :  AMIVE PAS BEDINNIND TO DET WERY TIREG OF SITTIND BY HER SISTER ON THE BANL  ANG OF HAWIND NOTHIND  959.4290322694413\n",
            "iter 75500 :  AKIME CAS BEDINNIND TO DET LERY TIREG OF SITTIND BY HER SISTER ON THE BANP  ANG OF HALIND NOTHIND  957.0227488941746\n",
            "iter 76000 :  OPIME COS BEDINNIND TA DET WERY TIREG AL SITTIND BY HER SISTER AN THE BONU  ONG AL HOWIND NATHIND  957.4295689143376\n",
            "iter 76500 :  OWIVE COS BEDINNIND TA DET FERY TIREG AL SITTIND BY HER SISTER AN THE BONU  ONG AL HOFIND NATHIND  956.9952679822021\n",
            "iter 77000 :  OPIVE COS LEDINNIND TA DET WERY TIREG AM SITTIND LY HER SISTER AN THE LONU  ONG AM HOWIND NATHIND  954.7277762088355\n",
            "iter 77500 :  OKIVE COS MEDINNIND TA DET WERY TIREG AL SITTIND MY HER SISTER AN THE MONU  ONG AL HOWIND NATHIND  956.2602891038506\n",
            "iter 78000 :  OUIVE POS LEDINNIND TA DET WERY TIREG AM SITTIND LY HER SISTER AN THE LONK  ONG AM HOWIND NATHIND  955.4542054364197\n",
            "iter 78500 :  APIME WAS LEDINNIND TO DET CERY TIREG OF SITTIND LY HER SISTER ON THE LANK  ANG OF HACIND NOTHIND  961.3291756205357\n",
            "iter 79000 :  AVIME WAS CEDINNIND TO DET LERY TIREG OF SITTIND CY HER SISTER ON THE CANK  ANG OF HALIND NOTHIND  960.628299442419\n",
            "iter 79500 :  AVIME WAS CEDINNIND TO DET LERY TIREG OF SITTIND CY HER SISTER ON THE CANK  ANG OF HALIND NOTHIND  960.628299442419\n",
            "\n",
            "\n",
            "Decoded Text:  AVICE WAS BEDINNIND TO DET MERY TIREL OF SITTIND BY HER SISTER ON THE BANG  ANL OF HAMIND NOTHIND \n",
            "\n",
            "\n",
            "MCMC KEY FOUND: IECLHDQAJRPKMGUZBSFYXWOVNT\n",
            "ACTUAL DECRYPTION KEY: iecdhgxajrmqvkpzbsfyuwolnt\n"
          ]
        }
      ]
    },
    {
      "cell_type": "markdown",
      "source": [
        "here we can see, that the text becomes to look like normal english text. So "
      ],
      "metadata": {
        "id": "62i8kubGgUL6"
      }
    },
    {
      "cell_type": "code",
      "source": [
        "states[np.argmax(scores)]\n"
      ],
      "metadata": {
        "colab": {
          "base_uri": "https://localhost:8080/",
          "height": 36
        },
        "id": "CHQQQc5WhO_i",
        "outputId": "5282b160-cf4c-4c3d-bda9-12dcdb6583be"
      },
      "execution_count": 466,
      "outputs": [
        {
          "output_type": "execute_result",
          "data": {
            "application/vnd.google.colaboratory.intrinsic+json": {
              "type": "string"
            },
            "text/plain": [
              "'IEMLHDKAXRJUCGQZBSFYPWOVNT'"
            ]
          },
          "metadata": {},
          "execution_count": 466
        }
      ]
    },
    {
      "cell_type": "code",
      "source": [
        "max(scores)"
      ],
      "metadata": {
        "colab": {
          "base_uri": "https://localhost:8080/"
        },
        "id": "0xGXWDzKhnT0",
        "outputId": "ffcf8f45-2acb-4ebb-a360-fc7818e80489"
      },
      "execution_count": 468,
      "outputs": [
        {
          "output_type": "execute_result",
          "data": {
            "text/plain": [
              "962.9000205039301"
            ]
          },
          "metadata": {},
          "execution_count": 468
        }
      ]
    },
    {
      "cell_type": "markdown",
      "metadata": {
        "id": "lmxvkTkzH-Gy"
      },
      "source": [
        "## Tuning parameters (1 point).\n",
        "\n",
        "For step sizes in range `[2, ..., 7]`(number of pertrubations in newly generated cipher) find number of iteratoins, with `..00` precision(`print_it=100`), which is necessary to make cipher text looks more like english one. Plot obtained results."
      ]
    },
    {
      "cell_type": "code",
      "source": [
        "states = []\n",
        "best_states = []\n",
        "scores = []\n",
        "for i in range(2,8):\n",
        "  state,best_state,score = MCMC_decrypt(50000,cipher_text,scoring_params, size=i)\n",
        "  states.append(state)\n",
        "  best_states.append(best_state)\n",
        "  scores.append(score)"
      ],
      "metadata": {
        "colab": {
          "base_uri": "https://localhost:8080/",
          "height": 997
        },
        "id": "o0tI3M_bjax7",
        "outputId": "0d9d8185-690b-4937-969a-b34b3f199995"
      },
      "execution_count": 472,
      "outputs": [
        {
          "output_type": "stream",
          "name": "stdout",
          "text": [
            "iter 0 :  HXACI VHR QIFAYYAYF ZW FIZ MIJT ZAJID WS RAZZAYF QT EIJ RARZIJ WY ZEI QHYK  HYD WS EHMAYF YWZEAYF  599.2666090733626\n",
            "iter 500 :  UNICE PUL BEOITTITO SA OES MEDY SIDEW AR LISSITO BY HED LILSED AT SHE BUTF  UTW AR HUMITO TASHITO  919.3421203702762\n",
            "iter 1000 :  OFICE BOS REHITTITH MA HEM LEDY MIDEW AN SIMMITH RY PED SISMED AT MPE ROTU  OTW AN POLITH TAMPITH  925.0336843367668\n",
            "iter 1500 :  OLICE BOM REHITTITH SA HES FEDY SIDEW AN MISSITH RY PED MIMSED AT SPE ROTU  OTW AN POFITH TASPITH  930.0031148645821\n",
            "iter 2000 :  OUIPE CON BEHITTITH SA HES WEDG SIDER AY NISSITH BG MED NINSED AT SME BOTL  OTR AY MOWITH TASMITH  926.0749632619822\n",
            "iter 2500 :  OPIGE MON BEHITTITH SA HES WEDU SIDER AY NISSITH BU LED NINSED AT SLE BOTF  OTR AY LOWITH TASLITH  928.938680257022\n",
            "iter 3000 :  OVIKE LON FEHITTITH SA HES WEDU SIDER AY NISSITH FU CED NINSED AT SCE FOTM  OTR AY COWITH TASCITH  927.372708110641\n",
            "iter 3500 :  OVIKE FON BEHITTITH SA HES WEDU SIDER AM NISSITH BU CED NINSED AT SCE BOTY  OTR AM COWITH TASCITH  930.7239270709913\n",
            "iter 4000 :  OWIGE FON BEHITTITH SA HES VEDU SIDER AM NISSITH BU CED NINSED AT SCE BOTY  OTR AM COVITH TASCITH  930.2876677557219\n",
            "iter 4500 :  AGILE MAD BEHITTITH SO HES VENY SINER OF DISSITH BY WEN DIDSEN OT SWE BATU  ATR OF WAVITH TOSWITH  931.9961915426092\n",
            "iter 5000 :  AVIGE PAD BEHITTITH SO HES WENY SINER OF DISSITH BY LEN DIDSEN OT SLE BATU  ATR OF LAWITH TOSLITH  932.1111809760788\n",
            "iter 5500 :  AVIGE WAD BEHITTITH SO HES PENU SINER OF DISSITH BU LEN DIDSEN OT SLE BATY  ATR OF LAPITH TOSLITH  930.8105853402467\n",
            "iter 6000 :  APIVE WAD BEHITTITH SO HES LENY SINER OF DISSITH BY MEN DIDSEN OT SME BATU  ATR OF MALITH TOSMITH  936.7190846071492\n",
            "iter 6500 :  AKIGE WAD BEHITTITH SO HES LENY SINER OF DISSITH BY CEN DIDSEN OT SCE BATU  ATR OF CALITH TOSCITH  934.5403205962563\n",
            "iter 7000 :  AVIPE WAD BEHITTITH SO HES LENY SINER OF DISSITH BY CEN DIDSEN OT SCE BATU  ATR OF CALITH TOSCITH  934.185527096195\n",
            "iter 7500 :  AVIGE WAD BEHITTITH SO HES RENY SINEL OF DISSITH BY PEN DIDSEN OT SPE BATU  ATL OF PARITH TOSPITH  932.71917534721\n",
            "iter 8000 :  AGIVE CAN BEHITTITH SO HES LEDY SIDER OM NISSITH BY PED NINSED OT SPE BATW  ATR OM PALITH TOSPITH  933.4625112051064\n",
            "iter 8500 :  AVIFE CAN BEHITTITH SO HES MEDL SIDER OW NISSITH BL PED NINSED OT SPE BATY  ATR OW PAMITH TOSPITH  931.699916838576\n",
            "iter 9000 :  AVIFE WAN BEHITTITH SO HES PEDL SIDER OU NISSITH BL MED NINSED OT SME BATY  ATR OU MAPITH TOSMITH  933.3467016776342\n",
            "iter 9500 :  ACIVE WAN BEHITTITH SO HES REDY SIDEL OU NISSITH BY MED NINSED OT SME BATF  ATL OU MARITH TOSMITH  932.1375715393626\n",
            "iter 10000 :  AVICE WAN MEHITTITH SO HES LEDY SIDEF OR NISSITH MY PED NINSED OT SPE MATU  ATF OR PALITH TOSPITH  933.4197811609463\n",
            "iter 10500 :  AVICE WAN BEHITTITH SO HES MEDY SIDEL OR NISSITH BY PED NINSED OT SPE BATU  ATL OR PAMITH TOSPITH  934.5075720073756\n",
            "iter 11000 :  AGIZE BAN REHITTITH SO HES MEDY SIDEL OF NISSITH RY WED NINSED OT SWE RATU  ATL OF WAMITH TOSWITH  926.3673675509446\n",
            "iter 11500 :  AKIZE CAN LEHITTITH SO HES WEDY SIDER OF NISSITH LY MED NINSED OT SME LATU  ATR OF MAWITH TOSMITH  931.0349379949573\n",
            "iter 12000 :  IMAVE WIN BEHATTATH SO HES LEDY SADER OF NASSATH BY CED NANSED OT SCE BITU  ITR OF CILATH TOSCATH  937.0232187695574\n",
            "iter 12500 :  IPAVE WIN MEHATTATH SO HES LEDY SADER OF NASSATH MY CED NANSED OT SCE MITU  ITR OF CILATH TOSCATH  934.9862439174731\n",
            "iter 13000 :  ACIGE WAN BEHITTITH SO HES MEDY SIDER OF NISSITH BY LED NINSED OT SLE BATU  ATR OF LAMITH TOSLITH  935.5605012963888\n",
            "iter 13500 :  ACIGE WAN BEHITTITH SO HES LEDY SIDER OF NISSITH BY MED NINSED OT SME BATU  ATR OF MALITH TOSMITH  937.8026336838354\n",
            "iter 14000 :  AVIGE WAN BEHITTITH SO HES LEDY SIDER OF NISSITH BY CED NINSED OT SCE BATU  ATR OF CALITH TOSCITH  937.3150879345578\n",
            "iter 14500 :  AVIGE WAN BEHITTITH SO HES LEDY SIDER OF NISSITH BY CED NINSED OT SCE BATU  ATR OF CALITH TOSCITH  937.3150879345578\n",
            "iter 15000 :  AVICE WAD BEHITTITH SO HES LENY SINER OF DISSITH BY MEN DIDSEN OT SME BATU  ATR OF MALITH TOSMITH  937.6303423358928\n",
            "iter 15500 :  AVICE WAN BEHITTITH SO HES LEDY SIDER OF NISSITH BY MED NINSED OT SME BATU  ATR OF MALITH TOSMITH  939.4860984144977\n",
            "iter 16000 :  ALIVE WAN BEHITTITH SO HES PEDY SIDER OF NISSITH BY MED NINSED OT SME BATU  ATR OF MAPITH TOSMITH  938.136643932687\n",
            "iter 16500 :  AMIVE WAN BEHITTITH SO HES LEDY SIDER OF NISSITH BY CED NINSED OT SCE BATU  ATR OF CALITH TOSCITH  938.0783742567197\n"
          ]
        },
        {
          "output_type": "error",
          "ename": "KeyboardInterrupt",
          "evalue": "ignored",
          "traceback": [
            "\u001b[0;31m---------------------------------------------------------------------------\u001b[0m",
            "\u001b[0;31mKeyboardInterrupt\u001b[0m                         Traceback (most recent call last)",
            "\u001b[0;32m<ipython-input-472-37ef88d4a688>\u001b[0m in \u001b[0;36m<module>\u001b[0;34m()\u001b[0m\n\u001b[1;32m      3\u001b[0m \u001b[0mscores\u001b[0m \u001b[0;34m=\u001b[0m \u001b[0;34m[\u001b[0m\u001b[0;34m]\u001b[0m\u001b[0;34m\u001b[0m\u001b[0;34m\u001b[0m\u001b[0m\n\u001b[1;32m      4\u001b[0m \u001b[0;32mfor\u001b[0m \u001b[0mi\u001b[0m \u001b[0;32min\u001b[0m \u001b[0mrange\u001b[0m\u001b[0;34m(\u001b[0m\u001b[0;36m2\u001b[0m\u001b[0;34m,\u001b[0m\u001b[0;36m8\u001b[0m\u001b[0;34m)\u001b[0m\u001b[0;34m:\u001b[0m\u001b[0;34m\u001b[0m\u001b[0;34m\u001b[0m\u001b[0m\n\u001b[0;32m----> 5\u001b[0;31m   \u001b[0mstate\u001b[0m\u001b[0;34m,\u001b[0m\u001b[0mbest_state\u001b[0m\u001b[0;34m,\u001b[0m\u001b[0mscore\u001b[0m \u001b[0;34m=\u001b[0m \u001b[0mMCMC_decrypt\u001b[0m\u001b[0;34m(\u001b[0m\u001b[0;36m50000\u001b[0m\u001b[0;34m,\u001b[0m\u001b[0mcipher_text\u001b[0m\u001b[0;34m,\u001b[0m\u001b[0mscoring_params\u001b[0m\u001b[0;34m,\u001b[0m \u001b[0msize\u001b[0m\u001b[0;34m=\u001b[0m\u001b[0;36m2\u001b[0m\u001b[0;34m)\u001b[0m\u001b[0;34m\u001b[0m\u001b[0;34m\u001b[0m\u001b[0m\n\u001b[0m\u001b[1;32m      6\u001b[0m   \u001b[0mstates\u001b[0m\u001b[0;34m.\u001b[0m\u001b[0mappend\u001b[0m\u001b[0;34m(\u001b[0m\u001b[0mstate\u001b[0m\u001b[0;34m)\u001b[0m\u001b[0;34m\u001b[0m\u001b[0;34m\u001b[0m\u001b[0m\n\u001b[1;32m      7\u001b[0m   \u001b[0mbest_states\u001b[0m\u001b[0;34m.\u001b[0m\u001b[0mappend\u001b[0m\u001b[0;34m(\u001b[0m\u001b[0mbest_state\u001b[0m\u001b[0;34m)\u001b[0m\u001b[0;34m\u001b[0m\u001b[0;34m\u001b[0m\u001b[0m\n",
            "\u001b[0;32m<ipython-input-459-ee34689c433f>\u001b[0m in \u001b[0;36mMCMC_decrypt\u001b[0;34m(n_iter, cipher_text, scoring_params, size)\u001b[0m\n\u001b[1;32m     10\u001b[0m \u001b[0;34m\u001b[0m\u001b[0m\n\u001b[1;32m     11\u001b[0m         \u001b[0mproposed_cipher\u001b[0m \u001b[0;34m=\u001b[0m \u001b[0mgenerate_cipher\u001b[0m\u001b[0;34m(\u001b[0m\u001b[0mcurrent_cipher\u001b[0m\u001b[0;34m,\u001b[0m \u001b[0msize\u001b[0m \u001b[0;34m=\u001b[0m \u001b[0msize\u001b[0m\u001b[0;34m)\u001b[0m\u001b[0;34m\u001b[0m\u001b[0;34m\u001b[0m\u001b[0m\n\u001b[0;32m---> 12\u001b[0;31m         \u001b[0mscore_current_cipher\u001b[0m \u001b[0;34m=\u001b[0m \u001b[0mget_cipher_score\u001b[0m\u001b[0;34m(\u001b[0m\u001b[0mcipher_text\u001b[0m\u001b[0;34m,\u001b[0m\u001b[0mcurrent_cipher\u001b[0m\u001b[0;34m,\u001b[0m\u001b[0mscoring_params\u001b[0m\u001b[0;34m)\u001b[0m\u001b[0;34m\u001b[0m\u001b[0;34m\u001b[0m\u001b[0m\n\u001b[0m\u001b[1;32m     13\u001b[0m         \u001b[0mscore_proposed_cipher\u001b[0m \u001b[0;34m=\u001b[0m \u001b[0mget_cipher_score\u001b[0m\u001b[0;34m(\u001b[0m\u001b[0mcipher_text\u001b[0m\u001b[0;34m,\u001b[0m\u001b[0mproposed_cipher\u001b[0m\u001b[0;34m,\u001b[0m\u001b[0mscoring_params\u001b[0m\u001b[0;34m)\u001b[0m\u001b[0;34m\u001b[0m\u001b[0;34m\u001b[0m\u001b[0m\n\u001b[1;32m     14\u001b[0m         \u001b[0macceptance_probability\u001b[0m \u001b[0;34m=\u001b[0m \u001b[0mmin\u001b[0m\u001b[0;34m(\u001b[0m\u001b[0;36m1\u001b[0m\u001b[0;34m,\u001b[0m\u001b[0mmath\u001b[0m\u001b[0;34m.\u001b[0m\u001b[0mexp\u001b[0m\u001b[0;34m(\u001b[0m\u001b[0mscore_proposed_cipher\u001b[0m\u001b[0;34m-\u001b[0m\u001b[0mscore_current_cipher\u001b[0m\u001b[0;34m)\u001b[0m\u001b[0;34m)\u001b[0m\u001b[0;34m\u001b[0m\u001b[0;34m\u001b[0m\u001b[0m\n",
            "\u001b[0;32m<ipython-input-439-29af39433d01>\u001b[0m in \u001b[0;36mget_cipher_score\u001b[0;34m(text, cipher, scoring_params)\u001b[0m\n\u001b[1;32m     55\u001b[0m     \u001b[0;32mfor\u001b[0m \u001b[0mk\u001b[0m\u001b[0;34m,\u001b[0m\u001b[0mv\u001b[0m \u001b[0;32min\u001b[0m \u001b[0mscored_f\u001b[0m\u001b[0;34m.\u001b[0m\u001b[0mitems\u001b[0m\u001b[0;34m(\u001b[0m\u001b[0;34m)\u001b[0m\u001b[0;34m:\u001b[0m\u001b[0;34m\u001b[0m\u001b[0;34m\u001b[0m\u001b[0m\n\u001b[1;32m     56\u001b[0m         \u001b[0;32mif\u001b[0m \u001b[0mk\u001b[0m \u001b[0;32min\u001b[0m \u001b[0mscoring_params\u001b[0m\u001b[0;34m:\u001b[0m\u001b[0;34m\u001b[0m\u001b[0;34m\u001b[0m\u001b[0m\n\u001b[0;32m---> 57\u001b[0;31m             \u001b[0mcipher_score\u001b[0m \u001b[0;34m+=\u001b[0m \u001b[0mv\u001b[0m\u001b[0;34m*\u001b[0m\u001b[0mmath\u001b[0m\u001b[0;34m.\u001b[0m\u001b[0mlog\u001b[0m\u001b[0;34m(\u001b[0m\u001b[0mscoring_params\u001b[0m\u001b[0;34m[\u001b[0m\u001b[0mk\u001b[0m\u001b[0;34m]\u001b[0m\u001b[0;34m)\u001b[0m\u001b[0;34m\u001b[0m\u001b[0;34m\u001b[0m\u001b[0m\n\u001b[0m\u001b[1;32m     58\u001b[0m     \u001b[0;32mreturn\u001b[0m \u001b[0mcipher_score\u001b[0m\u001b[0;34m\u001b[0m\u001b[0;34m\u001b[0m\u001b[0m\n",
            "\u001b[0;31mKeyboardInterrupt\u001b[0m: "
          ]
        }
      ]
    },
    {
      "cell_type": "code",
      "source": [
        ""
      ],
      "metadata": {
        "id": "2EclhXmxjbIz"
      },
      "execution_count": null,
      "outputs": []
    },
    {
      "cell_type": "markdown",
      "source": [
        ""
      ],
      "metadata": {
        "id": "ChBmK7wXjV02"
      }
    },
    {
      "cell_type": "code",
      "execution_count": null,
      "metadata": {
        "id": "ySA7m812H-G0"
      },
      "outputs": [],
      "source": [
        "# Your code here"
      ]
    }
  ],
  "metadata": {
    "kernelspec": {
      "display_name": "Python 3",
      "language": "python",
      "name": "python3"
    },
    "language_info": {
      "codemirror_mode": {
        "name": "ipython",
        "version": 3
      },
      "file_extension": ".py",
      "mimetype": "text/x-python",
      "name": "python",
      "nbconvert_exporter": "python",
      "pygments_lexer": "ipython3",
      "version": "3.7.1"
    },
    "colab": {
      "name": "homework4.ipynb",
      "provenance": [],
      "include_colab_link": true
    },
    "widgets": {
      "application/vnd.jupyter.widget-state+json": {
        "cff36837c3a34057b3679432a6fc3d54": {
          "model_module": "@jupyter-widgets/controls",
          "model_name": "HBoxModel",
          "model_module_version": "1.5.0",
          "state": {
            "_view_name": "HBoxView",
            "_dom_classes": [],
            "_model_name": "HBoxModel",
            "_view_module": "@jupyter-widgets/controls",
            "_model_module_version": "1.5.0",
            "_view_count": null,
            "_view_module_version": "1.5.0",
            "box_style": "",
            "layout": "IPY_MODEL_e199fce750344c33831805339818b088",
            "_model_module": "@jupyter-widgets/controls",
            "children": [
              "IPY_MODEL_4a5bd89ad57747bdba0d5b9d7e8438ca",
              "IPY_MODEL_4aaf74c5e8f7430fa53048d4e574a55a",
              "IPY_MODEL_806d4052cdcb4e49b425a82ff84e3d67"
            ]
          }
        },
        "e199fce750344c33831805339818b088": {
          "model_module": "@jupyter-widgets/base",
          "model_name": "LayoutModel",
          "model_module_version": "1.2.0",
          "state": {
            "_view_name": "LayoutView",
            "grid_template_rows": null,
            "right": null,
            "justify_content": null,
            "_view_module": "@jupyter-widgets/base",
            "overflow": null,
            "_model_module_version": "1.2.0",
            "_view_count": null,
            "flex_flow": null,
            "width": null,
            "min_width": null,
            "border": null,
            "align_items": null,
            "bottom": null,
            "_model_module": "@jupyter-widgets/base",
            "top": null,
            "grid_column": null,
            "overflow_y": null,
            "overflow_x": null,
            "grid_auto_flow": null,
            "grid_area": null,
            "grid_template_columns": null,
            "flex": null,
            "_model_name": "LayoutModel",
            "justify_items": null,
            "grid_row": null,
            "max_height": null,
            "align_content": null,
            "visibility": null,
            "align_self": null,
            "height": null,
            "min_height": null,
            "padding": null,
            "grid_auto_rows": null,
            "grid_gap": null,
            "max_width": null,
            "order": null,
            "_view_module_version": "1.2.0",
            "grid_template_areas": null,
            "object_position": null,
            "object_fit": null,
            "grid_auto_columns": null,
            "margin": null,
            "display": null,
            "left": null
          }
        },
        "4a5bd89ad57747bdba0d5b9d7e8438ca": {
          "model_module": "@jupyter-widgets/controls",
          "model_name": "HTMLModel",
          "model_module_version": "1.5.0",
          "state": {
            "_view_name": "HTMLView",
            "style": "IPY_MODEL_2c22e16f933a4a749209238665113f17",
            "_dom_classes": [],
            "description": "",
            "_model_name": "HTMLModel",
            "placeholder": "​",
            "_view_module": "@jupyter-widgets/controls",
            "_model_module_version": "1.5.0",
            "value": "100%",
            "_view_count": null,
            "_view_module_version": "1.5.0",
            "description_tooltip": null,
            "_model_module": "@jupyter-widgets/controls",
            "layout": "IPY_MODEL_9f45c4c27c66436b9efd0cb64512593b"
          }
        },
        "4aaf74c5e8f7430fa53048d4e574a55a": {
          "model_module": "@jupyter-widgets/controls",
          "model_name": "FloatProgressModel",
          "model_module_version": "1.5.0",
          "state": {
            "_view_name": "ProgressView",
            "style": "IPY_MODEL_24d7f9c4f9414d2e98bf539d4d6ba1c8",
            "_dom_classes": [],
            "description": "",
            "_model_name": "FloatProgressModel",
            "bar_style": "success",
            "max": 999,
            "_view_module": "@jupyter-widgets/controls",
            "_model_module_version": "1.5.0",
            "value": 999,
            "_view_count": null,
            "_view_module_version": "1.5.0",
            "orientation": "horizontal",
            "min": 0,
            "description_tooltip": null,
            "_model_module": "@jupyter-widgets/controls",
            "layout": "IPY_MODEL_1c3ecb4d1bf2485188a772f020e6742f"
          }
        },
        "806d4052cdcb4e49b425a82ff84e3d67": {
          "model_module": "@jupyter-widgets/controls",
          "model_name": "HTMLModel",
          "model_module_version": "1.5.0",
          "state": {
            "_view_name": "HTMLView",
            "style": "IPY_MODEL_83d41a4c155840bfb64550c27f9b949c",
            "_dom_classes": [],
            "description": "",
            "_model_name": "HTMLModel",
            "placeholder": "​",
            "_view_module": "@jupyter-widgets/controls",
            "_model_module_version": "1.5.0",
            "value": " 999/999 [00:04&lt;00:00, 216.84it/s]",
            "_view_count": null,
            "_view_module_version": "1.5.0",
            "description_tooltip": null,
            "_model_module": "@jupyter-widgets/controls",
            "layout": "IPY_MODEL_1395412b9e8d4ba3bc76cc133bcb7f7f"
          }
        },
        "2c22e16f933a4a749209238665113f17": {
          "model_module": "@jupyter-widgets/controls",
          "model_name": "DescriptionStyleModel",
          "model_module_version": "1.5.0",
          "state": {
            "_view_name": "StyleView",
            "_model_name": "DescriptionStyleModel",
            "description_width": "",
            "_view_module": "@jupyter-widgets/base",
            "_model_module_version": "1.5.0",
            "_view_count": null,
            "_view_module_version": "1.2.0",
            "_model_module": "@jupyter-widgets/controls"
          }
        },
        "9f45c4c27c66436b9efd0cb64512593b": {
          "model_module": "@jupyter-widgets/base",
          "model_name": "LayoutModel",
          "model_module_version": "1.2.0",
          "state": {
            "_view_name": "LayoutView",
            "grid_template_rows": null,
            "right": null,
            "justify_content": null,
            "_view_module": "@jupyter-widgets/base",
            "overflow": null,
            "_model_module_version": "1.2.0",
            "_view_count": null,
            "flex_flow": null,
            "width": null,
            "min_width": null,
            "border": null,
            "align_items": null,
            "bottom": null,
            "_model_module": "@jupyter-widgets/base",
            "top": null,
            "grid_column": null,
            "overflow_y": null,
            "overflow_x": null,
            "grid_auto_flow": null,
            "grid_area": null,
            "grid_template_columns": null,
            "flex": null,
            "_model_name": "LayoutModel",
            "justify_items": null,
            "grid_row": null,
            "max_height": null,
            "align_content": null,
            "visibility": null,
            "align_self": null,
            "height": null,
            "min_height": null,
            "padding": null,
            "grid_auto_rows": null,
            "grid_gap": null,
            "max_width": null,
            "order": null,
            "_view_module_version": "1.2.0",
            "grid_template_areas": null,
            "object_position": null,
            "object_fit": null,
            "grid_auto_columns": null,
            "margin": null,
            "display": null,
            "left": null
          }
        },
        "24d7f9c4f9414d2e98bf539d4d6ba1c8": {
          "model_module": "@jupyter-widgets/controls",
          "model_name": "ProgressStyleModel",
          "model_module_version": "1.5.0",
          "state": {
            "_view_name": "StyleView",
            "_model_name": "ProgressStyleModel",
            "description_width": "",
            "_view_module": "@jupyter-widgets/base",
            "_model_module_version": "1.5.0",
            "_view_count": null,
            "_view_module_version": "1.2.0",
            "bar_color": null,
            "_model_module": "@jupyter-widgets/controls"
          }
        },
        "1c3ecb4d1bf2485188a772f020e6742f": {
          "model_module": "@jupyter-widgets/base",
          "model_name": "LayoutModel",
          "model_module_version": "1.2.0",
          "state": {
            "_view_name": "LayoutView",
            "grid_template_rows": null,
            "right": null,
            "justify_content": null,
            "_view_module": "@jupyter-widgets/base",
            "overflow": null,
            "_model_module_version": "1.2.0",
            "_view_count": null,
            "flex_flow": null,
            "width": null,
            "min_width": null,
            "border": null,
            "align_items": null,
            "bottom": null,
            "_model_module": "@jupyter-widgets/base",
            "top": null,
            "grid_column": null,
            "overflow_y": null,
            "overflow_x": null,
            "grid_auto_flow": null,
            "grid_area": null,
            "grid_template_columns": null,
            "flex": null,
            "_model_name": "LayoutModel",
            "justify_items": null,
            "grid_row": null,
            "max_height": null,
            "align_content": null,
            "visibility": null,
            "align_self": null,
            "height": null,
            "min_height": null,
            "padding": null,
            "grid_auto_rows": null,
            "grid_gap": null,
            "max_width": null,
            "order": null,
            "_view_module_version": "1.2.0",
            "grid_template_areas": null,
            "object_position": null,
            "object_fit": null,
            "grid_auto_columns": null,
            "margin": null,
            "display": null,
            "left": null
          }
        },
        "83d41a4c155840bfb64550c27f9b949c": {
          "model_module": "@jupyter-widgets/controls",
          "model_name": "DescriptionStyleModel",
          "model_module_version": "1.5.0",
          "state": {
            "_view_name": "StyleView",
            "_model_name": "DescriptionStyleModel",
            "description_width": "",
            "_view_module": "@jupyter-widgets/base",
            "_model_module_version": "1.5.0",
            "_view_count": null,
            "_view_module_version": "1.2.0",
            "_model_module": "@jupyter-widgets/controls"
          }
        },
        "1395412b9e8d4ba3bc76cc133bcb7f7f": {
          "model_module": "@jupyter-widgets/base",
          "model_name": "LayoutModel",
          "model_module_version": "1.2.0",
          "state": {
            "_view_name": "LayoutView",
            "grid_template_rows": null,
            "right": null,
            "justify_content": null,
            "_view_module": "@jupyter-widgets/base",
            "overflow": null,
            "_model_module_version": "1.2.0",
            "_view_count": null,
            "flex_flow": null,
            "width": null,
            "min_width": null,
            "border": null,
            "align_items": null,
            "bottom": null,
            "_model_module": "@jupyter-widgets/base",
            "top": null,
            "grid_column": null,
            "overflow_y": null,
            "overflow_x": null,
            "grid_auto_flow": null,
            "grid_area": null,
            "grid_template_columns": null,
            "flex": null,
            "_model_name": "LayoutModel",
            "justify_items": null,
            "grid_row": null,
            "max_height": null,
            "align_content": null,
            "visibility": null,
            "align_self": null,
            "height": null,
            "min_height": null,
            "padding": null,
            "grid_auto_rows": null,
            "grid_gap": null,
            "max_width": null,
            "order": null,
            "_view_module_version": "1.2.0",
            "grid_template_areas": null,
            "object_position": null,
            "object_fit": null,
            "grid_auto_columns": null,
            "margin": null,
            "display": null,
            "left": null
          }
        },
        "7e876a1042ec4d088ce6a0f9346fd50b": {
          "model_module": "@jupyter-widgets/controls",
          "model_name": "HBoxModel",
          "model_module_version": "1.5.0",
          "state": {
            "_view_name": "HBoxView",
            "_dom_classes": [],
            "_model_name": "HBoxModel",
            "_view_module": "@jupyter-widgets/controls",
            "_model_module_version": "1.5.0",
            "_view_count": null,
            "_view_module_version": "1.5.0",
            "box_style": "",
            "layout": "IPY_MODEL_0b6bd44634dd4ec7bf8b07c0cf53c0c7",
            "_model_module": "@jupyter-widgets/controls",
            "children": [
              "IPY_MODEL_46465d3470874912bbdf7f77deb9077d",
              "IPY_MODEL_1c4bc7c33aaf4a55b3b7bb88a75ad813",
              "IPY_MODEL_d646ddd7908845d3b0bfc689c1d69ee8"
            ]
          }
        },
        "0b6bd44634dd4ec7bf8b07c0cf53c0c7": {
          "model_module": "@jupyter-widgets/base",
          "model_name": "LayoutModel",
          "model_module_version": "1.2.0",
          "state": {
            "_view_name": "LayoutView",
            "grid_template_rows": null,
            "right": null,
            "justify_content": null,
            "_view_module": "@jupyter-widgets/base",
            "overflow": null,
            "_model_module_version": "1.2.0",
            "_view_count": null,
            "flex_flow": null,
            "width": null,
            "min_width": null,
            "border": null,
            "align_items": null,
            "bottom": null,
            "_model_module": "@jupyter-widgets/base",
            "top": null,
            "grid_column": null,
            "overflow_y": null,
            "overflow_x": null,
            "grid_auto_flow": null,
            "grid_area": null,
            "grid_template_columns": null,
            "flex": null,
            "_model_name": "LayoutModel",
            "justify_items": null,
            "grid_row": null,
            "max_height": null,
            "align_content": null,
            "visibility": null,
            "align_self": null,
            "height": null,
            "min_height": null,
            "padding": null,
            "grid_auto_rows": null,
            "grid_gap": null,
            "max_width": null,
            "order": null,
            "_view_module_version": "1.2.0",
            "grid_template_areas": null,
            "object_position": null,
            "object_fit": null,
            "grid_auto_columns": null,
            "margin": null,
            "display": null,
            "left": null
          }
        },
        "46465d3470874912bbdf7f77deb9077d": {
          "model_module": "@jupyter-widgets/controls",
          "model_name": "HTMLModel",
          "model_module_version": "1.5.0",
          "state": {
            "_view_name": "HTMLView",
            "style": "IPY_MODEL_a53c0018b43e4698800521af6c4de565",
            "_dom_classes": [],
            "description": "",
            "_model_name": "HTMLModel",
            "placeholder": "​",
            "_view_module": "@jupyter-widgets/controls",
            "_model_module_version": "1.5.0",
            "value": "100%",
            "_view_count": null,
            "_view_module_version": "1.5.0",
            "description_tooltip": null,
            "_model_module": "@jupyter-widgets/controls",
            "layout": "IPY_MODEL_1aeb4e6108454b2e86c5ab2fb529b422"
          }
        },
        "1c4bc7c33aaf4a55b3b7bb88a75ad813": {
          "model_module": "@jupyter-widgets/controls",
          "model_name": "FloatProgressModel",
          "model_module_version": "1.5.0",
          "state": {
            "_view_name": "ProgressView",
            "style": "IPY_MODEL_1cbc27c5654f4acda13309d406448146",
            "_dom_classes": [],
            "description": "",
            "_model_name": "FloatProgressModel",
            "bar_style": "success",
            "max": 100000,
            "_view_module": "@jupyter-widgets/controls",
            "_model_module_version": "1.5.0",
            "value": 100000,
            "_view_count": null,
            "_view_module_version": "1.5.0",
            "orientation": "horizontal",
            "min": 0,
            "description_tooltip": null,
            "_model_module": "@jupyter-widgets/controls",
            "layout": "IPY_MODEL_a4040fe298f14f7389c00b922662a178"
          }
        },
        "d646ddd7908845d3b0bfc689c1d69ee8": {
          "model_module": "@jupyter-widgets/controls",
          "model_name": "HTMLModel",
          "model_module_version": "1.5.0",
          "state": {
            "_view_name": "HTMLView",
            "style": "IPY_MODEL_874f1ac9bc0847f5a028c212183910dd",
            "_dom_classes": [],
            "description": "",
            "_model_name": "HTMLModel",
            "placeholder": "​",
            "_view_module": "@jupyter-widgets/controls",
            "_model_module_version": "1.5.0",
            "value": " 100000/100000 [04:11&lt;00:00, 382.69it/s]",
            "_view_count": null,
            "_view_module_version": "1.5.0",
            "description_tooltip": null,
            "_model_module": "@jupyter-widgets/controls",
            "layout": "IPY_MODEL_61fb05c675974bf8bad69aea4851e572"
          }
        },
        "a53c0018b43e4698800521af6c4de565": {
          "model_module": "@jupyter-widgets/controls",
          "model_name": "DescriptionStyleModel",
          "model_module_version": "1.5.0",
          "state": {
            "_view_name": "StyleView",
            "_model_name": "DescriptionStyleModel",
            "description_width": "",
            "_view_module": "@jupyter-widgets/base",
            "_model_module_version": "1.5.0",
            "_view_count": null,
            "_view_module_version": "1.2.0",
            "_model_module": "@jupyter-widgets/controls"
          }
        },
        "1aeb4e6108454b2e86c5ab2fb529b422": {
          "model_module": "@jupyter-widgets/base",
          "model_name": "LayoutModel",
          "model_module_version": "1.2.0",
          "state": {
            "_view_name": "LayoutView",
            "grid_template_rows": null,
            "right": null,
            "justify_content": null,
            "_view_module": "@jupyter-widgets/base",
            "overflow": null,
            "_model_module_version": "1.2.0",
            "_view_count": null,
            "flex_flow": null,
            "width": null,
            "min_width": null,
            "border": null,
            "align_items": null,
            "bottom": null,
            "_model_module": "@jupyter-widgets/base",
            "top": null,
            "grid_column": null,
            "overflow_y": null,
            "overflow_x": null,
            "grid_auto_flow": null,
            "grid_area": null,
            "grid_template_columns": null,
            "flex": null,
            "_model_name": "LayoutModel",
            "justify_items": null,
            "grid_row": null,
            "max_height": null,
            "align_content": null,
            "visibility": null,
            "align_self": null,
            "height": null,
            "min_height": null,
            "padding": null,
            "grid_auto_rows": null,
            "grid_gap": null,
            "max_width": null,
            "order": null,
            "_view_module_version": "1.2.0",
            "grid_template_areas": null,
            "object_position": null,
            "object_fit": null,
            "grid_auto_columns": null,
            "margin": null,
            "display": null,
            "left": null
          }
        },
        "1cbc27c5654f4acda13309d406448146": {
          "model_module": "@jupyter-widgets/controls",
          "model_name": "ProgressStyleModel",
          "model_module_version": "1.5.0",
          "state": {
            "_view_name": "StyleView",
            "_model_name": "ProgressStyleModel",
            "description_width": "",
            "_view_module": "@jupyter-widgets/base",
            "_model_module_version": "1.5.0",
            "_view_count": null,
            "_view_module_version": "1.2.0",
            "bar_color": null,
            "_model_module": "@jupyter-widgets/controls"
          }
        },
        "a4040fe298f14f7389c00b922662a178": {
          "model_module": "@jupyter-widgets/base",
          "model_name": "LayoutModel",
          "model_module_version": "1.2.0",
          "state": {
            "_view_name": "LayoutView",
            "grid_template_rows": null,
            "right": null,
            "justify_content": null,
            "_view_module": "@jupyter-widgets/base",
            "overflow": null,
            "_model_module_version": "1.2.0",
            "_view_count": null,
            "flex_flow": null,
            "width": null,
            "min_width": null,
            "border": null,
            "align_items": null,
            "bottom": null,
            "_model_module": "@jupyter-widgets/base",
            "top": null,
            "grid_column": null,
            "overflow_y": null,
            "overflow_x": null,
            "grid_auto_flow": null,
            "grid_area": null,
            "grid_template_columns": null,
            "flex": null,
            "_model_name": "LayoutModel",
            "justify_items": null,
            "grid_row": null,
            "max_height": null,
            "align_content": null,
            "visibility": null,
            "align_self": null,
            "height": null,
            "min_height": null,
            "padding": null,
            "grid_auto_rows": null,
            "grid_gap": null,
            "max_width": null,
            "order": null,
            "_view_module_version": "1.2.0",
            "grid_template_areas": null,
            "object_position": null,
            "object_fit": null,
            "grid_auto_columns": null,
            "margin": null,
            "display": null,
            "left": null
          }
        },
        "874f1ac9bc0847f5a028c212183910dd": {
          "model_module": "@jupyter-widgets/controls",
          "model_name": "DescriptionStyleModel",
          "model_module_version": "1.5.0",
          "state": {
            "_view_name": "StyleView",
            "_model_name": "DescriptionStyleModel",
            "description_width": "",
            "_view_module": "@jupyter-widgets/base",
            "_model_module_version": "1.5.0",
            "_view_count": null,
            "_view_module_version": "1.2.0",
            "_model_module": "@jupyter-widgets/controls"
          }
        },
        "61fb05c675974bf8bad69aea4851e572": {
          "model_module": "@jupyter-widgets/base",
          "model_name": "LayoutModel",
          "model_module_version": "1.2.0",
          "state": {
            "_view_name": "LayoutView",
            "grid_template_rows": null,
            "right": null,
            "justify_content": null,
            "_view_module": "@jupyter-widgets/base",
            "overflow": null,
            "_model_module_version": "1.2.0",
            "_view_count": null,
            "flex_flow": null,
            "width": null,
            "min_width": null,
            "border": null,
            "align_items": null,
            "bottom": null,
            "_model_module": "@jupyter-widgets/base",
            "top": null,
            "grid_column": null,
            "overflow_y": null,
            "overflow_x": null,
            "grid_auto_flow": null,
            "grid_area": null,
            "grid_template_columns": null,
            "flex": null,
            "_model_name": "LayoutModel",
            "justify_items": null,
            "grid_row": null,
            "max_height": null,
            "align_content": null,
            "visibility": null,
            "align_self": null,
            "height": null,
            "min_height": null,
            "padding": null,
            "grid_auto_rows": null,
            "grid_gap": null,
            "max_width": null,
            "order": null,
            "_view_module_version": "1.2.0",
            "grid_template_areas": null,
            "object_position": null,
            "object_fit": null,
            "grid_auto_columns": null,
            "margin": null,
            "display": null,
            "left": null
          }
        }
      }
    }
  },
  "nbformat": 4,
  "nbformat_minor": 0
}